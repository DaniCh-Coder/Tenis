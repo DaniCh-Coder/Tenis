{
 "cells": [
  {
   "cell_type": "markdown",
   "id": "8a2da021-e26d-4f6b-b8be-417d4e047178",
   "metadata": {},
   "source": [
    "# Data Wrangling - Tenis Case"
   ]
  },
  {
   "cell_type": "markdown",
   "id": "5c37da62-2bda-4889-82c9-d88596e765c2",
   "metadata": {},
   "source": [
    "## Tenis Case Description"
   ]
  },
  {
   "cell_type": "markdown",
   "id": "1a5157fc-b23a-4b21-adfd-db065a1f6e82",
   "metadata": {
    "tags": []
   },
   "source": [
    "### Dataframe creation - From opening the file\n",
    "###### See referemces amd recomendations in: https://pandas.pydata.org/docs/user_guide/io.html"
   ]
  },
  {
   "cell_type": "code",
   "execution_count": 1,
   "id": "26eefc06-40a0-41ba-aaf1-040652dd92c8",
   "metadata": {},
   "outputs": [],
   "source": [
    "# Import Libraries\n",
    "import pandas as pd\n",
    "import numpy as np"
   ]
  },
  {
   "cell_type": "code",
   "execution_count": 2,
   "id": "00a9a71b-e76d-455b-a2c8-6f74d3807d23",
   "metadata": {
    "tags": []
   },
   "outputs": [],
   "source": [
    "# Definir path and name of the file\n",
    "# path = complete if it is necesary\n",
    "file_name = \"Canchas 0.2.xlsx\""
   ]
  },
  {
   "cell_type": "code",
   "execution_count": 3,
   "id": "ddd7ec65-d243-4891-b71f-d7486ce0664a",
   "metadata": {},
   "outputs": [],
   "source": [
    "# Read the file - Load in df Dataframe\n",
    "df = pd.read_excel(file_name, sheet_name=\"Hoja1\")"
   ]
  },
  {
   "cell_type": "markdown",
   "id": "16218d69-bef5-4b37-85e4-5739d2ad14e8",
   "metadata": {
    "jp-MarkdownHeadingCollapsed": true,
    "tags": []
   },
   "source": [
    "### Data Observation\n",
    "###### See references and recomendatons in: https://pandas.pydata.org/docs/user_guide/basics.html"
   ]
  },
  {
   "cell_type": "code",
   "execution_count": 4,
   "id": "fc4729a9-f9ac-4eb8-ac09-f2ac24d5462f",
   "metadata": {},
   "outputs": [
    {
     "data": {
      "text/plain": [
       "Index(['reserva ', 'fecha', 'hora', 'servicio', 'mza-lote', 'casa',\n",
       "       'Unnamed: 6'],\n",
       "      dtype='object')"
      ]
     },
     "execution_count": 4,
     "metadata": {},
     "output_type": "execute_result"
    }
   ],
   "source": [
    "# Check names of columns\n",
    "df.columns"
   ]
  },
  {
   "cell_type": "code",
   "execution_count": 5,
   "id": "5e61a234-7137-47df-86d5-73c86546a2c4",
   "metadata": {},
   "outputs": [
    {
     "data": {
      "text/plain": [
       "reserva                int64\n",
       "fecha         datetime64[ns]\n",
       "hora                  object\n",
       "servicio              object\n",
       "mza-lote              object\n",
       "casa                  object\n",
       "Unnamed: 6            object\n",
       "dtype: object"
      ]
     },
     "execution_count": 5,
     "metadata": {},
     "output_type": "execute_result"
    }
   ],
   "source": [
    "# Check data tipes\n",
    "df.dtypes"
   ]
  },
  {
   "cell_type": "markdown",
   "id": "4eb111e1-4fdc-44d1-b31b-41a34371093f",
   "metadata": {},
   "source": [
    "Warning: Date types incorrect or not apropiate. Correction is needed. (Above)"
   ]
  },
  {
   "cell_type": "code",
   "execution_count": 6,
   "id": "f648a941-70c2-421a-9579-6f21c913f566",
   "metadata": {},
   "outputs": [
    {
     "data": {
      "text/html": [
       "<div>\n",
       "<style scoped>\n",
       "    .dataframe tbody tr th:only-of-type {\n",
       "        vertical-align: middle;\n",
       "    }\n",
       "\n",
       "    .dataframe tbody tr th {\n",
       "        vertical-align: top;\n",
       "    }\n",
       "\n",
       "    .dataframe thead th {\n",
       "        text-align: right;\n",
       "    }\n",
       "</style>\n",
       "<table border=\"1\" class=\"dataframe\">\n",
       "  <thead>\n",
       "    <tr style=\"text-align: right;\">\n",
       "      <th></th>\n",
       "      <th>reserva</th>\n",
       "      <th>fecha</th>\n",
       "      <th>hora</th>\n",
       "      <th>servicio</th>\n",
       "      <th>mza-lote</th>\n",
       "      <th>casa</th>\n",
       "      <th>Unnamed: 6</th>\n",
       "    </tr>\n",
       "  </thead>\n",
       "  <tbody>\n",
       "    <tr>\n",
       "      <th>0</th>\n",
       "      <td>8219516</td>\n",
       "      <td>2023-07-08</td>\n",
       "      <td>16:00:00</td>\n",
       "      <td>Tenis - Cancha 2</td>\n",
       "      <td>APROBADA</td>\n",
       "      <td>M-03</td>\n",
       "      <td>NaN</td>\n",
       "    </tr>\n",
       "    <tr>\n",
       "      <th>1</th>\n",
       "      <td>8218607</td>\n",
       "      <td>2023-07-08</td>\n",
       "      <td>16:00:00</td>\n",
       "      <td>Tenis - Cancha 1</td>\n",
       "      <td>APROBADA</td>\n",
       "      <td>F-04</td>\n",
       "      <td>NaN</td>\n",
       "    </tr>\n",
       "    <tr>\n",
       "      <th>2</th>\n",
       "      <td>8217992</td>\n",
       "      <td>2023-07-08</td>\n",
       "      <td>13:00:00</td>\n",
       "      <td>Tenis - Cancha 1</td>\n",
       "      <td>APROBADA</td>\n",
       "      <td>G-12</td>\n",
       "      <td>NaN</td>\n",
       "    </tr>\n",
       "    <tr>\n",
       "      <th>3</th>\n",
       "      <td>8212103</td>\n",
       "      <td>2023-07-07</td>\n",
       "      <td>11:00:00</td>\n",
       "      <td>Tenis - Cancha 1</td>\n",
       "      <td>APROBADA</td>\n",
       "      <td>A-52</td>\n",
       "      <td>NaN</td>\n",
       "    </tr>\n",
       "    <tr>\n",
       "      <th>4</th>\n",
       "      <td>8196830</td>\n",
       "      <td>2023-07-04</td>\n",
       "      <td>16:00:00</td>\n",
       "      <td>Tenis - Cancha 1</td>\n",
       "      <td>APROBADA</td>\n",
       "      <td>K-04</td>\n",
       "      <td>NaN</td>\n",
       "    </tr>\n",
       "    <tr>\n",
       "      <th>...</th>\n",
       "      <td>...</td>\n",
       "      <td>...</td>\n",
       "      <td>...</td>\n",
       "      <td>...</td>\n",
       "      <td>...</td>\n",
       "      <td>...</td>\n",
       "      <td>...</td>\n",
       "    </tr>\n",
       "    <tr>\n",
       "      <th>349</th>\n",
       "      <td>1712511</td>\n",
       "      <td>2020-12-04</td>\n",
       "      <td>18:00 CON LUZ</td>\n",
       "      <td>Tenis - Cancha 1</td>\n",
       "      <td>APROBADA</td>\n",
       "      <td>PRUEBA</td>\n",
       "      <td>NaN</td>\n",
       "    </tr>\n",
       "    <tr>\n",
       "      <th>350</th>\n",
       "      <td>1712222</td>\n",
       "      <td>2020-12-04</td>\n",
       "      <td>17:00:00</td>\n",
       "      <td>Tenis - Cancha 1</td>\n",
       "      <td>APROBADA</td>\n",
       "      <td>E-08</td>\n",
       "      <td>NaN</td>\n",
       "    </tr>\n",
       "    <tr>\n",
       "      <th>351</th>\n",
       "      <td>1687608</td>\n",
       "      <td>2020-12-02</td>\n",
       "      <td>19:00 CON LUZ</td>\n",
       "      <td>Tenis - Cancha 2</td>\n",
       "      <td>APROBADA</td>\n",
       "      <td>H-07</td>\n",
       "      <td>NaN</td>\n",
       "    </tr>\n",
       "    <tr>\n",
       "      <th>352</th>\n",
       "      <td>1687243</td>\n",
       "      <td>2020-12-02</td>\n",
       "      <td>18:00 CON LUZ</td>\n",
       "      <td>Tenis - Cancha 1</td>\n",
       "      <td>APROBADA</td>\n",
       "      <td>M-03</td>\n",
       "      <td>NaN</td>\n",
       "    </tr>\n",
       "    <tr>\n",
       "      <th>353</th>\n",
       "      <td>1652644</td>\n",
       "      <td>2020-11-26</td>\n",
       "      <td>16:00:00</td>\n",
       "      <td>Tenis - Cancha 1</td>\n",
       "      <td>APROBADA</td>\n",
       "      <td>N-09</td>\n",
       "      <td>NaN</td>\n",
       "    </tr>\n",
       "  </tbody>\n",
       "</table>\n",
       "<p>354 rows × 7 columns</p>\n",
       "</div>"
      ],
      "text/plain": [
       "     reserva       fecha           hora          servicio  mza-lote    casa  \\\n",
       "0     8219516 2023-07-08       16:00:00  Tenis - Cancha 2  APROBADA    M-03   \n",
       "1     8218607 2023-07-08       16:00:00  Tenis - Cancha 1  APROBADA    F-04   \n",
       "2     8217992 2023-07-08       13:00:00  Tenis - Cancha 1  APROBADA    G-12   \n",
       "3     8212103 2023-07-07       11:00:00  Tenis - Cancha 1  APROBADA    A-52   \n",
       "4     8196830 2023-07-04       16:00:00  Tenis - Cancha 1  APROBADA    K-04   \n",
       "..        ...        ...            ...               ...       ...     ...   \n",
       "349   1712511 2020-12-04  18:00 CON LUZ  Tenis - Cancha 1  APROBADA  PRUEBA   \n",
       "350   1712222 2020-12-04       17:00:00  Tenis - Cancha 1  APROBADA    E-08   \n",
       "351   1687608 2020-12-02  19:00 CON LUZ  Tenis - Cancha 2  APROBADA    H-07   \n",
       "352   1687243 2020-12-02  18:00 CON LUZ  Tenis - Cancha 1  APROBADA    M-03   \n",
       "353   1652644 2020-11-26       16:00:00  Tenis - Cancha 1  APROBADA    N-09   \n",
       "\n",
       "    Unnamed: 6  \n",
       "0          NaN  \n",
       "1          NaN  \n",
       "2          NaN  \n",
       "3          NaN  \n",
       "4          NaN  \n",
       "..         ...  \n",
       "349        NaN  \n",
       "350        NaN  \n",
       "351        NaN  \n",
       "352        NaN  \n",
       "353        NaN  \n",
       "\n",
       "[354 rows x 7 columns]"
      ]
     },
     "execution_count": 6,
     "metadata": {},
     "output_type": "execute_result"
    }
   ],
   "source": [
    "# Check first 5 rows\n",
    "df"
   ]
  },
  {
   "cell_type": "markdown",
   "id": "da161cff-acbd-4f44-b0ac-1dffcac34fc0",
   "metadata": {},
   "source": [
    "Warning: A column seems to be left over. Name inconsistency and full of \"NaN\". Correction needed. (Above)"
   ]
  },
  {
   "cell_type": "markdown",
   "id": "ec48a40a-d2f8-4786-a1b7-3971881c0a47",
   "metadata": {},
   "source": [
    "<h4>Statistical Summary</h4>\n",
    "df.describe()"
   ]
  },
  {
   "cell_type": "code",
   "execution_count": 7,
   "id": "8ce33b9a-17c7-43cb-b82b-cfee0e04f240",
   "metadata": {},
   "outputs": [
    {
     "name": "stderr",
     "output_type": "stream",
     "text": [
      "/tmp/ipykernel_697/4220128335.py:1: FutureWarning: Treating datetime data as categorical rather than numeric in `.describe` is deprecated and will be removed in a future version of pandas. Specify `datetime_is_numeric=True` to silence this warning and adopt the future behavior now.\n",
      "  df.describe(include = 'all')\n"
     ]
    },
    {
     "data": {
      "text/html": [
       "<div>\n",
       "<style scoped>\n",
       "    .dataframe tbody tr th:only-of-type {\n",
       "        vertical-align: middle;\n",
       "    }\n",
       "\n",
       "    .dataframe tbody tr th {\n",
       "        vertical-align: top;\n",
       "    }\n",
       "\n",
       "    .dataframe thead th {\n",
       "        text-align: right;\n",
       "    }\n",
       "</style>\n",
       "<table border=\"1\" class=\"dataframe\">\n",
       "  <thead>\n",
       "    <tr style=\"text-align: right;\">\n",
       "      <th></th>\n",
       "      <th>reserva</th>\n",
       "      <th>fecha</th>\n",
       "      <th>hora</th>\n",
       "      <th>servicio</th>\n",
       "      <th>mza-lote</th>\n",
       "      <th>casa</th>\n",
       "      <th>Unnamed: 6</th>\n",
       "    </tr>\n",
       "  </thead>\n",
       "  <tbody>\n",
       "    <tr>\n",
       "      <th>count</th>\n",
       "      <td>3.540000e+02</td>\n",
       "      <td>354</td>\n",
       "      <td>354</td>\n",
       "      <td>354</td>\n",
       "      <td>354</td>\n",
       "      <td>353</td>\n",
       "      <td>2</td>\n",
       "    </tr>\n",
       "    <tr>\n",
       "      <th>unique</th>\n",
       "      <td>NaN</td>\n",
       "      <td>262</td>\n",
       "      <td>13</td>\n",
       "      <td>2</td>\n",
       "      <td>1</td>\n",
       "      <td>43</td>\n",
       "      <td>1</td>\n",
       "    </tr>\n",
       "    <tr>\n",
       "      <th>top</th>\n",
       "      <td>NaN</td>\n",
       "      <td>2023-03-14 00:00:00</td>\n",
       "      <td>18:00 CON LUZ</td>\n",
       "      <td>Tenis - Cancha 1</td>\n",
       "      <td>APROBADA</td>\n",
       "      <td>G-07</td>\n",
       "      <td>18 a 24hs. (Únicamente LOS DOMINGOS)</td>\n",
       "    </tr>\n",
       "    <tr>\n",
       "      <th>freq</th>\n",
       "      <td>NaN</td>\n",
       "      <td>14</td>\n",
       "      <td>63</td>\n",
       "      <td>309</td>\n",
       "      <td>354</td>\n",
       "      <td>57</td>\n",
       "      <td>2</td>\n",
       "    </tr>\n",
       "    <tr>\n",
       "      <th>first</th>\n",
       "      <td>NaN</td>\n",
       "      <td>2020-11-26 00:00:00</td>\n",
       "      <td>NaN</td>\n",
       "      <td>NaN</td>\n",
       "      <td>NaN</td>\n",
       "      <td>NaN</td>\n",
       "      <td>NaN</td>\n",
       "    </tr>\n",
       "    <tr>\n",
       "      <th>last</th>\n",
       "      <td>NaN</td>\n",
       "      <td>2023-07-08 00:00:00</td>\n",
       "      <td>NaN</td>\n",
       "      <td>NaN</td>\n",
       "      <td>NaN</td>\n",
       "      <td>NaN</td>\n",
       "      <td>NaN</td>\n",
       "    </tr>\n",
       "    <tr>\n",
       "      <th>mean</th>\n",
       "      <td>5.279749e+06</td>\n",
       "      <td>NaN</td>\n",
       "      <td>NaN</td>\n",
       "      <td>NaN</td>\n",
       "      <td>NaN</td>\n",
       "      <td>NaN</td>\n",
       "      <td>NaN</td>\n",
       "    </tr>\n",
       "    <tr>\n",
       "      <th>std</th>\n",
       "      <td>2.188869e+06</td>\n",
       "      <td>NaN</td>\n",
       "      <td>NaN</td>\n",
       "      <td>NaN</td>\n",
       "      <td>NaN</td>\n",
       "      <td>NaN</td>\n",
       "      <td>NaN</td>\n",
       "    </tr>\n",
       "    <tr>\n",
       "      <th>min</th>\n",
       "      <td>3.700000e+01</td>\n",
       "      <td>NaN</td>\n",
       "      <td>NaN</td>\n",
       "      <td>NaN</td>\n",
       "      <td>NaN</td>\n",
       "      <td>NaN</td>\n",
       "      <td>NaN</td>\n",
       "    </tr>\n",
       "    <tr>\n",
       "      <th>25%</th>\n",
       "      <td>3.639766e+06</td>\n",
       "      <td>NaN</td>\n",
       "      <td>NaN</td>\n",
       "      <td>NaN</td>\n",
       "      <td>NaN</td>\n",
       "      <td>NaN</td>\n",
       "      <td>NaN</td>\n",
       "    </tr>\n",
       "    <tr>\n",
       "      <th>50%</th>\n",
       "      <td>5.117049e+06</td>\n",
       "      <td>NaN</td>\n",
       "      <td>NaN</td>\n",
       "      <td>NaN</td>\n",
       "      <td>NaN</td>\n",
       "      <td>NaN</td>\n",
       "      <td>NaN</td>\n",
       "    </tr>\n",
       "    <tr>\n",
       "      <th>75%</th>\n",
       "      <td>7.582476e+06</td>\n",
       "      <td>NaN</td>\n",
       "      <td>NaN</td>\n",
       "      <td>NaN</td>\n",
       "      <td>NaN</td>\n",
       "      <td>NaN</td>\n",
       "      <td>NaN</td>\n",
       "    </tr>\n",
       "    <tr>\n",
       "      <th>max</th>\n",
       "      <td>8.219516e+06</td>\n",
       "      <td>NaN</td>\n",
       "      <td>NaN</td>\n",
       "      <td>NaN</td>\n",
       "      <td>NaN</td>\n",
       "      <td>NaN</td>\n",
       "      <td>NaN</td>\n",
       "    </tr>\n",
       "  </tbody>\n",
       "</table>\n",
       "</div>"
      ],
      "text/plain": [
       "            reserva                 fecha           hora          servicio  \\\n",
       "count   3.540000e+02                  354            354               354   \n",
       "unique           NaN                  262             13                 2   \n",
       "top              NaN  2023-03-14 00:00:00  18:00 CON LUZ  Tenis - Cancha 1   \n",
       "freq             NaN                   14             63               309   \n",
       "first            NaN  2020-11-26 00:00:00            NaN               NaN   \n",
       "last             NaN  2023-07-08 00:00:00            NaN               NaN   \n",
       "mean    5.279749e+06                  NaN            NaN               NaN   \n",
       "std     2.188869e+06                  NaN            NaN               NaN   \n",
       "min     3.700000e+01                  NaN            NaN               NaN   \n",
       "25%     3.639766e+06                  NaN            NaN               NaN   \n",
       "50%     5.117049e+06                  NaN            NaN               NaN   \n",
       "75%     7.582476e+06                  NaN            NaN               NaN   \n",
       "max     8.219516e+06                  NaN            NaN               NaN   \n",
       "\n",
       "        mza-lote  casa                            Unnamed: 6  \n",
       "count        354   353                                     2  \n",
       "unique         1    43                                     1  \n",
       "top     APROBADA  G-07  18 a 24hs. (Únicamente LOS DOMINGOS)  \n",
       "freq         354    57                                     2  \n",
       "first        NaN   NaN                                   NaN  \n",
       "last         NaN   NaN                                   NaN  \n",
       "mean         NaN   NaN                                   NaN  \n",
       "std          NaN   NaN                                   NaN  \n",
       "min          NaN   NaN                                   NaN  \n",
       "25%          NaN   NaN                                   NaN  \n",
       "50%          NaN   NaN                                   NaN  \n",
       "75%          NaN   NaN                                   NaN  \n",
       "max          NaN   NaN                                   NaN  "
      ]
     },
     "execution_count": 7,
     "metadata": {},
     "output_type": "execute_result"
    }
   ],
   "source": [
    "df.describe(include = 'all')"
   ]
  },
  {
   "cell_type": "markdown",
   "id": "64787d5b-6747-4b14-a8b0-1d1b0f5f50fb",
   "metadata": {
    "jp-MarkdownHeadingCollapsed": true,
    "tags": []
   },
   "source": [
    "<h2>Evaluating for Missing Data</h2>\n",
    "\n",
    "The missing values are converted by default. We use the following functions to identify these missing values. There are two methods to detect missing data:\n",
    "<ol>\n",
    "    <li><b>.isnull()</b></li>\n",
    "    <li><b>.notnull()</b></li>\n",
    "</ol>\n",
    "The output is a boolean value indicating whether the value that is passed into the argument is in fact missing data.\n"
   ]
  },
  {
   "cell_type": "markdown",
   "id": "b2abdf45-873a-43af-a71d-0219088b20ff",
   "metadata": {},
   "source": [
    "<h3 id=\"deal_missing_values\">Deal with missing data</h3>\n",
    "<b>How to deal with missing data?</b>\n",
    "\n",
    "<ol>\n",
    "    <li>Drop data<br>\n",
    "        a. Drop the whole row<br>\n",
    "        b. Drop the whole column\n",
    "    </li>\n",
    "    <li>Replace data<br>\n",
    "        a. Replace it by mean<br>\n",
    "        b. Replace it by frequency<br>\n",
    "        c. Replace it based on other functions\n",
    "    </li>\n",
    "</ol>"
   ]
  },
  {
   "cell_type": "code",
   "execution_count": 8,
   "id": "11ff192b-797e-41a5-aa71-3c0d1a040ad8",
   "metadata": {},
   "outputs": [
    {
     "data": {
      "text/html": [
       "<div>\n",
       "<style scoped>\n",
       "    .dataframe tbody tr th:only-of-type {\n",
       "        vertical-align: middle;\n",
       "    }\n",
       "\n",
       "    .dataframe tbody tr th {\n",
       "        vertical-align: top;\n",
       "    }\n",
       "\n",
       "    .dataframe thead th {\n",
       "        text-align: right;\n",
       "    }\n",
       "</style>\n",
       "<table border=\"1\" class=\"dataframe\">\n",
       "  <thead>\n",
       "    <tr style=\"text-align: right;\">\n",
       "      <th></th>\n",
       "      <th>reserva</th>\n",
       "      <th>fecha</th>\n",
       "      <th>hora</th>\n",
       "      <th>servicio</th>\n",
       "      <th>mza-lote</th>\n",
       "      <th>casa</th>\n",
       "      <th>Unnamed: 6</th>\n",
       "    </tr>\n",
       "  </thead>\n",
       "  <tbody>\n",
       "    <tr>\n",
       "      <th>0</th>\n",
       "      <td>False</td>\n",
       "      <td>False</td>\n",
       "      <td>False</td>\n",
       "      <td>False</td>\n",
       "      <td>False</td>\n",
       "      <td>False</td>\n",
       "      <td>True</td>\n",
       "    </tr>\n",
       "    <tr>\n",
       "      <th>1</th>\n",
       "      <td>False</td>\n",
       "      <td>False</td>\n",
       "      <td>False</td>\n",
       "      <td>False</td>\n",
       "      <td>False</td>\n",
       "      <td>False</td>\n",
       "      <td>True</td>\n",
       "    </tr>\n",
       "    <tr>\n",
       "      <th>2</th>\n",
       "      <td>False</td>\n",
       "      <td>False</td>\n",
       "      <td>False</td>\n",
       "      <td>False</td>\n",
       "      <td>False</td>\n",
       "      <td>False</td>\n",
       "      <td>True</td>\n",
       "    </tr>\n",
       "    <tr>\n",
       "      <th>3</th>\n",
       "      <td>False</td>\n",
       "      <td>False</td>\n",
       "      <td>False</td>\n",
       "      <td>False</td>\n",
       "      <td>False</td>\n",
       "      <td>False</td>\n",
       "      <td>True</td>\n",
       "    </tr>\n",
       "    <tr>\n",
       "      <th>4</th>\n",
       "      <td>False</td>\n",
       "      <td>False</td>\n",
       "      <td>False</td>\n",
       "      <td>False</td>\n",
       "      <td>False</td>\n",
       "      <td>False</td>\n",
       "      <td>True</td>\n",
       "    </tr>\n",
       "  </tbody>\n",
       "</table>\n",
       "</div>"
      ],
      "text/plain": [
       "   reserva   fecha   hora  servicio  mza-lote   casa  Unnamed: 6\n",
       "0     False  False  False     False     False  False        True\n",
       "1     False  False  False     False     False  False        True\n",
       "2     False  False  False     False     False  False        True\n",
       "3     False  False  False     False     False  False        True\n",
       "4     False  False  False     False     False  False        True"
      ]
     },
     "execution_count": 8,
     "metadata": {},
     "output_type": "execute_result"
    }
   ],
   "source": [
    "# New dataframe with rows true/false that have null elements\n",
    "missing_data = df.isnull()\n",
    "missing_data.head(5)\n",
    "# True means is null, False the opossite"
   ]
  },
  {
   "cell_type": "markdown",
   "id": "301d1095-d356-41b7-9f82-699e24720ab5",
   "metadata": {},
   "source": [
    "Warning: 'Unnamed 6' full of null values."
   ]
  },
  {
   "cell_type": "code",
   "execution_count": 9,
   "id": "9606ffbc-f427-46fb-a683-fea24bf9b55a",
   "metadata": {},
   "outputs": [
    {
     "data": {
      "text/plain": [
       "reserva       False\n",
       "fecha         False\n",
       "hora          False\n",
       "servicio      False\n",
       "mza-lote      False\n",
       "casa           True\n",
       "Unnamed: 6     True\n",
       "dtype: bool"
      ]
     },
     "execution_count": 9,
     "metadata": {},
     "output_type": "execute_result"
    }
   ],
   "source": [
    "# Check if there is null values in \"all data frame\"\n",
    "df.isna().any(axis=0)"
   ]
  },
  {
   "cell_type": "markdown",
   "id": "4f673148-0faf-4289-add0-415a90eb3f2d",
   "metadata": {},
   "source": [
    "Warning: There is null values in casa and 'Unnamed: 6' column. (Above)"
   ]
  },
  {
   "cell_type": "code",
   "execution_count": 10,
   "id": "29912fef-5551-4633-b599-26b5e5a69872",
   "metadata": {},
   "outputs": [
    {
     "data": {
      "text/plain": [
       "Index([], dtype='object')"
      ]
     },
     "execution_count": 10,
     "metadata": {},
     "output_type": "execute_result"
    }
   ],
   "source": [
    "# Find unnamed columns\n",
    "unnamed_columns = df.columns[df.columns == '']\n",
    "unnamed_columns\n",
    "# Si todas las columnas tienen nombre retorna false Index([], dtype='object'"
   ]
  },
  {
   "cell_type": "code",
   "execution_count": 11,
   "id": "1656610a-7ce3-4956-99b6-bcad2ea4999d",
   "metadata": {},
   "outputs": [
    {
     "data": {
      "text/plain": [
       "Index(['reserva ', 'fecha', 'hora', 'servicio', 'mza-lote', 'casa',\n",
       "       'Unnamed: 6'],\n",
       "      dtype='object')"
      ]
     },
     "execution_count": 11,
     "metadata": {},
     "output_type": "execute_result"
    }
   ],
   "source": [
    "# Find named columns\n",
    "unnamed_columns = df.columns[df.columns != '']\n",
    "unnamed_columns\n",
    "# Si todas las columnas tienen nombre retorna los nombres de las columnas, dtype='object'"
   ]
  },
  {
   "cell_type": "code",
   "execution_count": 12,
   "id": "adf4d30b-fcc7-48a2-86e3-10c94b5b392a",
   "metadata": {},
   "outputs": [
    {
     "data": {
      "text/plain": [
       "reserva         0\n",
       "fecha           0\n",
       "hora            0\n",
       "servicio        0\n",
       "mza-lote        0\n",
       "casa            1\n",
       "Unnamed: 6    352\n",
       "dtype: int64"
      ]
     },
     "execution_count": 12,
     "metadata": {},
     "output_type": "execute_result"
    }
   ],
   "source": [
    "# Check if any column has null values and sum. Sum all null values per column.\n",
    "df.isna().sum(axis=0)"
   ]
  },
  {
   "cell_type": "markdown",
   "id": "98d19fba-125a-441a-8ef8-7aefa1bfd185",
   "metadata": {},
   "source": [
    "Warning: The 'Unnamed 6' column is seen to be either empty or full of NaNs once again."
   ]
  },
  {
   "cell_type": "code",
   "execution_count": 13,
   "id": "841b5e77-3acd-4feb-9892-05c0095de2d1",
   "metadata": {},
   "outputs": [
    {
     "data": {
      "text/plain": [
       "Index(['reserva ', 'fecha', 'hora', 'servicio', 'mza-lote', 'casa',\n",
       "       'Unnamed: 6'],\n",
       "      dtype='object')"
      ]
     },
     "execution_count": 13,
     "metadata": {},
     "output_type": "execute_result"
    }
   ],
   "source": [
    "# Check the columns names\n",
    "df.columns"
   ]
  },
  {
   "cell_type": "code",
   "execution_count": 14,
   "id": "d1e5fce8-8899-448f-a95e-6db75ff03267",
   "metadata": {},
   "outputs": [
    {
     "name": "stdout",
     "output_type": "stream",
     "text": [
      "0    NaN\n",
      "1    NaN\n",
      "2    NaN\n",
      "3    NaN\n",
      "4    NaN\n",
      "Name: Unnamed: 6, dtype: object\n"
     ]
    }
   ],
   "source": [
    "# Check the name of the column before delete it\n",
    "print(df['Unnamed: 6'].head())"
   ]
  },
  {
   "cell_type": "markdown",
   "id": "2982db2b-62ce-4915-90dc-2ecad0d73e0f",
   "metadata": {},
   "source": [
    "Warning: 'Unnamed 6' is unnecessary. Proceed to delete."
   ]
  },
  {
   "cell_type": "code",
   "execution_count": 15,
   "id": "6b7e1ae6-a302-4262-8481-ed42673d903c",
   "metadata": {},
   "outputs": [],
   "source": [
    "# Drop the Empty column\n",
    "df = df.drop('Unnamed: 6', axis=1)"
   ]
  },
  {
   "cell_type": "code",
   "execution_count": 16,
   "id": "b04e1eca-a99e-418a-a092-55dab30e3851",
   "metadata": {},
   "outputs": [
    {
     "data": {
      "text/plain": [
       "Index(['reserva ', 'fecha', 'hora', 'servicio', 'mza-lote', 'casa'], dtype='object')"
      ]
     },
     "execution_count": 16,
     "metadata": {},
     "output_type": "execute_result"
    }
   ],
   "source": [
    "# Check the columns that still exist\n",
    "df.columns"
   ]
  },
  {
   "cell_type": "code",
   "execution_count": 17,
   "id": "21623e0a-d64f-4af5-af45-fd33be56aedb",
   "metadata": {},
   "outputs": [
    {
     "data": {
      "text/plain": [
       "reserva     0\n",
       "fecha       0\n",
       "hora        0\n",
       "servicio    0\n",
       "mza-lote    0\n",
       "casa        1\n",
       "dtype: int64"
      ]
     },
     "execution_count": 17,
     "metadata": {},
     "output_type": "execute_result"
    }
   ],
   "source": [
    "# Check if any column has null values and sum again. Sum the nulls values per column.\n",
    "df.isna().sum(axis=0)"
   ]
  },
  {
   "cell_type": "markdown",
   "id": "a95cdeff-2906-4c33-9e1b-38e6f0bba0bf",
   "metadata": {},
   "source": [
    "Warning: 'casa' has a null value. (Above)"
   ]
  },
  {
   "cell_type": "code",
   "execution_count": 18,
   "id": "879949b9-c6e4-4336-adf5-0e20e8b1dde8",
   "metadata": {},
   "outputs": [
    {
     "data": {
      "text/plain": [
       "count      353\n",
       "unique      43\n",
       "top       G-07\n",
       "freq        57\n",
       "Name: casa, dtype: object"
      ]
     },
     "execution_count": 18,
     "metadata": {},
     "output_type": "execute_result"
    }
   ],
   "source": [
    "df['casa'].describe()"
   ]
  },
  {
   "cell_type": "markdown",
   "id": "b29f94bd-4b91-4a0b-8c31-8bdb8dfc67ee",
   "metadata": {},
   "source": [
    "Warning: It is seen that there is a null element that 353 is one less than 354 (the total of the rows) (Above)"
   ]
  },
  {
   "cell_type": "markdown",
   "id": "2b1f868f-aff0-4844-a060-10e5fed55357",
   "metadata": {},
   "source": [
    "Looking for NaN element in 'casa' using boolean mask"
   ]
  },
  {
   "cell_type": "code",
   "execution_count": 19,
   "id": "559097bf-f4e0-4878-9aa7-19efbae60d49",
   "metadata": {},
   "outputs": [],
   "source": [
    "# Filter obtaining null element row of the dataframe\n",
    "df_row_with_null = df[df['casa'].isnull()]"
   ]
  },
  {
   "cell_type": "code",
   "execution_count": 20,
   "id": "40e9386c-d098-49ff-aa41-184fae5d4ed6",
   "metadata": {},
   "outputs": [
    {
     "data": {
      "text/html": [
       "<div>\n",
       "<style scoped>\n",
       "    .dataframe tbody tr th:only-of-type {\n",
       "        vertical-align: middle;\n",
       "    }\n",
       "\n",
       "    .dataframe tbody tr th {\n",
       "        vertical-align: top;\n",
       "    }\n",
       "\n",
       "    .dataframe thead th {\n",
       "        text-align: right;\n",
       "    }\n",
       "</style>\n",
       "<table border=\"1\" class=\"dataframe\">\n",
       "  <thead>\n",
       "    <tr style=\"text-align: right;\">\n",
       "      <th></th>\n",
       "      <th>reserva</th>\n",
       "      <th>fecha</th>\n",
       "      <th>hora</th>\n",
       "      <th>servicio</th>\n",
       "      <th>mza-lote</th>\n",
       "      <th>casa</th>\n",
       "    </tr>\n",
       "  </thead>\n",
       "  <tbody>\n",
       "    <tr>\n",
       "      <th>306</th>\n",
       "      <td>2753105</td>\n",
       "      <td>2021-04-05</td>\n",
       "      <td>19:00 CON LUZ</td>\n",
       "      <td>Tenis - Cancha 1</td>\n",
       "      <td>APROBADA</td>\n",
       "      <td>NaN</td>\n",
       "    </tr>\n",
       "  </tbody>\n",
       "</table>\n",
       "</div>"
      ],
      "text/plain": [
       "     reserva       fecha           hora          servicio  mza-lote casa\n",
       "306   2753105 2021-04-05  19:00 CON LUZ  Tenis - Cancha 1  APROBADA  NaN"
      ]
     },
     "execution_count": 20,
     "metadata": {},
     "output_type": "execute_result"
    }
   ],
   "source": [
    "# Show the row with null in casa\n",
    "df_row_with_null"
   ]
  },
  {
   "cell_type": "markdown",
   "id": "0ccb6b7e-640b-4c06-bcba-c34663763e27",
   "metadata": {},
   "source": [
    "Warning: Row 306 in 'casa' has the unique NaN value (Above)"
   ]
  },
  {
   "cell_type": "code",
   "execution_count": 21,
   "id": "d67acee4-c02a-424a-986a-01e4355a50d7",
   "metadata": {},
   "outputs": [],
   "source": [
    "# Build a Dataframe with no NaN. The new data frame without NaN is named df_without_null\n",
    "df_without_null =df[df['casa'].notnull()]"
   ]
  },
  {
   "cell_type": "code",
   "execution_count": 22,
   "id": "a6c46d6a-64b9-4afb-8637-a6a5f8538230",
   "metadata": {},
   "outputs": [
    {
     "data": {
      "text/html": [
       "<div>\n",
       "<style scoped>\n",
       "    .dataframe tbody tr th:only-of-type {\n",
       "        vertical-align: middle;\n",
       "    }\n",
       "\n",
       "    .dataframe tbody tr th {\n",
       "        vertical-align: top;\n",
       "    }\n",
       "\n",
       "    .dataframe thead th {\n",
       "        text-align: right;\n",
       "    }\n",
       "</style>\n",
       "<table border=\"1\" class=\"dataframe\">\n",
       "  <thead>\n",
       "    <tr style=\"text-align: right;\">\n",
       "      <th></th>\n",
       "      <th>reserva</th>\n",
       "      <th>fecha</th>\n",
       "      <th>hora</th>\n",
       "      <th>servicio</th>\n",
       "      <th>mza-lote</th>\n",
       "      <th>casa</th>\n",
       "    </tr>\n",
       "  </thead>\n",
       "  <tbody>\n",
       "    <tr>\n",
       "      <th>0</th>\n",
       "      <td>8219516</td>\n",
       "      <td>2023-07-08</td>\n",
       "      <td>16:00:00</td>\n",
       "      <td>Tenis - Cancha 2</td>\n",
       "      <td>APROBADA</td>\n",
       "      <td>M-03</td>\n",
       "    </tr>\n",
       "    <tr>\n",
       "      <th>1</th>\n",
       "      <td>8218607</td>\n",
       "      <td>2023-07-08</td>\n",
       "      <td>16:00:00</td>\n",
       "      <td>Tenis - Cancha 1</td>\n",
       "      <td>APROBADA</td>\n",
       "      <td>F-04</td>\n",
       "    </tr>\n",
       "    <tr>\n",
       "      <th>2</th>\n",
       "      <td>8217992</td>\n",
       "      <td>2023-07-08</td>\n",
       "      <td>13:00:00</td>\n",
       "      <td>Tenis - Cancha 1</td>\n",
       "      <td>APROBADA</td>\n",
       "      <td>G-12</td>\n",
       "    </tr>\n",
       "    <tr>\n",
       "      <th>3</th>\n",
       "      <td>8212103</td>\n",
       "      <td>2023-07-07</td>\n",
       "      <td>11:00:00</td>\n",
       "      <td>Tenis - Cancha 1</td>\n",
       "      <td>APROBADA</td>\n",
       "      <td>A-52</td>\n",
       "    </tr>\n",
       "    <tr>\n",
       "      <th>4</th>\n",
       "      <td>8196830</td>\n",
       "      <td>2023-07-04</td>\n",
       "      <td>16:00:00</td>\n",
       "      <td>Tenis - Cancha 1</td>\n",
       "      <td>APROBADA</td>\n",
       "      <td>K-04</td>\n",
       "    </tr>\n",
       "    <tr>\n",
       "      <th>...</th>\n",
       "      <td>...</td>\n",
       "      <td>...</td>\n",
       "      <td>...</td>\n",
       "      <td>...</td>\n",
       "      <td>...</td>\n",
       "      <td>...</td>\n",
       "    </tr>\n",
       "    <tr>\n",
       "      <th>349</th>\n",
       "      <td>1712511</td>\n",
       "      <td>2020-12-04</td>\n",
       "      <td>18:00 CON LUZ</td>\n",
       "      <td>Tenis - Cancha 1</td>\n",
       "      <td>APROBADA</td>\n",
       "      <td>PRUEBA</td>\n",
       "    </tr>\n",
       "    <tr>\n",
       "      <th>350</th>\n",
       "      <td>1712222</td>\n",
       "      <td>2020-12-04</td>\n",
       "      <td>17:00:00</td>\n",
       "      <td>Tenis - Cancha 1</td>\n",
       "      <td>APROBADA</td>\n",
       "      <td>E-08</td>\n",
       "    </tr>\n",
       "    <tr>\n",
       "      <th>351</th>\n",
       "      <td>1687608</td>\n",
       "      <td>2020-12-02</td>\n",
       "      <td>19:00 CON LUZ</td>\n",
       "      <td>Tenis - Cancha 2</td>\n",
       "      <td>APROBADA</td>\n",
       "      <td>H-07</td>\n",
       "    </tr>\n",
       "    <tr>\n",
       "      <th>352</th>\n",
       "      <td>1687243</td>\n",
       "      <td>2020-12-02</td>\n",
       "      <td>18:00 CON LUZ</td>\n",
       "      <td>Tenis - Cancha 1</td>\n",
       "      <td>APROBADA</td>\n",
       "      <td>M-03</td>\n",
       "    </tr>\n",
       "    <tr>\n",
       "      <th>353</th>\n",
       "      <td>1652644</td>\n",
       "      <td>2020-11-26</td>\n",
       "      <td>16:00:00</td>\n",
       "      <td>Tenis - Cancha 1</td>\n",
       "      <td>APROBADA</td>\n",
       "      <td>N-09</td>\n",
       "    </tr>\n",
       "  </tbody>\n",
       "</table>\n",
       "<p>353 rows × 6 columns</p>\n",
       "</div>"
      ],
      "text/plain": [
       "     reserva       fecha           hora          servicio  mza-lote    casa\n",
       "0     8219516 2023-07-08       16:00:00  Tenis - Cancha 2  APROBADA    M-03\n",
       "1     8218607 2023-07-08       16:00:00  Tenis - Cancha 1  APROBADA    F-04\n",
       "2     8217992 2023-07-08       13:00:00  Tenis - Cancha 1  APROBADA    G-12\n",
       "3     8212103 2023-07-07       11:00:00  Tenis - Cancha 1  APROBADA    A-52\n",
       "4     8196830 2023-07-04       16:00:00  Tenis - Cancha 1  APROBADA    K-04\n",
       "..        ...        ...            ...               ...       ...     ...\n",
       "349   1712511 2020-12-04  18:00 CON LUZ  Tenis - Cancha 1  APROBADA  PRUEBA\n",
       "350   1712222 2020-12-04       17:00:00  Tenis - Cancha 1  APROBADA    E-08\n",
       "351   1687608 2020-12-02  19:00 CON LUZ  Tenis - Cancha 2  APROBADA    H-07\n",
       "352   1687243 2020-12-02  18:00 CON LUZ  Tenis - Cancha 1  APROBADA    M-03\n",
       "353   1652644 2020-11-26       16:00:00  Tenis - Cancha 1  APROBADA    N-09\n",
       "\n",
       "[353 rows x 6 columns]"
      ]
     },
     "execution_count": 22,
     "metadata": {},
     "output_type": "execute_result"
    }
   ],
   "source": [
    "df_without_null"
   ]
  },
  {
   "cell_type": "markdown",
   "id": "5d16e39e-0560-4383-b108-3f9e5c96868a",
   "metadata": {},
   "source": [
    "Warning: It's seen that there is 353 not null values in df_without_null. This is becouse there is only one null value in df. The sum is the total rows of the df."
   ]
  },
  {
   "cell_type": "code",
   "execution_count": 23,
   "id": "c44a401f-e470-4c66-8452-64857a606f2a",
   "metadata": {},
   "outputs": [
    {
     "data": {
      "text/plain": [
       "reserva     0\n",
       "fecha       0\n",
       "hora        0\n",
       "servicio    0\n",
       "mza-lote    0\n",
       "casa        0\n",
       "dtype: int64"
      ]
     },
     "execution_count": 23,
     "metadata": {},
     "output_type": "execute_result"
    }
   ],
   "source": [
    "# Check if any column has null values and sum\n",
    "df_without_null.isna().sum(axis=0)"
   ]
  },
  {
   "cell_type": "raw",
   "id": "fdf91b40-b4fb-4271-abc6-4df3b451d896",
   "metadata": {},
   "source": [
    "And now check data frame with info().describe"
   ]
  },
  {
   "cell_type": "code",
   "execution_count": 24,
   "id": "903de4c7-8b8c-4dea-b9d3-fff5b47364d5",
   "metadata": {},
   "outputs": [
    {
     "name": "stdout",
     "output_type": "stream",
     "text": [
      "<class 'pandas.core.frame.DataFrame'>\n",
      "Int64Index: 353 entries, 0 to 353\n",
      "Data columns (total 6 columns):\n",
      " #   Column    Non-Null Count  Dtype         \n",
      "---  ------    --------------  -----         \n",
      " 0   reserva   353 non-null    int64         \n",
      " 1   fecha     353 non-null    datetime64[ns]\n",
      " 2   hora      353 non-null    object        \n",
      " 3   servicio  353 non-null    object        \n",
      " 4   mza-lote  353 non-null    object        \n",
      " 5   casa      353 non-null    object        \n",
      "dtypes: datetime64[ns](1), int64(1), object(4)\n",
      "memory usage: 19.3+ KB\n"
     ]
    }
   ],
   "source": [
    "# Set df (original) with df_without_null.\n",
    "df= df_without_null\n",
    "\n",
    "# Set df with df_without_null, becouse tpyping df is short and easy to work\n",
    "df.info()"
   ]
  },
  {
   "cell_type": "markdown",
   "id": "b7468220-8a49-4be2-8849-5062ece02cf9",
   "metadata": {},
   "source": [
    "<b>Missing Data Dealing Successfull: NaN eliminated.</b>"
   ]
  },
  {
   "cell_type": "markdown",
   "id": "0c7f6715-963c-4ef1-9567-6f1f9717ce2d",
   "metadata": {
    "tags": []
   },
   "source": [
    "# Correct data format\n",
    "###### See references in: https://pandas.pydata.org/docs/user_guide/basics.html#dtypes"
   ]
  },
  {
   "cell_type": "markdown",
   "id": "dad56a17-28a4-473f-bcaf-376b76a541d5",
   "metadata": {},
   "source": [
    "<p>Next step in data cleaning is checking and making sure that all data is in the correct format (int, float, text or other).</p>\n",
    "​\n",
    "I use:\n",
    "<ol>\n",
    "    <li><b>.astype()</b></li>\n",
    "    <li><b>.dtype()</b></li>\n",
    "</ol>"
   ]
  },
  {
   "cell_type": "code",
   "execution_count": 25,
   "id": "0f0206f4-df77-4f1c-8bc0-d574583b49a8",
   "metadata": {},
   "outputs": [
    {
     "data": {
      "text/plain": [
       "reserva              int64\n",
       "fecha       datetime64[ns]\n",
       "hora                object\n",
       "servicio            object\n",
       "mza-lote            object\n",
       "casa                object\n",
       "dtype: object"
      ]
     },
     "execution_count": 25,
     "metadata": {},
     "output_type": "execute_result"
    }
   ],
   "source": [
    "# Check data types\n",
    "df.dtypes"
   ]
  },
  {
   "cell_type": "markdown",
   "id": "65555a38-d75d-4887-a5a3-b7d02f135017",
   "metadata": {},
   "source": [
    "<p>As we can see above, some columns are not of the correct data type.</p>\n",
    "<p>Numerical variables should have type 'float' or 'int', and variables with strings such as categories should have type 'object'.</p>\n",
    "<p> 'reserva', 'fecha' are ok.</p>\n",
    "<P>I will convert data types into a proper format for each column using the \"astype()\" method.</p> "
   ]
  },
  {
   "cell_type": "markdown",
   "id": "f104bdf9-5fb8-4a23-9544-e87d18d09d71",
   "metadata": {
    "tags": []
   },
   "source": [
    "#### Date and time correction is needed\n",
    "Es necesario corregir fecha y hora de alquiler de las canchas.\n"
   ]
  },
  {
   "cell_type": "code",
   "execution_count": 26,
   "id": "e809d777-0926-4ae5-be2a-8bd0a895d71e",
   "metadata": {},
   "outputs": [
    {
     "name": "stdout",
     "output_type": "stream",
     "text": [
      "<class 'pandas.core.frame.DataFrame'>\n",
      "Int64Index: 353 entries, 0 to 353\n",
      "Data columns (total 6 columns):\n",
      " #   Column    Non-Null Count  Dtype         \n",
      "---  ------    --------------  -----         \n",
      " 0   reserva   353 non-null    int64         \n",
      " 1   fecha     353 non-null    datetime64[ns]\n",
      " 2   hora      353 non-null    object        \n",
      " 3   servicio  353 non-null    object        \n",
      " 4   mza-lote  353 non-null    object        \n",
      " 5   casa      353 non-null    object        \n",
      "dtypes: datetime64[ns](1), int64(1), object(4)\n",
      "memory usage: 19.3+ KB\n"
     ]
    }
   ],
   "source": [
    "df.info()"
   ]
  },
  {
   "cell_type": "markdown",
   "id": "31e16b65-f44c-4ec4-8c6f-194b09b33ba1",
   "metadata": {},
   "source": [
    "##### Warning: Time depuration is needed. Then Join Dates and Times.\n",
    "###### Fecha y hora están separadas. Fecha está en formato correcto pero sin la hora. Hora está con formato incorrecto. Hora tiene ademas la indicación de CON LUZ.\n",
    "###### Es necesario juntar quitar \"CON LUZ\" de hora, juntar fecha y hora y dejarlas en formato datetime64[ns]"
   ]
  },
  {
   "cell_type": "markdown",
   "id": "8fb8794c-1c7e-441d-a7ef-c421849a2a04",
   "metadata": {},
   "source": [
    "With df['fecha']:  Can see date without  hours. Se pueden ver las fechas sin las horas."
   ]
  },
  {
   "cell_type": "markdown",
   "id": "3c8825e4-9196-482c-9eb9-0495d75cfa10",
   "metadata": {},
   "source": [
    "Convierto la columna de fechas en string para luego juntarla con la columna de horas."
   ]
  },
  {
   "cell_type": "code",
   "execution_count": 27,
   "id": "d4d3b1b4-dd2a-4d1f-b516-6ae455cf5ab2",
   "metadata": {},
   "outputs": [
    {
     "data": {
      "text/plain": [
       "0           16:00:00\n",
       "1           16:00:00\n",
       "2           13:00:00\n",
       "3           11:00:00\n",
       "4           16:00:00\n",
       "           ...      \n",
       "349    18:00 CON LUZ\n",
       "350         17:00:00\n",
       "351    19:00 CON LUZ\n",
       "352    18:00 CON LUZ\n",
       "353         16:00:00\n",
       "Name: hora, Length: 353, dtype: object"
      ]
     },
     "execution_count": 27,
     "metadata": {},
     "output_type": "execute_result"
    }
   ],
   "source": [
    "# Re-Check 'hora' type to see if it is OK to join with dates or NOT OK\n",
    "df['hora'].astype(str)"
   ]
  },
  {
   "cell_type": "markdown",
   "id": "d0c29a0c-e623-4666-bf76-1c8c843bea5b",
   "metadata": {},
   "source": [
    "Warning: Observe \"CON LUZ\". Extraction and spliting is needed. (Above)"
   ]
  },
  {
   "cell_type": "code",
   "execution_count": 28,
   "id": "71ae7182-ad15-435e-9123-de434d7bc477",
   "metadata": {},
   "outputs": [],
   "source": [
    "split_hora = df['hora'].astype(str)"
   ]
  },
  {
   "cell_type": "code",
   "execution_count": 29,
   "id": "639d1491-36d4-4e04-83ac-44a4147df783",
   "metadata": {},
   "outputs": [],
   "source": [
    "splited_hora = split_hora.str.split(\" \", expand= True)"
   ]
  },
  {
   "cell_type": "code",
   "execution_count": 30,
   "id": "94be27f9-f5fe-4c59-8d54-63fbee35a3f4",
   "metadata": {},
   "outputs": [
    {
     "data": {
      "text/html": [
       "<div>\n",
       "<style scoped>\n",
       "    .dataframe tbody tr th:only-of-type {\n",
       "        vertical-align: middle;\n",
       "    }\n",
       "\n",
       "    .dataframe tbody tr th {\n",
       "        vertical-align: top;\n",
       "    }\n",
       "\n",
       "    .dataframe thead th {\n",
       "        text-align: right;\n",
       "    }\n",
       "</style>\n",
       "<table border=\"1\" class=\"dataframe\">\n",
       "  <thead>\n",
       "    <tr style=\"text-align: right;\">\n",
       "      <th></th>\n",
       "      <th>0</th>\n",
       "      <th>1</th>\n",
       "      <th>2</th>\n",
       "    </tr>\n",
       "  </thead>\n",
       "  <tbody>\n",
       "    <tr>\n",
       "      <th>0</th>\n",
       "      <td>16:00:00</td>\n",
       "      <td>None</td>\n",
       "      <td>None</td>\n",
       "    </tr>\n",
       "    <tr>\n",
       "      <th>1</th>\n",
       "      <td>16:00:00</td>\n",
       "      <td>None</td>\n",
       "      <td>None</td>\n",
       "    </tr>\n",
       "    <tr>\n",
       "      <th>2</th>\n",
       "      <td>13:00:00</td>\n",
       "      <td>None</td>\n",
       "      <td>None</td>\n",
       "    </tr>\n",
       "    <tr>\n",
       "      <th>3</th>\n",
       "      <td>11:00:00</td>\n",
       "      <td>None</td>\n",
       "      <td>None</td>\n",
       "    </tr>\n",
       "    <tr>\n",
       "      <th>4</th>\n",
       "      <td>16:00:00</td>\n",
       "      <td>None</td>\n",
       "      <td>None</td>\n",
       "    </tr>\n",
       "    <tr>\n",
       "      <th>...</th>\n",
       "      <td>...</td>\n",
       "      <td>...</td>\n",
       "      <td>...</td>\n",
       "    </tr>\n",
       "    <tr>\n",
       "      <th>349</th>\n",
       "      <td>18:00</td>\n",
       "      <td>CON</td>\n",
       "      <td>LUZ</td>\n",
       "    </tr>\n",
       "    <tr>\n",
       "      <th>350</th>\n",
       "      <td>17:00:00</td>\n",
       "      <td>None</td>\n",
       "      <td>None</td>\n",
       "    </tr>\n",
       "    <tr>\n",
       "      <th>351</th>\n",
       "      <td>19:00</td>\n",
       "      <td>CON</td>\n",
       "      <td>LUZ</td>\n",
       "    </tr>\n",
       "    <tr>\n",
       "      <th>352</th>\n",
       "      <td>18:00</td>\n",
       "      <td>CON</td>\n",
       "      <td>LUZ</td>\n",
       "    </tr>\n",
       "    <tr>\n",
       "      <th>353</th>\n",
       "      <td>16:00:00</td>\n",
       "      <td>None</td>\n",
       "      <td>None</td>\n",
       "    </tr>\n",
       "  </tbody>\n",
       "</table>\n",
       "<p>353 rows × 3 columns</p>\n",
       "</div>"
      ],
      "text/plain": [
       "            0     1     2\n",
       "0    16:00:00  None  None\n",
       "1    16:00:00  None  None\n",
       "2    13:00:00  None  None\n",
       "3    11:00:00  None  None\n",
       "4    16:00:00  None  None\n",
       "..        ...   ...   ...\n",
       "349     18:00   CON   LUZ\n",
       "350  17:00:00  None  None\n",
       "351     19:00   CON   LUZ\n",
       "352     18:00   CON   LUZ\n",
       "353  16:00:00  None  None\n",
       "\n",
       "[353 rows x 3 columns]"
      ]
     },
     "execution_count": 30,
     "metadata": {},
     "output_type": "execute_result"
    }
   ],
   "source": [
    "splited_hora"
   ]
  },
  {
   "cell_type": "code",
   "execution_count": 31,
   "id": "509c6249-bad6-4cfa-92d2-b5c532d4f785",
   "metadata": {},
   "outputs": [],
   "source": [
    "# Select Times in a shora serie\n",
    "shora = splited_hora[0].astype(\"string\")"
   ]
  },
  {
   "cell_type": "code",
   "execution_count": 32,
   "id": "aff594d0-47f9-4b4f-bd6d-0c64fa827fa6",
   "metadata": {},
   "outputs": [
    {
     "data": {
      "text/plain": [
       "0      16:00:00\n",
       "1      16:00:00\n",
       "2      13:00:00\n",
       "3      11:00:00\n",
       "4      16:00:00\n",
       "         ...   \n",
       "349       18:00\n",
       "350    17:00:00\n",
       "351       19:00\n",
       "352       18:00\n",
       "353    16:00:00\n",
       "Name: 0, Length: 353, dtype: string"
      ]
     },
     "execution_count": 32,
     "metadata": {},
     "output_type": "execute_result"
    }
   ],
   "source": [
    "# Check if shora conteins time series\n",
    "shora"
   ]
  },
  {
   "cell_type": "code",
   "execution_count": 33,
   "id": "1ed99c2a-0b49-40c2-a5c6-d9af6ca1fb43",
   "metadata": {},
   "outputs": [],
   "source": [
    "# Convert 'fecha' in str format\n",
    "sfecha = df['fecha'].astype(\"string\")"
   ]
  },
  {
   "cell_type": "code",
   "execution_count": 34,
   "id": "7aebcd78-65ad-4ee9-addb-97e59375800c",
   "metadata": {},
   "outputs": [
    {
     "data": {
      "text/plain": [
       "0      2023-07-08\n",
       "1      2023-07-08\n",
       "2      2023-07-08\n",
       "3      2023-07-07\n",
       "4      2023-07-04\n",
       "          ...    \n",
       "349    2020-12-04\n",
       "350    2020-12-04\n",
       "351    2020-12-02\n",
       "352    2020-12-02\n",
       "353    2020-11-26\n",
       "Name: fecha, Length: 353, dtype: string"
      ]
     },
     "execution_count": 34,
     "metadata": {},
     "output_type": "execute_result"
    }
   ],
   "source": [
    "# Check if sfecha is a correct serie of dates\n",
    "sfecha"
   ]
  },
  {
   "cell_type": "code",
   "execution_count": 35,
   "id": "05c0f4b6-8361-46a0-87a8-a9b281e5a709",
   "metadata": {},
   "outputs": [],
   "source": [
    "# Concat the sfecha with shora\n",
    "s_fechayhora = pd.DataFrame(sfecha + \" \" + shora)"
   ]
  },
  {
   "cell_type": "code",
   "execution_count": 36,
   "id": "bf0612aa-4174-4d14-a392-f58eb8ec64f9",
   "metadata": {},
   "outputs": [
    {
     "data": {
      "text/html": [
       "<div>\n",
       "<style scoped>\n",
       "    .dataframe tbody tr th:only-of-type {\n",
       "        vertical-align: middle;\n",
       "    }\n",
       "\n",
       "    .dataframe tbody tr th {\n",
       "        vertical-align: top;\n",
       "    }\n",
       "\n",
       "    .dataframe thead th {\n",
       "        text-align: right;\n",
       "    }\n",
       "</style>\n",
       "<table border=\"1\" class=\"dataframe\">\n",
       "  <thead>\n",
       "    <tr style=\"text-align: right;\">\n",
       "      <th></th>\n",
       "      <th>0</th>\n",
       "    </tr>\n",
       "  </thead>\n",
       "  <tbody>\n",
       "    <tr>\n",
       "      <th>0</th>\n",
       "      <td>2023-07-08 16:00:00</td>\n",
       "    </tr>\n",
       "    <tr>\n",
       "      <th>1</th>\n",
       "      <td>2023-07-08 16:00:00</td>\n",
       "    </tr>\n",
       "    <tr>\n",
       "      <th>2</th>\n",
       "      <td>2023-07-08 13:00:00</td>\n",
       "    </tr>\n",
       "    <tr>\n",
       "      <th>3</th>\n",
       "      <td>2023-07-07 11:00:00</td>\n",
       "    </tr>\n",
       "    <tr>\n",
       "      <th>4</th>\n",
       "      <td>2023-07-04 16:00:00</td>\n",
       "    </tr>\n",
       "    <tr>\n",
       "      <th>...</th>\n",
       "      <td>...</td>\n",
       "    </tr>\n",
       "    <tr>\n",
       "      <th>349</th>\n",
       "      <td>2020-12-04 18:00</td>\n",
       "    </tr>\n",
       "    <tr>\n",
       "      <th>350</th>\n",
       "      <td>2020-12-04 17:00:00</td>\n",
       "    </tr>\n",
       "    <tr>\n",
       "      <th>351</th>\n",
       "      <td>2020-12-02 19:00</td>\n",
       "    </tr>\n",
       "    <tr>\n",
       "      <th>352</th>\n",
       "      <td>2020-12-02 18:00</td>\n",
       "    </tr>\n",
       "    <tr>\n",
       "      <th>353</th>\n",
       "      <td>2020-11-26 16:00:00</td>\n",
       "    </tr>\n",
       "  </tbody>\n",
       "</table>\n",
       "<p>353 rows × 1 columns</p>\n",
       "</div>"
      ],
      "text/plain": [
       "                       0\n",
       "0    2023-07-08 16:00:00\n",
       "1    2023-07-08 16:00:00\n",
       "2    2023-07-08 13:00:00\n",
       "3    2023-07-07 11:00:00\n",
       "4    2023-07-04 16:00:00\n",
       "..                   ...\n",
       "349     2020-12-04 18:00\n",
       "350  2020-12-04 17:00:00\n",
       "351     2020-12-02 19:00\n",
       "352     2020-12-02 18:00\n",
       "353  2020-11-26 16:00:00\n",
       "\n",
       "[353 rows x 1 columns]"
      ]
     },
     "execution_count": 36,
     "metadata": {},
     "output_type": "execute_result"
    }
   ],
   "source": [
    "# Check if concatenation is well done\n",
    "s_fechayhora"
   ]
  },
  {
   "cell_type": "code",
   "execution_count": 37,
   "id": "31cc9bde-d209-434d-9269-867f5f2379bb",
   "metadata": {},
   "outputs": [],
   "source": [
    "# Convert s_fechayhora to datetime60[ns] serie\n",
    "fechayhora = pd.to_datetime(s_fechayhora[0])"
   ]
  },
  {
   "cell_type": "code",
   "execution_count": 38,
   "id": "a81ce2ef-92ad-4f01-ac20-4511cc8242e8",
   "metadata": {},
   "outputs": [
    {
     "data": {
      "text/plain": [
       "0     2023-07-08 16:00:00\n",
       "1     2023-07-08 16:00:00\n",
       "2     2023-07-08 13:00:00\n",
       "3     2023-07-07 11:00:00\n",
       "4     2023-07-04 16:00:00\n",
       "              ...        \n",
       "349   2020-12-04 18:00:00\n",
       "350   2020-12-04 17:00:00\n",
       "351   2020-12-02 19:00:00\n",
       "352   2020-12-02 18:00:00\n",
       "353   2020-11-26 16:00:00\n",
       "Name: 0, Length: 353, dtype: datetime64[ns]"
      ]
     },
     "execution_count": 38,
     "metadata": {},
     "output_type": "execute_result"
    }
   ],
   "source": [
    "# Check if serie of date and times is ok\n",
    "fechayhora"
   ]
  },
  {
   "cell_type": "markdown",
   "id": "b70bb73b-c9a5-414f-8bd9-9b8962dd2829",
   "metadata": {},
   "source": [
    "Date and Time Ready. Time to update the Dataframe under Analysis.\n",
    "\n",
    "Fecha y Hora listas para actualizar en el Dataframe que se está analizando."
   ]
  },
  {
   "cell_type": "code",
   "execution_count": 39,
   "id": "8146b622-fb75-4728-a4dd-2d1f4e99aecd",
   "metadata": {},
   "outputs": [],
   "source": [
    "# Set the date and time serie into a data frame\n",
    "df['fecha'] = fechayhora"
   ]
  },
  {
   "cell_type": "code",
   "execution_count": 40,
   "id": "6a09f328-e2ca-4e21-80f8-f5c5490754a4",
   "metadata": {},
   "outputs": [
    {
     "data": {
      "text/plain": [
       "0     2023-07-08 16:00:00\n",
       "1     2023-07-08 16:00:00\n",
       "2     2023-07-08 13:00:00\n",
       "3     2023-07-07 11:00:00\n",
       "4     2023-07-04 16:00:00\n",
       "              ...        \n",
       "349   2020-12-04 18:00:00\n",
       "350   2020-12-04 17:00:00\n",
       "351   2020-12-02 19:00:00\n",
       "352   2020-12-02 18:00:00\n",
       "353   2020-11-26 16:00:00\n",
       "Name: fecha, Length: 353, dtype: datetime64[ns]"
      ]
     },
     "execution_count": 40,
     "metadata": {},
     "output_type": "execute_result"
    }
   ],
   "source": [
    "# Check if column fecha is updated with date and time (not only date)\n",
    "df['fecha']"
   ]
  },
  {
   "cell_type": "code",
   "execution_count": 41,
   "id": "9212f85f-a2c5-4b80-8435-fd19abb81d8f",
   "metadata": {},
   "outputs": [],
   "source": [
    "# Rename the 'fecha' column with 'fechayhora' new name\n",
    "#        Warning!! df['fecha'] = df['fecha'].rename('fechayhora', inplace = True) does not work.\n",
    "#        Force renaming with df.rename method and inplace = True)\n",
    "df.rename(columns = {'fecha' : 'fechayhora'}, inplace = True)"
   ]
  },
  {
   "cell_type": "markdown",
   "id": "72607011-320b-4056-8265-9d44cac582c6",
   "metadata": {},
   "source": [
    "Warning: There is no need of hora anymore. fechayhora contains date and times."
   ]
  },
  {
   "cell_type": "code",
   "execution_count": 42,
   "id": "9549be51-41c7-4fa9-abdf-6a17f3b8d634",
   "metadata": {},
   "outputs": [],
   "source": [
    "# Delete 'hora' column\n",
    "df = df.drop(columns=['hora'])"
   ]
  },
  {
   "cell_type": "code",
   "execution_count": 43,
   "id": "38804401-08f6-4db2-95ce-90be20aa8564",
   "metadata": {},
   "outputs": [
    {
     "data": {
      "text/html": [
       "<div>\n",
       "<style scoped>\n",
       "    .dataframe tbody tr th:only-of-type {\n",
       "        vertical-align: middle;\n",
       "    }\n",
       "\n",
       "    .dataframe tbody tr th {\n",
       "        vertical-align: top;\n",
       "    }\n",
       "\n",
       "    .dataframe thead th {\n",
       "        text-align: right;\n",
       "    }\n",
       "</style>\n",
       "<table border=\"1\" class=\"dataframe\">\n",
       "  <thead>\n",
       "    <tr style=\"text-align: right;\">\n",
       "      <th></th>\n",
       "      <th>reserva</th>\n",
       "      <th>fechayhora</th>\n",
       "      <th>servicio</th>\n",
       "      <th>mza-lote</th>\n",
       "      <th>casa</th>\n",
       "    </tr>\n",
       "  </thead>\n",
       "  <tbody>\n",
       "    <tr>\n",
       "      <th>0</th>\n",
       "      <td>8219516</td>\n",
       "      <td>2023-07-08 16:00:00</td>\n",
       "      <td>Tenis - Cancha 2</td>\n",
       "      <td>APROBADA</td>\n",
       "      <td>M-03</td>\n",
       "    </tr>\n",
       "    <tr>\n",
       "      <th>1</th>\n",
       "      <td>8218607</td>\n",
       "      <td>2023-07-08 16:00:00</td>\n",
       "      <td>Tenis - Cancha 1</td>\n",
       "      <td>APROBADA</td>\n",
       "      <td>F-04</td>\n",
       "    </tr>\n",
       "    <tr>\n",
       "      <th>2</th>\n",
       "      <td>8217992</td>\n",
       "      <td>2023-07-08 13:00:00</td>\n",
       "      <td>Tenis - Cancha 1</td>\n",
       "      <td>APROBADA</td>\n",
       "      <td>G-12</td>\n",
       "    </tr>\n",
       "    <tr>\n",
       "      <th>3</th>\n",
       "      <td>8212103</td>\n",
       "      <td>2023-07-07 11:00:00</td>\n",
       "      <td>Tenis - Cancha 1</td>\n",
       "      <td>APROBADA</td>\n",
       "      <td>A-52</td>\n",
       "    </tr>\n",
       "    <tr>\n",
       "      <th>4</th>\n",
       "      <td>8196830</td>\n",
       "      <td>2023-07-04 16:00:00</td>\n",
       "      <td>Tenis - Cancha 1</td>\n",
       "      <td>APROBADA</td>\n",
       "      <td>K-04</td>\n",
       "    </tr>\n",
       "  </tbody>\n",
       "</table>\n",
       "</div>"
      ],
      "text/plain": [
       "   reserva           fechayhora          servicio  mza-lote  casa\n",
       "0   8219516 2023-07-08 16:00:00  Tenis - Cancha 2  APROBADA  M-03\n",
       "1   8218607 2023-07-08 16:00:00  Tenis - Cancha 1  APROBADA  F-04\n",
       "2   8217992 2023-07-08 13:00:00  Tenis - Cancha 1  APROBADA  G-12\n",
       "3   8212103 2023-07-07 11:00:00  Tenis - Cancha 1  APROBADA  A-52\n",
       "4   8196830 2023-07-04 16:00:00  Tenis - Cancha 1  APROBADA  K-04"
      ]
     },
     "execution_count": 43,
     "metadata": {},
     "output_type": "execute_result"
    }
   ],
   "source": [
    "df.head()"
   ]
  },
  {
   "cell_type": "markdown",
   "id": "27339a3c-2a22-4ff2-a3d6-5c5342609f1d",
   "metadata": {},
   "source": [
    "<b>Date and Time Correction Successfull!</b> \n",
    "<b> Next \"CON LUZ\" binning process.</b> "
   ]
  },
  {
   "cell_type": "markdown",
   "id": "034d1713-4653-4b2d-9ef5-e359d5c8f861",
   "metadata": {
    "jp-MarkdownHeadingCollapsed": true,
    "tags": []
   },
   "source": [
    "#### New column 'ilumina' setup"
   ]
  },
  {
   "cell_type": "code",
   "execution_count": 44,
   "id": "41814061-b14d-4f09-ac4c-37c84f88d540",
   "metadata": {},
   "outputs": [
    {
     "data": {
      "text/html": [
       "<div>\n",
       "<style scoped>\n",
       "    .dataframe tbody tr th:only-of-type {\n",
       "        vertical-align: middle;\n",
       "    }\n",
       "\n",
       "    .dataframe tbody tr th {\n",
       "        vertical-align: top;\n",
       "    }\n",
       "\n",
       "    .dataframe thead th {\n",
       "        text-align: right;\n",
       "    }\n",
       "</style>\n",
       "<table border=\"1\" class=\"dataframe\">\n",
       "  <thead>\n",
       "    <tr style=\"text-align: right;\">\n",
       "      <th></th>\n",
       "      <th>0</th>\n",
       "      <th>1</th>\n",
       "      <th>2</th>\n",
       "    </tr>\n",
       "  </thead>\n",
       "  <tbody>\n",
       "    <tr>\n",
       "      <th>0</th>\n",
       "      <td>16:00:00</td>\n",
       "      <td>None</td>\n",
       "      <td>None</td>\n",
       "    </tr>\n",
       "    <tr>\n",
       "      <th>1</th>\n",
       "      <td>16:00:00</td>\n",
       "      <td>None</td>\n",
       "      <td>None</td>\n",
       "    </tr>\n",
       "    <tr>\n",
       "      <th>2</th>\n",
       "      <td>13:00:00</td>\n",
       "      <td>None</td>\n",
       "      <td>None</td>\n",
       "    </tr>\n",
       "    <tr>\n",
       "      <th>3</th>\n",
       "      <td>11:00:00</td>\n",
       "      <td>None</td>\n",
       "      <td>None</td>\n",
       "    </tr>\n",
       "    <tr>\n",
       "      <th>4</th>\n",
       "      <td>16:00:00</td>\n",
       "      <td>None</td>\n",
       "      <td>None</td>\n",
       "    </tr>\n",
       "    <tr>\n",
       "      <th>...</th>\n",
       "      <td>...</td>\n",
       "      <td>...</td>\n",
       "      <td>...</td>\n",
       "    </tr>\n",
       "    <tr>\n",
       "      <th>349</th>\n",
       "      <td>18:00</td>\n",
       "      <td>CON</td>\n",
       "      <td>LUZ</td>\n",
       "    </tr>\n",
       "    <tr>\n",
       "      <th>350</th>\n",
       "      <td>17:00:00</td>\n",
       "      <td>None</td>\n",
       "      <td>None</td>\n",
       "    </tr>\n",
       "    <tr>\n",
       "      <th>351</th>\n",
       "      <td>19:00</td>\n",
       "      <td>CON</td>\n",
       "      <td>LUZ</td>\n",
       "    </tr>\n",
       "    <tr>\n",
       "      <th>352</th>\n",
       "      <td>18:00</td>\n",
       "      <td>CON</td>\n",
       "      <td>LUZ</td>\n",
       "    </tr>\n",
       "    <tr>\n",
       "      <th>353</th>\n",
       "      <td>16:00:00</td>\n",
       "      <td>None</td>\n",
       "      <td>None</td>\n",
       "    </tr>\n",
       "  </tbody>\n",
       "</table>\n",
       "<p>353 rows × 3 columns</p>\n",
       "</div>"
      ],
      "text/plain": [
       "            0     1     2\n",
       "0    16:00:00  None  None\n",
       "1    16:00:00  None  None\n",
       "2    13:00:00  None  None\n",
       "3    11:00:00  None  None\n",
       "4    16:00:00  None  None\n",
       "..        ...   ...   ...\n",
       "349     18:00   CON   LUZ\n",
       "350  17:00:00  None  None\n",
       "351     19:00   CON   LUZ\n",
       "352     18:00   CON   LUZ\n",
       "353  16:00:00  None  None\n",
       "\n",
       "[353 rows x 3 columns]"
      ]
     },
     "execution_count": 44,
     "metadata": {},
     "output_type": "execute_result"
    }
   ],
   "source": [
    "# Build new column from splited_hora\n",
    "splited_hora"
   ]
  },
  {
   "cell_type": "code",
   "execution_count": 45,
   "id": "59ed4048-f163-48ed-aa29-ae84526359a9",
   "metadata": {},
   "outputs": [],
   "source": [
    "# Take a column of splited_hora and complete with 'SOL' where is empty/None\n",
    "sluz = splited_hora[2].astype(\"string\")\n",
    "sluz.fillna(\"SOL\", inplace = True)\n",
    "\n",
    "# Make a categorical convertion from sluz to cluz\n",
    "cluz = pd.Categorical(sluz, categories=[\"SOL\", \"LUZ\"], ordered=False)\n",
    "\n",
    "# Set the new column in df with iluminacion from cluz\n",
    "df['iluminacion'] = cluz"
   ]
  },
  {
   "cell_type": "code",
   "execution_count": 46,
   "id": "e025af94-07c4-46be-8832-3c2c50141df2",
   "metadata": {},
   "outputs": [
    {
     "data": {
      "text/html": [
       "<div>\n",
       "<style scoped>\n",
       "    .dataframe tbody tr th:only-of-type {\n",
       "        vertical-align: middle;\n",
       "    }\n",
       "\n",
       "    .dataframe tbody tr th {\n",
       "        vertical-align: top;\n",
       "    }\n",
       "\n",
       "    .dataframe thead th {\n",
       "        text-align: right;\n",
       "    }\n",
       "</style>\n",
       "<table border=\"1\" class=\"dataframe\">\n",
       "  <thead>\n",
       "    <tr style=\"text-align: right;\">\n",
       "      <th></th>\n",
       "      <th>reserva</th>\n",
       "      <th>fechayhora</th>\n",
       "      <th>servicio</th>\n",
       "      <th>mza-lote</th>\n",
       "      <th>casa</th>\n",
       "      <th>iluminacion</th>\n",
       "    </tr>\n",
       "  </thead>\n",
       "  <tbody>\n",
       "    <tr>\n",
       "      <th>0</th>\n",
       "      <td>8219516</td>\n",
       "      <td>2023-07-08 16:00:00</td>\n",
       "      <td>Tenis - Cancha 2</td>\n",
       "      <td>APROBADA</td>\n",
       "      <td>M-03</td>\n",
       "      <td>SOL</td>\n",
       "    </tr>\n",
       "    <tr>\n",
       "      <th>1</th>\n",
       "      <td>8218607</td>\n",
       "      <td>2023-07-08 16:00:00</td>\n",
       "      <td>Tenis - Cancha 1</td>\n",
       "      <td>APROBADA</td>\n",
       "      <td>F-04</td>\n",
       "      <td>SOL</td>\n",
       "    </tr>\n",
       "    <tr>\n",
       "      <th>2</th>\n",
       "      <td>8217992</td>\n",
       "      <td>2023-07-08 13:00:00</td>\n",
       "      <td>Tenis - Cancha 1</td>\n",
       "      <td>APROBADA</td>\n",
       "      <td>G-12</td>\n",
       "      <td>SOL</td>\n",
       "    </tr>\n",
       "    <tr>\n",
       "      <th>3</th>\n",
       "      <td>8212103</td>\n",
       "      <td>2023-07-07 11:00:00</td>\n",
       "      <td>Tenis - Cancha 1</td>\n",
       "      <td>APROBADA</td>\n",
       "      <td>A-52</td>\n",
       "      <td>SOL</td>\n",
       "    </tr>\n",
       "    <tr>\n",
       "      <th>4</th>\n",
       "      <td>8196830</td>\n",
       "      <td>2023-07-04 16:00:00</td>\n",
       "      <td>Tenis - Cancha 1</td>\n",
       "      <td>APROBADA</td>\n",
       "      <td>K-04</td>\n",
       "      <td>SOL</td>\n",
       "    </tr>\n",
       "  </tbody>\n",
       "</table>\n",
       "</div>"
      ],
      "text/plain": [
       "   reserva           fechayhora          servicio  mza-lote  casa iluminacion\n",
       "0   8219516 2023-07-08 16:00:00  Tenis - Cancha 2  APROBADA  M-03         SOL\n",
       "1   8218607 2023-07-08 16:00:00  Tenis - Cancha 1  APROBADA  F-04         SOL\n",
       "2   8217992 2023-07-08 13:00:00  Tenis - Cancha 1  APROBADA  G-12         SOL\n",
       "3   8212103 2023-07-07 11:00:00  Tenis - Cancha 1  APROBADA  A-52         SOL\n",
       "4   8196830 2023-07-04 16:00:00  Tenis - Cancha 1  APROBADA  K-04         SOL"
      ]
     },
     "execution_count": 46,
     "metadata": {},
     "output_type": "execute_result"
    }
   ],
   "source": [
    "# Check the resulting dataframe\n",
    "df.head()"
   ]
  },
  {
   "cell_type": "markdown",
   "id": "58b806af-b7ce-4c44-bf1c-8aabf85b8ed1",
   "metadata": {},
   "source": [
    "<b>Ilumina CON/SIN LUZ correction Successfull!</b> \n",
    "<b>Next Cancha/Servicio depuration</b> "
   ]
  },
  {
   "cell_type": "markdown",
   "id": "5bdd9608-5ac1-4018-a665-5fd1c7c88a25",
   "metadata": {
    "jp-MarkdownHeadingCollapsed": true,
    "tags": []
   },
   "source": [
    "#### New column Cancha Setup"
   ]
  },
  {
   "cell_type": "code",
   "execution_count": 47,
   "id": "8466def5-b911-412c-ad50-cb5309f4a389",
   "metadata": {},
   "outputs": [],
   "source": [
    "# Servicio has merged Tenis and Cancha with number. Split and correction is necesary\n",
    "# Split column servicio to take only the number of the cancha\n",
    "splited_servicio = df['servicio'].str.split(\" \", expand= True)"
   ]
  },
  {
   "cell_type": "code",
   "execution_count": 48,
   "id": "9c777922-e13c-4aa8-88b4-30a41b0f6d55",
   "metadata": {},
   "outputs": [
    {
     "data": {
      "text/html": [
       "<div>\n",
       "<style scoped>\n",
       "    .dataframe tbody tr th:only-of-type {\n",
       "        vertical-align: middle;\n",
       "    }\n",
       "\n",
       "    .dataframe tbody tr th {\n",
       "        vertical-align: top;\n",
       "    }\n",
       "\n",
       "    .dataframe thead th {\n",
       "        text-align: right;\n",
       "    }\n",
       "</style>\n",
       "<table border=\"1\" class=\"dataframe\">\n",
       "  <thead>\n",
       "    <tr style=\"text-align: right;\">\n",
       "      <th></th>\n",
       "      <th>0</th>\n",
       "      <th>1</th>\n",
       "      <th>2</th>\n",
       "      <th>3</th>\n",
       "    </tr>\n",
       "  </thead>\n",
       "  <tbody>\n",
       "    <tr>\n",
       "      <th>0</th>\n",
       "      <td>Tenis</td>\n",
       "      <td>-</td>\n",
       "      <td>Cancha</td>\n",
       "      <td>2</td>\n",
       "    </tr>\n",
       "    <tr>\n",
       "      <th>1</th>\n",
       "      <td>Tenis</td>\n",
       "      <td>-</td>\n",
       "      <td>Cancha</td>\n",
       "      <td>1</td>\n",
       "    </tr>\n",
       "    <tr>\n",
       "      <th>2</th>\n",
       "      <td>Tenis</td>\n",
       "      <td>-</td>\n",
       "      <td>Cancha</td>\n",
       "      <td>1</td>\n",
       "    </tr>\n",
       "    <tr>\n",
       "      <th>3</th>\n",
       "      <td>Tenis</td>\n",
       "      <td>-</td>\n",
       "      <td>Cancha</td>\n",
       "      <td>1</td>\n",
       "    </tr>\n",
       "    <tr>\n",
       "      <th>4</th>\n",
       "      <td>Tenis</td>\n",
       "      <td>-</td>\n",
       "      <td>Cancha</td>\n",
       "      <td>1</td>\n",
       "    </tr>\n",
       "    <tr>\n",
       "      <th>...</th>\n",
       "      <td>...</td>\n",
       "      <td>...</td>\n",
       "      <td>...</td>\n",
       "      <td>...</td>\n",
       "    </tr>\n",
       "    <tr>\n",
       "      <th>349</th>\n",
       "      <td>Tenis</td>\n",
       "      <td>-</td>\n",
       "      <td>Cancha</td>\n",
       "      <td>1</td>\n",
       "    </tr>\n",
       "    <tr>\n",
       "      <th>350</th>\n",
       "      <td>Tenis</td>\n",
       "      <td>-</td>\n",
       "      <td>Cancha</td>\n",
       "      <td>1</td>\n",
       "    </tr>\n",
       "    <tr>\n",
       "      <th>351</th>\n",
       "      <td>Tenis</td>\n",
       "      <td>-</td>\n",
       "      <td>Cancha</td>\n",
       "      <td>2</td>\n",
       "    </tr>\n",
       "    <tr>\n",
       "      <th>352</th>\n",
       "      <td>Tenis</td>\n",
       "      <td>-</td>\n",
       "      <td>Cancha</td>\n",
       "      <td>1</td>\n",
       "    </tr>\n",
       "    <tr>\n",
       "      <th>353</th>\n",
       "      <td>Tenis</td>\n",
       "      <td>-</td>\n",
       "      <td>Cancha</td>\n",
       "      <td>1</td>\n",
       "    </tr>\n",
       "  </tbody>\n",
       "</table>\n",
       "<p>353 rows × 4 columns</p>\n",
       "</div>"
      ],
      "text/plain": [
       "         0  1       2  3\n",
       "0    Tenis  -  Cancha  2\n",
       "1    Tenis  -  Cancha  1\n",
       "2    Tenis  -  Cancha  1\n",
       "3    Tenis  -  Cancha  1\n",
       "4    Tenis  -  Cancha  1\n",
       "..     ... ..     ... ..\n",
       "349  Tenis  -  Cancha  1\n",
       "350  Tenis  -  Cancha  1\n",
       "351  Tenis  -  Cancha  2\n",
       "352  Tenis  -  Cancha  1\n",
       "353  Tenis  -  Cancha  1\n",
       "\n",
       "[353 rows x 4 columns]"
      ]
     },
     "execution_count": 48,
     "metadata": {},
     "output_type": "execute_result"
    }
   ],
   "source": [
    "splited_servicio"
   ]
  },
  {
   "cell_type": "code",
   "execution_count": 49,
   "id": "cb0fdb6b-3f11-4ca3-b065-7a7e59044861",
   "metadata": {},
   "outputs": [],
   "source": [
    "# Reunite Cancha with number of the cancha in a serie scancha\n",
    "scancha = splited_servicio[2] + \" \" + splited_servicio [3]"
   ]
  },
  {
   "cell_type": "code",
   "execution_count": 50,
   "id": "2b1d4aef-5e78-4602-b850-bfe7c18d3565",
   "metadata": {},
   "outputs": [],
   "source": [
    "# Asign to servicio categorical serie of scancha\n",
    "df['servicio'] = pd.Categorical(scancha, categories=[\"Cancha 1\", \"Cancha 2\"], ordered=False)"
   ]
  },
  {
   "cell_type": "code",
   "execution_count": 51,
   "id": "a0b82f6a-b2ac-41e8-a4c1-b2c4cdd21b2f",
   "metadata": {},
   "outputs": [
    {
     "data": {
      "text/html": [
       "<div>\n",
       "<style scoped>\n",
       "    .dataframe tbody tr th:only-of-type {\n",
       "        vertical-align: middle;\n",
       "    }\n",
       "\n",
       "    .dataframe tbody tr th {\n",
       "        vertical-align: top;\n",
       "    }\n",
       "\n",
       "    .dataframe thead th {\n",
       "        text-align: right;\n",
       "    }\n",
       "</style>\n",
       "<table border=\"1\" class=\"dataframe\">\n",
       "  <thead>\n",
       "    <tr style=\"text-align: right;\">\n",
       "      <th></th>\n",
       "      <th>reserva</th>\n",
       "      <th>fechayhora</th>\n",
       "      <th>servicio</th>\n",
       "      <th>mza-lote</th>\n",
       "      <th>casa</th>\n",
       "      <th>iluminacion</th>\n",
       "    </tr>\n",
       "  </thead>\n",
       "  <tbody>\n",
       "    <tr>\n",
       "      <th>0</th>\n",
       "      <td>8219516</td>\n",
       "      <td>2023-07-08 16:00:00</td>\n",
       "      <td>Cancha 2</td>\n",
       "      <td>APROBADA</td>\n",
       "      <td>M-03</td>\n",
       "      <td>SOL</td>\n",
       "    </tr>\n",
       "    <tr>\n",
       "      <th>1</th>\n",
       "      <td>8218607</td>\n",
       "      <td>2023-07-08 16:00:00</td>\n",
       "      <td>Cancha 1</td>\n",
       "      <td>APROBADA</td>\n",
       "      <td>F-04</td>\n",
       "      <td>SOL</td>\n",
       "    </tr>\n",
       "    <tr>\n",
       "      <th>2</th>\n",
       "      <td>8217992</td>\n",
       "      <td>2023-07-08 13:00:00</td>\n",
       "      <td>Cancha 1</td>\n",
       "      <td>APROBADA</td>\n",
       "      <td>G-12</td>\n",
       "      <td>SOL</td>\n",
       "    </tr>\n",
       "    <tr>\n",
       "      <th>3</th>\n",
       "      <td>8212103</td>\n",
       "      <td>2023-07-07 11:00:00</td>\n",
       "      <td>Cancha 1</td>\n",
       "      <td>APROBADA</td>\n",
       "      <td>A-52</td>\n",
       "      <td>SOL</td>\n",
       "    </tr>\n",
       "    <tr>\n",
       "      <th>4</th>\n",
       "      <td>8196830</td>\n",
       "      <td>2023-07-04 16:00:00</td>\n",
       "      <td>Cancha 1</td>\n",
       "      <td>APROBADA</td>\n",
       "      <td>K-04</td>\n",
       "      <td>SOL</td>\n",
       "    </tr>\n",
       "  </tbody>\n",
       "</table>\n",
       "</div>"
      ],
      "text/plain": [
       "   reserva           fechayhora  servicio  mza-lote  casa iluminacion\n",
       "0   8219516 2023-07-08 16:00:00  Cancha 2  APROBADA  M-03         SOL\n",
       "1   8218607 2023-07-08 16:00:00  Cancha 1  APROBADA  F-04         SOL\n",
       "2   8217992 2023-07-08 13:00:00  Cancha 1  APROBADA  G-12         SOL\n",
       "3   8212103 2023-07-07 11:00:00  Cancha 1  APROBADA  A-52         SOL\n",
       "4   8196830 2023-07-04 16:00:00  Cancha 1  APROBADA  K-04         SOL"
      ]
     },
     "execution_count": 51,
     "metadata": {},
     "output_type": "execute_result"
    }
   ],
   "source": [
    "df.head()"
   ]
  },
  {
   "cell_type": "markdown",
   "id": "ad31b005-c574-4bef-896a-57593e3627e5",
   "metadata": {},
   "source": [
    "<b>Cancha 1/Cancha2 servicio correction Successfull!</b> \n",
    "<b>Next Manzana/Lote depuration</b> "
   ]
  },
  {
   "cell_type": "markdown",
   "id": "7f261ac7-7c5b-4353-a94f-9cb432184fea",
   "metadata": {
    "jp-MarkdownHeadingCollapsed": true,
    "tags": []
   },
   "source": [
    "#### Mza-lote Depuration - Categorization"
   ]
  },
  {
   "cell_type": "code",
   "execution_count": 52,
   "id": "9924951b-21a1-4937-ba36-4dcfd42f27c6",
   "metadata": {},
   "outputs": [],
   "source": [
    "# Categorization of the aprobation\n",
    "df['mza-lote'] = pd.Categorical(df['mza-lote'], categories=[\"APROBADA\", \"NO APROBADA\"], ordered=False)"
   ]
  },
  {
   "cell_type": "code",
   "execution_count": 53,
   "id": "f937d98d-d9fa-4360-a844-b04bd08c2a78",
   "metadata": {},
   "outputs": [
    {
     "data": {
      "text/plain": [
       "reserva                 int64\n",
       "fechayhora     datetime64[ns]\n",
       "servicio             category\n",
       "mza-lote             category\n",
       "casa                   object\n",
       "iluminacion          category\n",
       "dtype: object"
      ]
     },
     "execution_count": 53,
     "metadata": {},
     "output_type": "execute_result"
    }
   ],
   "source": [
    "df.dtypes"
   ]
  },
  {
   "cell_type": "markdown",
   "id": "bced9cc3-a940-4c91-b573-134283d3d978",
   "metadata": {
    "jp-MarkdownHeadingCollapsed": true,
    "tags": []
   },
   "source": [
    "#### Columns organization"
   ]
  },
  {
   "cell_type": "code",
   "execution_count": 54,
   "id": "68e26042-7056-4d4b-8008-850032632f7a",
   "metadata": {},
   "outputs": [],
   "source": [
    "# Reordering coluns: Inster ilumina column to replace inuminacion column between fechayhora and servicio\n",
    "# df.reindex(columns = ['reserva','fechayhora','iluminacion','mza-lote','casa']) # Ojo: esto no anda bien reserva queda toda en NaN!\n",
    "df.insert(2, 'ilumina', df['iluminacion'], True)\n",
    "\n",
    "# Reordering columns: Drop the Iluminacion column\n",
    "df = df.drop('iluminacion', axis=1)"
   ]
  },
  {
   "cell_type": "code",
   "execution_count": 55,
   "id": "41535e73-f2d3-4107-b625-a09fa70d796d",
   "metadata": {},
   "outputs": [
    {
     "name": "stdout",
     "output_type": "stream",
     "text": [
      "<class 'pandas.core.frame.DataFrame'>\n",
      "Int64Index: 353 entries, 0 to 353\n",
      "Data columns (total 6 columns):\n",
      " #   Column      Non-Null Count  Dtype         \n",
      "---  ------      --------------  -----         \n",
      " 0   reserva     353 non-null    int64         \n",
      " 1   fechayhora  353 non-null    datetime64[ns]\n",
      " 2   ilumina     353 non-null    category      \n",
      " 3   servicio    353 non-null    category      \n",
      " 4   mza-lote    353 non-null    category      \n",
      " 5   casa        353 non-null    object        \n",
      "dtypes: category(3), datetime64[ns](1), int64(1), object(1)\n",
      "memory usage: 12.4+ KB\n"
     ]
    }
   ],
   "source": [
    "df.info()"
   ]
  },
  {
   "cell_type": "markdown",
   "id": "a32c2547-b7b5-4ce3-a374-c43a0eb992ad",
   "metadata": {
    "jp-MarkdownHeadingCollapsed": true,
    "tags": []
   },
   "source": [
    "<h4>Reorder df by date and time</h4>"
   ]
  },
  {
   "cell_type": "code",
   "execution_count": 56,
   "id": "925e34ce-ce58-4ce9-8654-690e95831c19",
   "metadata": {},
   "outputs": [],
   "source": [
    "df.sort_values(by = 'fechayhora', inplace = True)"
   ]
  },
  {
   "cell_type": "code",
   "execution_count": 57,
   "id": "fc78b3fc-b314-4453-9a53-6fe564661599",
   "metadata": {},
   "outputs": [
    {
     "data": {
      "text/html": [
       "<div>\n",
       "<style scoped>\n",
       "    .dataframe tbody tr th:only-of-type {\n",
       "        vertical-align: middle;\n",
       "    }\n",
       "\n",
       "    .dataframe tbody tr th {\n",
       "        vertical-align: top;\n",
       "    }\n",
       "\n",
       "    .dataframe thead th {\n",
       "        text-align: right;\n",
       "    }\n",
       "</style>\n",
       "<table border=\"1\" class=\"dataframe\">\n",
       "  <thead>\n",
       "    <tr style=\"text-align: right;\">\n",
       "      <th></th>\n",
       "      <th>reserva</th>\n",
       "      <th>fechayhora</th>\n",
       "      <th>ilumina</th>\n",
       "      <th>servicio</th>\n",
       "      <th>mza-lote</th>\n",
       "      <th>casa</th>\n",
       "    </tr>\n",
       "  </thead>\n",
       "  <tbody>\n",
       "    <tr>\n",
       "      <th>353</th>\n",
       "      <td>1652644</td>\n",
       "      <td>2020-11-26 16:00:00</td>\n",
       "      <td>SOL</td>\n",
       "      <td>Cancha 1</td>\n",
       "      <td>APROBADA</td>\n",
       "      <td>N-09</td>\n",
       "    </tr>\n",
       "    <tr>\n",
       "      <th>352</th>\n",
       "      <td>1687243</td>\n",
       "      <td>2020-12-02 18:00:00</td>\n",
       "      <td>LUZ</td>\n",
       "      <td>Cancha 1</td>\n",
       "      <td>APROBADA</td>\n",
       "      <td>M-03</td>\n",
       "    </tr>\n",
       "    <tr>\n",
       "      <th>351</th>\n",
       "      <td>1687608</td>\n",
       "      <td>2020-12-02 19:00:00</td>\n",
       "      <td>LUZ</td>\n",
       "      <td>Cancha 2</td>\n",
       "      <td>APROBADA</td>\n",
       "      <td>H-07</td>\n",
       "    </tr>\n",
       "    <tr>\n",
       "      <th>350</th>\n",
       "      <td>1712222</td>\n",
       "      <td>2020-12-04 17:00:00</td>\n",
       "      <td>SOL</td>\n",
       "      <td>Cancha 1</td>\n",
       "      <td>APROBADA</td>\n",
       "      <td>E-08</td>\n",
       "    </tr>\n",
       "    <tr>\n",
       "      <th>349</th>\n",
       "      <td>1712511</td>\n",
       "      <td>2020-12-04 18:00:00</td>\n",
       "      <td>LUZ</td>\n",
       "      <td>Cancha 1</td>\n",
       "      <td>APROBADA</td>\n",
       "      <td>PRUEBA</td>\n",
       "    </tr>\n",
       "    <tr>\n",
       "      <th>...</th>\n",
       "      <td>...</td>\n",
       "      <td>...</td>\n",
       "      <td>...</td>\n",
       "      <td>...</td>\n",
       "      <td>...</td>\n",
       "      <td>...</td>\n",
       "    </tr>\n",
       "    <tr>\n",
       "      <th>4</th>\n",
       "      <td>8196830</td>\n",
       "      <td>2023-07-04 16:00:00</td>\n",
       "      <td>SOL</td>\n",
       "      <td>Cancha 1</td>\n",
       "      <td>APROBADA</td>\n",
       "      <td>K-04</td>\n",
       "    </tr>\n",
       "    <tr>\n",
       "      <th>3</th>\n",
       "      <td>8212103</td>\n",
       "      <td>2023-07-07 11:00:00</td>\n",
       "      <td>SOL</td>\n",
       "      <td>Cancha 1</td>\n",
       "      <td>APROBADA</td>\n",
       "      <td>A-52</td>\n",
       "    </tr>\n",
       "    <tr>\n",
       "      <th>2</th>\n",
       "      <td>8217992</td>\n",
       "      <td>2023-07-08 13:00:00</td>\n",
       "      <td>SOL</td>\n",
       "      <td>Cancha 1</td>\n",
       "      <td>APROBADA</td>\n",
       "      <td>G-12</td>\n",
       "    </tr>\n",
       "    <tr>\n",
       "      <th>1</th>\n",
       "      <td>8218607</td>\n",
       "      <td>2023-07-08 16:00:00</td>\n",
       "      <td>SOL</td>\n",
       "      <td>Cancha 1</td>\n",
       "      <td>APROBADA</td>\n",
       "      <td>F-04</td>\n",
       "    </tr>\n",
       "    <tr>\n",
       "      <th>0</th>\n",
       "      <td>8219516</td>\n",
       "      <td>2023-07-08 16:00:00</td>\n",
       "      <td>SOL</td>\n",
       "      <td>Cancha 2</td>\n",
       "      <td>APROBADA</td>\n",
       "      <td>M-03</td>\n",
       "    </tr>\n",
       "  </tbody>\n",
       "</table>\n",
       "<p>353 rows × 6 columns</p>\n",
       "</div>"
      ],
      "text/plain": [
       "     reserva           fechayhora ilumina  servicio  mza-lote    casa\n",
       "353   1652644 2020-11-26 16:00:00     SOL  Cancha 1  APROBADA    N-09\n",
       "352   1687243 2020-12-02 18:00:00     LUZ  Cancha 1  APROBADA    M-03\n",
       "351   1687608 2020-12-02 19:00:00     LUZ  Cancha 2  APROBADA    H-07\n",
       "350   1712222 2020-12-04 17:00:00     SOL  Cancha 1  APROBADA    E-08\n",
       "349   1712511 2020-12-04 18:00:00     LUZ  Cancha 1  APROBADA  PRUEBA\n",
       "..        ...                 ...     ...       ...       ...     ...\n",
       "4     8196830 2023-07-04 16:00:00     SOL  Cancha 1  APROBADA    K-04\n",
       "3     8212103 2023-07-07 11:00:00     SOL  Cancha 1  APROBADA    A-52\n",
       "2     8217992 2023-07-08 13:00:00     SOL  Cancha 1  APROBADA    G-12\n",
       "1     8218607 2023-07-08 16:00:00     SOL  Cancha 1  APROBADA    F-04\n",
       "0     8219516 2023-07-08 16:00:00     SOL  Cancha 2  APROBADA    M-03\n",
       "\n",
       "[353 rows x 6 columns]"
      ]
     },
     "execution_count": 57,
     "metadata": {},
     "output_type": "execute_result"
    }
   ],
   "source": [
    "df"
   ]
  },
  {
   "cell_type": "markdown",
   "id": "840c8adb-40a8-43e8-a4a4-2a9cea35ec28",
   "metadata": {
    "jp-MarkdownHeadingCollapsed": true,
    "tags": []
   },
   "source": [
    "#### Adding users column"
   ]
  },
  {
   "cell_type": "code",
   "execution_count": 58,
   "id": "6addcd67-dcc4-4d68-b667-0b22bf8e5818",
   "metadata": {},
   "outputs": [],
   "source": [
    "# Generate a random Series with 354 elements, where each element is either \"Propietario\" or \"Invitado\"\n",
    "choices = [\"Propietario\", \"Invitado\"]\n",
    "random_data = np.random.choice(choices, size=354, replace=True)\n",
    "\n",
    "# Create a pandas Series from the random data\n",
    "random_series = pd.Series(random_data)\n",
    "\n",
    "# Create a column with de serie\n",
    "df['usuario'] = random_series"
   ]
  },
  {
   "cell_type": "code",
   "execution_count": 59,
   "id": "e32ad695-ca67-4190-800c-2b810c9ba9d0",
   "metadata": {},
   "outputs": [
    {
     "data": {
      "text/html": [
       "<div>\n",
       "<style scoped>\n",
       "    .dataframe tbody tr th:only-of-type {\n",
       "        vertical-align: middle;\n",
       "    }\n",
       "\n",
       "    .dataframe tbody tr th {\n",
       "        vertical-align: top;\n",
       "    }\n",
       "\n",
       "    .dataframe thead th {\n",
       "        text-align: right;\n",
       "    }\n",
       "</style>\n",
       "<table border=\"1\" class=\"dataframe\">\n",
       "  <thead>\n",
       "    <tr style=\"text-align: right;\">\n",
       "      <th></th>\n",
       "      <th>reserva</th>\n",
       "      <th>fechayhora</th>\n",
       "      <th>ilumina</th>\n",
       "      <th>servicio</th>\n",
       "      <th>mza-lote</th>\n",
       "      <th>casa</th>\n",
       "      <th>usuario</th>\n",
       "    </tr>\n",
       "  </thead>\n",
       "  <tbody>\n",
       "    <tr>\n",
       "      <th>353</th>\n",
       "      <td>1652644</td>\n",
       "      <td>2020-11-26 16:00:00</td>\n",
       "      <td>SOL</td>\n",
       "      <td>Cancha 1</td>\n",
       "      <td>APROBADA</td>\n",
       "      <td>N-09</td>\n",
       "      <td>Invitado</td>\n",
       "    </tr>\n",
       "    <tr>\n",
       "      <th>352</th>\n",
       "      <td>1687243</td>\n",
       "      <td>2020-12-02 18:00:00</td>\n",
       "      <td>LUZ</td>\n",
       "      <td>Cancha 1</td>\n",
       "      <td>APROBADA</td>\n",
       "      <td>M-03</td>\n",
       "      <td>Propietario</td>\n",
       "    </tr>\n",
       "    <tr>\n",
       "      <th>351</th>\n",
       "      <td>1687608</td>\n",
       "      <td>2020-12-02 19:00:00</td>\n",
       "      <td>LUZ</td>\n",
       "      <td>Cancha 2</td>\n",
       "      <td>APROBADA</td>\n",
       "      <td>H-07</td>\n",
       "      <td>Invitado</td>\n",
       "    </tr>\n",
       "    <tr>\n",
       "      <th>350</th>\n",
       "      <td>1712222</td>\n",
       "      <td>2020-12-04 17:00:00</td>\n",
       "      <td>SOL</td>\n",
       "      <td>Cancha 1</td>\n",
       "      <td>APROBADA</td>\n",
       "      <td>E-08</td>\n",
       "      <td>Propietario</td>\n",
       "    </tr>\n",
       "    <tr>\n",
       "      <th>349</th>\n",
       "      <td>1712511</td>\n",
       "      <td>2020-12-04 18:00:00</td>\n",
       "      <td>LUZ</td>\n",
       "      <td>Cancha 1</td>\n",
       "      <td>APROBADA</td>\n",
       "      <td>PRUEBA</td>\n",
       "      <td>Invitado</td>\n",
       "    </tr>\n",
       "    <tr>\n",
       "      <th>...</th>\n",
       "      <td>...</td>\n",
       "      <td>...</td>\n",
       "      <td>...</td>\n",
       "      <td>...</td>\n",
       "      <td>...</td>\n",
       "      <td>...</td>\n",
       "      <td>...</td>\n",
       "    </tr>\n",
       "    <tr>\n",
       "      <th>4</th>\n",
       "      <td>8196830</td>\n",
       "      <td>2023-07-04 16:00:00</td>\n",
       "      <td>SOL</td>\n",
       "      <td>Cancha 1</td>\n",
       "      <td>APROBADA</td>\n",
       "      <td>K-04</td>\n",
       "      <td>Propietario</td>\n",
       "    </tr>\n",
       "    <tr>\n",
       "      <th>3</th>\n",
       "      <td>8212103</td>\n",
       "      <td>2023-07-07 11:00:00</td>\n",
       "      <td>SOL</td>\n",
       "      <td>Cancha 1</td>\n",
       "      <td>APROBADA</td>\n",
       "      <td>A-52</td>\n",
       "      <td>Propietario</td>\n",
       "    </tr>\n",
       "    <tr>\n",
       "      <th>2</th>\n",
       "      <td>8217992</td>\n",
       "      <td>2023-07-08 13:00:00</td>\n",
       "      <td>SOL</td>\n",
       "      <td>Cancha 1</td>\n",
       "      <td>APROBADA</td>\n",
       "      <td>G-12</td>\n",
       "      <td>Invitado</td>\n",
       "    </tr>\n",
       "    <tr>\n",
       "      <th>1</th>\n",
       "      <td>8218607</td>\n",
       "      <td>2023-07-08 16:00:00</td>\n",
       "      <td>SOL</td>\n",
       "      <td>Cancha 1</td>\n",
       "      <td>APROBADA</td>\n",
       "      <td>F-04</td>\n",
       "      <td>Propietario</td>\n",
       "    </tr>\n",
       "    <tr>\n",
       "      <th>0</th>\n",
       "      <td>8219516</td>\n",
       "      <td>2023-07-08 16:00:00</td>\n",
       "      <td>SOL</td>\n",
       "      <td>Cancha 2</td>\n",
       "      <td>APROBADA</td>\n",
       "      <td>M-03</td>\n",
       "      <td>Propietario</td>\n",
       "    </tr>\n",
       "  </tbody>\n",
       "</table>\n",
       "<p>353 rows × 7 columns</p>\n",
       "</div>"
      ],
      "text/plain": [
       "     reserva           fechayhora ilumina  servicio  mza-lote    casa  \\\n",
       "353   1652644 2020-11-26 16:00:00     SOL  Cancha 1  APROBADA    N-09   \n",
       "352   1687243 2020-12-02 18:00:00     LUZ  Cancha 1  APROBADA    M-03   \n",
       "351   1687608 2020-12-02 19:00:00     LUZ  Cancha 2  APROBADA    H-07   \n",
       "350   1712222 2020-12-04 17:00:00     SOL  Cancha 1  APROBADA    E-08   \n",
       "349   1712511 2020-12-04 18:00:00     LUZ  Cancha 1  APROBADA  PRUEBA   \n",
       "..        ...                 ...     ...       ...       ...     ...   \n",
       "4     8196830 2023-07-04 16:00:00     SOL  Cancha 1  APROBADA    K-04   \n",
       "3     8212103 2023-07-07 11:00:00     SOL  Cancha 1  APROBADA    A-52   \n",
       "2     8217992 2023-07-08 13:00:00     SOL  Cancha 1  APROBADA    G-12   \n",
       "1     8218607 2023-07-08 16:00:00     SOL  Cancha 1  APROBADA    F-04   \n",
       "0     8219516 2023-07-08 16:00:00     SOL  Cancha 2  APROBADA    M-03   \n",
       "\n",
       "         usuario  \n",
       "353     Invitado  \n",
       "352  Propietario  \n",
       "351     Invitado  \n",
       "350  Propietario  \n",
       "349     Invitado  \n",
       "..           ...  \n",
       "4    Propietario  \n",
       "3    Propietario  \n",
       "2       Invitado  \n",
       "1    Propietario  \n",
       "0    Propietario  \n",
       "\n",
       "[353 rows x 7 columns]"
      ]
     },
     "execution_count": 59,
     "metadata": {},
     "output_type": "execute_result"
    }
   ],
   "source": [
    "df"
   ]
  },
  {
   "cell_type": "code",
   "execution_count": 60,
   "id": "61896eff-83b8-42b8-8154-b9d03cfec70f",
   "metadata": {},
   "outputs": [],
   "source": [
    "df['usuario'] = pd.Categorical(df['usuario'], categories=[\"Propietario\", \"Invitado\"], ordered=False)"
   ]
  },
  {
   "cell_type": "markdown",
   "id": "4813cbdd-9886-4ce6-91a3-78e2533b2f38",
   "metadata": {
    "tags": []
   },
   "source": [
    "## Append new column for cancha's princing: Create price billed"
   ]
  },
  {
   "cell_type": "raw",
   "id": "e153fa75-7a05-4abf-9e9a-4ab869b2f908",
   "metadata": {},
   "source": [
    "El valor de las canchas de tenis tomado desde Enero 2021, cuando se retomo de a poco las actividades debido a la pandemia era : \n",
    "propietarios $ 100 y $ 200 los  invitados sin luz, y$ 150 los propietarios y $ 250 los invitados con luz. \n",
    "Luego hubo reajuste recién en Febrero 2023 propietarios $150, invitados $250 sin luz y $ 250 propietarios y $ $400 invitados con luz.\n",
    "Y el ultimo aumento Julio 2023:\n",
    "$ 200 propietarios, $ 300 invitados sin luz  y $300 propietarios y $500 invitados con luz"
   ]
  },
  {
   "cell_type": "code",
   "execution_count": 61,
   "id": "0f96270a-ab19-464d-a31f-e8ea1eef6fa8",
   "metadata": {},
   "outputs": [],
   "source": [
    "df['precio'] = 0.0"
   ]
  },
  {
   "cell_type": "code",
   "execution_count": 62,
   "id": "7a286391-c13e-45d8-8f65-6b188d7deddc",
   "metadata": {},
   "outputs": [
    {
     "data": {
      "text/plain": [
       "reserva                int64\n",
       "fechayhora    datetime64[ns]\n",
       "ilumina             category\n",
       "servicio            category\n",
       "mza-lote            category\n",
       "casa                  object\n",
       "usuario             category\n",
       "precio               float64\n",
       "dtype: object"
      ]
     },
     "execution_count": 62,
     "metadata": {},
     "output_type": "execute_result"
    }
   ],
   "source": [
    "df.dtypes"
   ]
  },
  {
   "cell_type": "markdown",
   "id": "6150344d-32d8-4441-8099-a3dd6ab92e4a",
   "metadata": {},
   "source": [
    "### Pricing Table"
   ]
  },
  {
   "cell_type": "code",
   "execution_count": 63,
   "id": "17c46649-e1a4-4789-abed-4f1f36108bef",
   "metadata": {},
   "outputs": [],
   "source": [
    "# Lee el archivo excel con pandas y guardar el resultado en un dataframe\n",
    "dfp = pd.read_excel(\"PreciosCanchasTenis2.0.xlsx\")"
   ]
  },
  {
   "cell_type": "code",
   "execution_count": 64,
   "id": "37080d16-d647-43c4-aa30-862fda010352",
   "metadata": {},
   "outputs": [
    {
     "data": {
      "text/html": [
       "<div>\n",
       "<style scoped>\n",
       "    .dataframe tbody tr th:only-of-type {\n",
       "        vertical-align: middle;\n",
       "    }\n",
       "\n",
       "    .dataframe tbody tr th {\n",
       "        vertical-align: top;\n",
       "    }\n",
       "\n",
       "    .dataframe thead th {\n",
       "        text-align: right;\n",
       "    }\n",
       "</style>\n",
       "<table border=\"1\" class=\"dataframe\">\n",
       "  <thead>\n",
       "    <tr style=\"text-align: right;\">\n",
       "      <th></th>\n",
       "      <th>Fecha</th>\n",
       "      <th>Usuario</th>\n",
       "      <th>Ilumina</th>\n",
       "      <th>Precio</th>\n",
       "    </tr>\n",
       "  </thead>\n",
       "  <tbody>\n",
       "    <tr>\n",
       "      <th>0</th>\n",
       "      <td>2021-01-01</td>\n",
       "      <td>Propietario</td>\n",
       "      <td>SOL</td>\n",
       "      <td>100</td>\n",
       "    </tr>\n",
       "    <tr>\n",
       "      <th>1</th>\n",
       "      <td>2021-01-01</td>\n",
       "      <td>Propietario</td>\n",
       "      <td>LUZ</td>\n",
       "      <td>200</td>\n",
       "    </tr>\n",
       "    <tr>\n",
       "      <th>2</th>\n",
       "      <td>2021-01-01</td>\n",
       "      <td>Invitado</td>\n",
       "      <td>SOL</td>\n",
       "      <td>100</td>\n",
       "    </tr>\n",
       "    <tr>\n",
       "      <th>3</th>\n",
       "      <td>2021-01-01</td>\n",
       "      <td>Invitado</td>\n",
       "      <td>LUZ</td>\n",
       "      <td>200</td>\n",
       "    </tr>\n",
       "    <tr>\n",
       "      <th>4</th>\n",
       "      <td>2023-02-01</td>\n",
       "      <td>Propietario</td>\n",
       "      <td>SOL</td>\n",
       "      <td>150</td>\n",
       "    </tr>\n",
       "    <tr>\n",
       "      <th>5</th>\n",
       "      <td>2023-02-01</td>\n",
       "      <td>Propietario</td>\n",
       "      <td>LUZ</td>\n",
       "      <td>250</td>\n",
       "    </tr>\n",
       "    <tr>\n",
       "      <th>6</th>\n",
       "      <td>2023-02-01</td>\n",
       "      <td>Invitado</td>\n",
       "      <td>SOL</td>\n",
       "      <td>250</td>\n",
       "    </tr>\n",
       "    <tr>\n",
       "      <th>7</th>\n",
       "      <td>2023-02-01</td>\n",
       "      <td>Invitado</td>\n",
       "      <td>LUZ</td>\n",
       "      <td>400</td>\n",
       "    </tr>\n",
       "    <tr>\n",
       "      <th>8</th>\n",
       "      <td>2023-07-01</td>\n",
       "      <td>Propietario</td>\n",
       "      <td>SOL</td>\n",
       "      <td>200</td>\n",
       "    </tr>\n",
       "    <tr>\n",
       "      <th>9</th>\n",
       "      <td>2023-07-01</td>\n",
       "      <td>Propietario</td>\n",
       "      <td>LUZ</td>\n",
       "      <td>300</td>\n",
       "    </tr>\n",
       "    <tr>\n",
       "      <th>10</th>\n",
       "      <td>2023-07-01</td>\n",
       "      <td>Invitado</td>\n",
       "      <td>SOL</td>\n",
       "      <td>300</td>\n",
       "    </tr>\n",
       "    <tr>\n",
       "      <th>11</th>\n",
       "      <td>2023-07-01</td>\n",
       "      <td>Invitado</td>\n",
       "      <td>LUZ</td>\n",
       "      <td>500</td>\n",
       "    </tr>\n",
       "  </tbody>\n",
       "</table>\n",
       "</div>"
      ],
      "text/plain": [
       "        Fecha      Usuario Ilumina  Precio\n",
       "0  2021-01-01  Propietario     SOL     100\n",
       "1  2021-01-01  Propietario     LUZ     200\n",
       "2  2021-01-01     Invitado     SOL     100\n",
       "3  2021-01-01     Invitado     LUZ     200\n",
       "4  2023-02-01  Propietario     SOL     150\n",
       "5  2023-02-01  Propietario     LUZ     250\n",
       "6  2023-02-01     Invitado     SOL     250\n",
       "7  2023-02-01     Invitado     LUZ     400\n",
       "8  2023-07-01  Propietario     SOL     200\n",
       "9  2023-07-01  Propietario     LUZ     300\n",
       "10 2023-07-01     Invitado     SOL     300\n",
       "11 2023-07-01     Invitado     LUZ     500"
      ]
     },
     "execution_count": 64,
     "metadata": {},
     "output_type": "execute_result"
    }
   ],
   "source": [
    "dfp"
   ]
  },
  {
   "cell_type": "code",
   "execution_count": 65,
   "id": "155a44c8-f373-478b-9084-12934342429a",
   "metadata": {},
   "outputs": [
    {
     "data": {
      "text/plain": [
       "Fecha      datetime64[ns]\n",
       "Usuario            object\n",
       "Ilumina            object\n",
       "Precio              int64\n",
       "dtype: object"
      ]
     },
     "execution_count": 65,
     "metadata": {},
     "output_type": "execute_result"
    }
   ],
   "source": [
    "dfp.dtypes"
   ]
  },
  {
   "cell_type": "code",
   "execution_count": 66,
   "id": "6266a269-628e-4f55-a5bf-8099527086a1",
   "metadata": {},
   "outputs": [],
   "source": [
    "dfp['Precio'] = dfp['Precio'].astype(float)\n",
    "dfp['Usuario'] = pd.Categorical(dfp['Usuario'], categories=[\"Propietario\", \"Invitado\"], ordered=False)\n",
    "dfp['Ilumina'] = pd.Categorical(dfp['Ilumina'], categories=[\"SOL\",\"LUZ\"], ordered=False)"
   ]
  },
  {
   "cell_type": "code",
   "execution_count": 67,
   "id": "8374bb10-b8a4-4cff-a954-1d09008af23c",
   "metadata": {},
   "outputs": [
    {
     "data": {
      "text/plain": [
       "Fecha      datetime64[ns]\n",
       "Usuario          category\n",
       "Ilumina          category\n",
       "Precio            float64\n",
       "dtype: object"
      ]
     },
     "execution_count": 67,
     "metadata": {},
     "output_type": "execute_result"
    }
   ],
   "source": [
    "dfp.dtypes"
   ]
  },
  {
   "cell_type": "code",
   "execution_count": 68,
   "id": "29801812-4138-4c7f-9ad0-65984942c3b5",
   "metadata": {},
   "outputs": [
    {
     "data": {
      "text/html": [
       "<div>\n",
       "<style scoped>\n",
       "    .dataframe tbody tr th:only-of-type {\n",
       "        vertical-align: middle;\n",
       "    }\n",
       "\n",
       "    .dataframe tbody tr th {\n",
       "        vertical-align: top;\n",
       "    }\n",
       "\n",
       "    .dataframe thead th {\n",
       "        text-align: right;\n",
       "    }\n",
       "</style>\n",
       "<table border=\"1\" class=\"dataframe\">\n",
       "  <thead>\n",
       "    <tr style=\"text-align: right;\">\n",
       "      <th></th>\n",
       "      <th>Fecha</th>\n",
       "      <th>Usuario</th>\n",
       "      <th>Ilumina</th>\n",
       "      <th>Precio</th>\n",
       "    </tr>\n",
       "  </thead>\n",
       "  <tbody>\n",
       "    <tr>\n",
       "      <th>0</th>\n",
       "      <td>2021-01-01</td>\n",
       "      <td>Propietario</td>\n",
       "      <td>SOL</td>\n",
       "      <td>100.0</td>\n",
       "    </tr>\n",
       "    <tr>\n",
       "      <th>1</th>\n",
       "      <td>2021-01-01</td>\n",
       "      <td>Propietario</td>\n",
       "      <td>LUZ</td>\n",
       "      <td>200.0</td>\n",
       "    </tr>\n",
       "    <tr>\n",
       "      <th>2</th>\n",
       "      <td>2021-01-01</td>\n",
       "      <td>Invitado</td>\n",
       "      <td>SOL</td>\n",
       "      <td>100.0</td>\n",
       "    </tr>\n",
       "    <tr>\n",
       "      <th>3</th>\n",
       "      <td>2021-01-01</td>\n",
       "      <td>Invitado</td>\n",
       "      <td>LUZ</td>\n",
       "      <td>200.0</td>\n",
       "    </tr>\n",
       "    <tr>\n",
       "      <th>4</th>\n",
       "      <td>2023-02-01</td>\n",
       "      <td>Propietario</td>\n",
       "      <td>SOL</td>\n",
       "      <td>150.0</td>\n",
       "    </tr>\n",
       "    <tr>\n",
       "      <th>5</th>\n",
       "      <td>2023-02-01</td>\n",
       "      <td>Propietario</td>\n",
       "      <td>LUZ</td>\n",
       "      <td>250.0</td>\n",
       "    </tr>\n",
       "    <tr>\n",
       "      <th>6</th>\n",
       "      <td>2023-02-01</td>\n",
       "      <td>Invitado</td>\n",
       "      <td>SOL</td>\n",
       "      <td>250.0</td>\n",
       "    </tr>\n",
       "    <tr>\n",
       "      <th>7</th>\n",
       "      <td>2023-02-01</td>\n",
       "      <td>Invitado</td>\n",
       "      <td>LUZ</td>\n",
       "      <td>400.0</td>\n",
       "    </tr>\n",
       "    <tr>\n",
       "      <th>8</th>\n",
       "      <td>2023-07-01</td>\n",
       "      <td>Propietario</td>\n",
       "      <td>SOL</td>\n",
       "      <td>200.0</td>\n",
       "    </tr>\n",
       "    <tr>\n",
       "      <th>9</th>\n",
       "      <td>2023-07-01</td>\n",
       "      <td>Propietario</td>\n",
       "      <td>LUZ</td>\n",
       "      <td>300.0</td>\n",
       "    </tr>\n",
       "    <tr>\n",
       "      <th>10</th>\n",
       "      <td>2023-07-01</td>\n",
       "      <td>Invitado</td>\n",
       "      <td>SOL</td>\n",
       "      <td>300.0</td>\n",
       "    </tr>\n",
       "    <tr>\n",
       "      <th>11</th>\n",
       "      <td>2023-07-01</td>\n",
       "      <td>Invitado</td>\n",
       "      <td>LUZ</td>\n",
       "      <td>500.0</td>\n",
       "    </tr>\n",
       "  </tbody>\n",
       "</table>\n",
       "</div>"
      ],
      "text/plain": [
       "        Fecha      Usuario Ilumina  Precio\n",
       "0  2021-01-01  Propietario     SOL   100.0\n",
       "1  2021-01-01  Propietario     LUZ   200.0\n",
       "2  2021-01-01     Invitado     SOL   100.0\n",
       "3  2021-01-01     Invitado     LUZ   200.0\n",
       "4  2023-02-01  Propietario     SOL   150.0\n",
       "5  2023-02-01  Propietario     LUZ   250.0\n",
       "6  2023-02-01     Invitado     SOL   250.0\n",
       "7  2023-02-01     Invitado     LUZ   400.0\n",
       "8  2023-07-01  Propietario     SOL   200.0\n",
       "9  2023-07-01  Propietario     LUZ   300.0\n",
       "10 2023-07-01     Invitado     SOL   300.0\n",
       "11 2023-07-01     Invitado     LUZ   500.0"
      ]
     },
     "execution_count": 68,
     "metadata": {},
     "output_type": "execute_result"
    }
   ],
   "source": [
    "dfp"
   ]
  },
  {
   "cell_type": "markdown",
   "id": "fe0315cb-efbd-4c45-ab28-5b886ca9e9bb",
   "metadata": {},
   "source": [
    "### DataFrames Inconcistency - Dates Rows"
   ]
  },
  {
   "cell_type": "markdown",
   "id": "bb4c0f49-5a5c-41f6-99f8-db77140101df",
   "metadata": {
    "slideshow": {
     "slide_type": "notes"
    },
    "tags": []
   },
   "source": [
    "The use of courtyards starts on year 2020 while pricing references information starts on year 2020.\n",
    "El uso de las canchas comienza en el año 2020 mientras que la información de los precios inicia en el año 2021."
   ]
  },
  {
   "cell_type": "markdown",
   "id": "b0edc3cc-b6af-41b9-9562-a852a3a5ad71",
   "metadata": {},
   "source": [
    "Insert a new rows to start pricing from 2020-01-01.\n",
    "Insertar nuevas filas para iniciar con los precios 01-01-2020."
   ]
  },
  {
   "cell_type": "code",
   "execution_count": 69,
   "id": "22f26ab0-63b1-4afd-b76d-a8697da6a27a",
   "metadata": {},
   "outputs": [],
   "source": [
    "# Insert 4 rows - Prepare new 4 rows to add\n",
    "data = {\n",
    "    'Fecha': ['2020-01-01', '2020-01-01', '2020-01-01', '2020-01-01'],\n",
    "    'Usuario': ['Propietario', 'Propietario', 'Invitado', 'Invitado'],\n",
    "    'Ilumina': ['SOL', 'LUZ', 'SOL', 'LUZ'],\n",
    "    'Precio': [90, 190, 90, 190]\n",
    "}\n",
    "\n",
    "dfp2add = pd.DataFrame(data)"
   ]
  },
  {
   "cell_type": "code",
   "execution_count": 70,
   "id": "258d9d87-d441-4867-8419-1e05123a3833",
   "metadata": {},
   "outputs": [],
   "source": [
    "# it's necesary cast the columns\n",
    "dfp2add['Fecha']= pd.to_datetime(dfp2add['Fecha'])\n",
    "dfp2add['Usuario']= dfp2add['Usuario'].astype('category')\n",
    "dfp2add['Ilumina']= dfp2add['Ilumina'].astype('category')\n",
    "dfp2add['Precio']=dfp2add['Precio'].astype(float)"
   ]
  },
  {
   "cell_type": "code",
   "execution_count": 71,
   "id": "648c1c6e-a675-4190-9773-0b8d9285a75c",
   "metadata": {},
   "outputs": [
    {
     "data": {
      "text/html": [
       "<div>\n",
       "<style scoped>\n",
       "    .dataframe tbody tr th:only-of-type {\n",
       "        vertical-align: middle;\n",
       "    }\n",
       "\n",
       "    .dataframe tbody tr th {\n",
       "        vertical-align: top;\n",
       "    }\n",
       "\n",
       "    .dataframe thead th {\n",
       "        text-align: right;\n",
       "    }\n",
       "</style>\n",
       "<table border=\"1\" class=\"dataframe\">\n",
       "  <thead>\n",
       "    <tr style=\"text-align: right;\">\n",
       "      <th></th>\n",
       "      <th>Fecha</th>\n",
       "      <th>Usuario</th>\n",
       "      <th>Ilumina</th>\n",
       "      <th>Precio</th>\n",
       "    </tr>\n",
       "  </thead>\n",
       "  <tbody>\n",
       "    <tr>\n",
       "      <th>0</th>\n",
       "      <td>2020-01-01</td>\n",
       "      <td>Propietario</td>\n",
       "      <td>SOL</td>\n",
       "      <td>90.0</td>\n",
       "    </tr>\n",
       "    <tr>\n",
       "      <th>1</th>\n",
       "      <td>2020-01-01</td>\n",
       "      <td>Propietario</td>\n",
       "      <td>LUZ</td>\n",
       "      <td>190.0</td>\n",
       "    </tr>\n",
       "    <tr>\n",
       "      <th>2</th>\n",
       "      <td>2020-01-01</td>\n",
       "      <td>Invitado</td>\n",
       "      <td>SOL</td>\n",
       "      <td>90.0</td>\n",
       "    </tr>\n",
       "    <tr>\n",
       "      <th>3</th>\n",
       "      <td>2020-01-01</td>\n",
       "      <td>Invitado</td>\n",
       "      <td>LUZ</td>\n",
       "      <td>190.0</td>\n",
       "    </tr>\n",
       "  </tbody>\n",
       "</table>\n",
       "</div>"
      ],
      "text/plain": [
       "       Fecha      Usuario Ilumina  Precio\n",
       "0 2020-01-01  Propietario     SOL    90.0\n",
       "1 2020-01-01  Propietario     LUZ   190.0\n",
       "2 2020-01-01     Invitado     SOL    90.0\n",
       "3 2020-01-01     Invitado     LUZ   190.0"
      ]
     },
     "execution_count": 71,
     "metadata": {},
     "output_type": "execute_result"
    }
   ],
   "source": [
    "dfp2add"
   ]
  },
  {
   "cell_type": "code",
   "execution_count": 72,
   "id": "d575f93c-0f28-4fc4-b118-7d104d87b2a8",
   "metadata": {},
   "outputs": [],
   "source": [
    "# Insert 4 rows - Add new rows at the begining\n",
    "frames = [dfp2add, dfp]      # build a list of dataframes to concat in order\n",
    "result = pd.concat(frames)"
   ]
  },
  {
   "cell_type": "code",
   "execution_count": 73,
   "id": "704e8527-7863-4449-9033-6974c80cf7c6",
   "metadata": {},
   "outputs": [
    {
     "data": {
      "text/plain": [
       "Fecha      datetime64[ns]\n",
       "Usuario          category\n",
       "Ilumina          category\n",
       "Precio            float64\n",
       "dtype: object"
      ]
     },
     "execution_count": 73,
     "metadata": {},
     "output_type": "execute_result"
    }
   ],
   "source": [
    "result.dtypes"
   ]
  },
  {
   "cell_type": "code",
   "execution_count": 74,
   "id": "b4b8d98b-7ef8-40a1-abcb-df2d47fbb92f",
   "metadata": {},
   "outputs": [],
   "source": [
    "dfp = result"
   ]
  },
  {
   "cell_type": "markdown",
   "id": "c0d20b20-203e-43b8-9f1b-f6fee5189ebc",
   "metadata": {
    "tags": []
   },
   "source": [
    "### Canchas Inconcistency - User Category Not Found"
   ]
  },
  {
   "cell_type": "markdown",
   "id": "a641bffe-ae7f-4a49-8e69-7564c000fa01",
   "metadata": {},
   "source": [
    "#### El archivo de canchas no especifica si los usuarios son propietarios o invitados"
   ]
  },
  {
   "cell_type": "code",
   "execution_count": 75,
   "id": "f2645fb2-97c9-474b-8726-ae53cd97fab1",
   "metadata": {},
   "outputs": [],
   "source": [
    "# Generate a random Series with 354 elements, where each element is either \"Propietario\" or \"Invitado\"\n",
    "choices = [\"Propietario\", \"Invitado\"]\n",
    "random_data = np.random.choice(choices, size=354, replace=True)\n",
    "\n",
    "# Create a pandas Series from the random data\n",
    "random_series = pd.Series(random_data)"
   ]
  },
  {
   "cell_type": "code",
   "execution_count": 76,
   "id": "64267edf-7645-4f1a-98a2-70c026791e21",
   "metadata": {},
   "outputs": [
    {
     "data": {
      "text/plain": [
       "0         Invitado\n",
       "1      Propietario\n",
       "2      Propietario\n",
       "3      Propietario\n",
       "4         Invitado\n",
       "          ...     \n",
       "349    Propietario\n",
       "350       Invitado\n",
       "351       Invitado\n",
       "352       Invitado\n",
       "353       Invitado\n",
       "Length: 354, dtype: object"
      ]
     },
     "execution_count": 76,
     "metadata": {},
     "output_type": "execute_result"
    }
   ],
   "source": [
    "random_series"
   ]
  },
  {
   "cell_type": "code",
   "execution_count": 77,
   "id": "01112605-2262-49f4-aea7-50dd80c65db3",
   "metadata": {},
   "outputs": [],
   "source": [
    "df['usuario'] = random_series"
   ]
  },
  {
   "cell_type": "code",
   "execution_count": 78,
   "id": "817b5a8b-e526-4b67-a613-af929652f3d5",
   "metadata": {},
   "outputs": [
    {
     "data": {
      "text/html": [
       "<div>\n",
       "<style scoped>\n",
       "    .dataframe tbody tr th:only-of-type {\n",
       "        vertical-align: middle;\n",
       "    }\n",
       "\n",
       "    .dataframe tbody tr th {\n",
       "        vertical-align: top;\n",
       "    }\n",
       "\n",
       "    .dataframe thead th {\n",
       "        text-align: right;\n",
       "    }\n",
       "</style>\n",
       "<table border=\"1\" class=\"dataframe\">\n",
       "  <thead>\n",
       "    <tr style=\"text-align: right;\">\n",
       "      <th></th>\n",
       "      <th>reserva</th>\n",
       "      <th>fechayhora</th>\n",
       "      <th>ilumina</th>\n",
       "      <th>servicio</th>\n",
       "      <th>mza-lote</th>\n",
       "      <th>casa</th>\n",
       "      <th>usuario</th>\n",
       "      <th>precio</th>\n",
       "    </tr>\n",
       "  </thead>\n",
       "  <tbody>\n",
       "    <tr>\n",
       "      <th>353</th>\n",
       "      <td>1652644</td>\n",
       "      <td>2020-11-26 16:00:00</td>\n",
       "      <td>SOL</td>\n",
       "      <td>Cancha 1</td>\n",
       "      <td>APROBADA</td>\n",
       "      <td>N-09</td>\n",
       "      <td>Invitado</td>\n",
       "      <td>0.0</td>\n",
       "    </tr>\n",
       "    <tr>\n",
       "      <th>352</th>\n",
       "      <td>1687243</td>\n",
       "      <td>2020-12-02 18:00:00</td>\n",
       "      <td>LUZ</td>\n",
       "      <td>Cancha 1</td>\n",
       "      <td>APROBADA</td>\n",
       "      <td>M-03</td>\n",
       "      <td>Invitado</td>\n",
       "      <td>0.0</td>\n",
       "    </tr>\n",
       "    <tr>\n",
       "      <th>351</th>\n",
       "      <td>1687608</td>\n",
       "      <td>2020-12-02 19:00:00</td>\n",
       "      <td>LUZ</td>\n",
       "      <td>Cancha 2</td>\n",
       "      <td>APROBADA</td>\n",
       "      <td>H-07</td>\n",
       "      <td>Invitado</td>\n",
       "      <td>0.0</td>\n",
       "    </tr>\n",
       "    <tr>\n",
       "      <th>350</th>\n",
       "      <td>1712222</td>\n",
       "      <td>2020-12-04 17:00:00</td>\n",
       "      <td>SOL</td>\n",
       "      <td>Cancha 1</td>\n",
       "      <td>APROBADA</td>\n",
       "      <td>E-08</td>\n",
       "      <td>Invitado</td>\n",
       "      <td>0.0</td>\n",
       "    </tr>\n",
       "    <tr>\n",
       "      <th>349</th>\n",
       "      <td>1712511</td>\n",
       "      <td>2020-12-04 18:00:00</td>\n",
       "      <td>LUZ</td>\n",
       "      <td>Cancha 1</td>\n",
       "      <td>APROBADA</td>\n",
       "      <td>PRUEBA</td>\n",
       "      <td>Propietario</td>\n",
       "      <td>0.0</td>\n",
       "    </tr>\n",
       "    <tr>\n",
       "      <th>...</th>\n",
       "      <td>...</td>\n",
       "      <td>...</td>\n",
       "      <td>...</td>\n",
       "      <td>...</td>\n",
       "      <td>...</td>\n",
       "      <td>...</td>\n",
       "      <td>...</td>\n",
       "      <td>...</td>\n",
       "    </tr>\n",
       "    <tr>\n",
       "      <th>4</th>\n",
       "      <td>8196830</td>\n",
       "      <td>2023-07-04 16:00:00</td>\n",
       "      <td>SOL</td>\n",
       "      <td>Cancha 1</td>\n",
       "      <td>APROBADA</td>\n",
       "      <td>K-04</td>\n",
       "      <td>Invitado</td>\n",
       "      <td>0.0</td>\n",
       "    </tr>\n",
       "    <tr>\n",
       "      <th>3</th>\n",
       "      <td>8212103</td>\n",
       "      <td>2023-07-07 11:00:00</td>\n",
       "      <td>SOL</td>\n",
       "      <td>Cancha 1</td>\n",
       "      <td>APROBADA</td>\n",
       "      <td>A-52</td>\n",
       "      <td>Propietario</td>\n",
       "      <td>0.0</td>\n",
       "    </tr>\n",
       "    <tr>\n",
       "      <th>2</th>\n",
       "      <td>8217992</td>\n",
       "      <td>2023-07-08 13:00:00</td>\n",
       "      <td>SOL</td>\n",
       "      <td>Cancha 1</td>\n",
       "      <td>APROBADA</td>\n",
       "      <td>G-12</td>\n",
       "      <td>Propietario</td>\n",
       "      <td>0.0</td>\n",
       "    </tr>\n",
       "    <tr>\n",
       "      <th>1</th>\n",
       "      <td>8218607</td>\n",
       "      <td>2023-07-08 16:00:00</td>\n",
       "      <td>SOL</td>\n",
       "      <td>Cancha 1</td>\n",
       "      <td>APROBADA</td>\n",
       "      <td>F-04</td>\n",
       "      <td>Propietario</td>\n",
       "      <td>0.0</td>\n",
       "    </tr>\n",
       "    <tr>\n",
       "      <th>0</th>\n",
       "      <td>8219516</td>\n",
       "      <td>2023-07-08 16:00:00</td>\n",
       "      <td>SOL</td>\n",
       "      <td>Cancha 2</td>\n",
       "      <td>APROBADA</td>\n",
       "      <td>M-03</td>\n",
       "      <td>Invitado</td>\n",
       "      <td>0.0</td>\n",
       "    </tr>\n",
       "  </tbody>\n",
       "</table>\n",
       "<p>353 rows × 8 columns</p>\n",
       "</div>"
      ],
      "text/plain": [
       "     reserva           fechayhora ilumina  servicio  mza-lote    casa  \\\n",
       "353   1652644 2020-11-26 16:00:00     SOL  Cancha 1  APROBADA    N-09   \n",
       "352   1687243 2020-12-02 18:00:00     LUZ  Cancha 1  APROBADA    M-03   \n",
       "351   1687608 2020-12-02 19:00:00     LUZ  Cancha 2  APROBADA    H-07   \n",
       "350   1712222 2020-12-04 17:00:00     SOL  Cancha 1  APROBADA    E-08   \n",
       "349   1712511 2020-12-04 18:00:00     LUZ  Cancha 1  APROBADA  PRUEBA   \n",
       "..        ...                 ...     ...       ...       ...     ...   \n",
       "4     8196830 2023-07-04 16:00:00     SOL  Cancha 1  APROBADA    K-04   \n",
       "3     8212103 2023-07-07 11:00:00     SOL  Cancha 1  APROBADA    A-52   \n",
       "2     8217992 2023-07-08 13:00:00     SOL  Cancha 1  APROBADA    G-12   \n",
       "1     8218607 2023-07-08 16:00:00     SOL  Cancha 1  APROBADA    F-04   \n",
       "0     8219516 2023-07-08 16:00:00     SOL  Cancha 2  APROBADA    M-03   \n",
       "\n",
       "         usuario  precio  \n",
       "353     Invitado     0.0  \n",
       "352     Invitado     0.0  \n",
       "351     Invitado     0.0  \n",
       "350     Invitado     0.0  \n",
       "349  Propietario     0.0  \n",
       "..           ...     ...  \n",
       "4       Invitado     0.0  \n",
       "3    Propietario     0.0  \n",
       "2    Propietario     0.0  \n",
       "1    Propietario     0.0  \n",
       "0       Invitado     0.0  \n",
       "\n",
       "[353 rows x 8 columns]"
      ]
     },
     "execution_count": 78,
     "metadata": {},
     "output_type": "execute_result"
    }
   ],
   "source": [
    "df"
   ]
  },
  {
   "cell_type": "code",
   "execution_count": 79,
   "id": "268b8e6f-030f-4b0d-a9d2-aada9cf7ad16",
   "metadata": {},
   "outputs": [],
   "source": [
    "# Convert dates column in df and dfp to datetime if it's not already in datetime format\n",
    "df['fechayhora'] = pd.to_datetime(df['fechayhora'])\n",
    "dfp['Fecha'] = pd.to_datetime(dfp['Fecha'])\n",
    "\n",
    "# Sort dfp by date to ensure consecutive dates are next to each other\n",
    "dfp = dfp.sort_values(by='Fecha')\n",
    "\n",
    "# Create a Dataframe with uniques start and end datas of dfp\n",
    "serie_unique = dfp['Fecha'].unique()                       # gest the array of unique dates\n",
    "dfp_u = pd.DataFrame({\n",
    "        'FecIni' : serie_unique, 'FecFin': serie_unique    # initially both dfp_u columns has the samedates\n",
    "})\n",
    "\n",
    "# Configure end dates with shift and append on the las row with last rown from the unique date.\n",
    "dfp_u['FecFin'] = dfp_u['FecFin'].shift(-1)   # shit values up             \n",
    "n = len(dfp_u)-1\n",
    "dfp_u['FecFin'][n] = pd.Timestamp.today()  # complete the last value\n",
    "\n",
    "\n",
    "# Iterate over rows in df DataFrame\n",
    "i=0\n",
    "for df_row in df.itertuples():\n",
    "    \n",
    "    # Get the current date, user, and illuminate from the row\n",
    "    date = getattr(df_row,'fechayhora')\n",
    "    user = getattr(df_row, 'usuario')\n",
    "    illuminate = getattr(df_row,'ilumina')\n",
    "    i=i+1\n",
    "    # debug: print(\"df fila:\", getattr(row, 'Index'))\n",
    "    \n",
    "    # Initialize the precio to 0.0 for the current row\n",
    "    precio = 0.0\n",
    "    \n",
    "    # Iterate over consecutive pairs of dates in dfp\n",
    "    for dfp_row in dfp_u.itertuples():\n",
    "        start_date = getattr(dfp_row, 'FecIni')\n",
    "        end_date = getattr(dfp_row, 'FecFin')\n",
    "        \n",
    "        # Check if the current date falls between the start and end dates\n",
    "        if start_date <= date <= end_date :\n",
    "            # debug: print(\"dfp index =\", getattr(row, 'Index'), \"Si! \", start_date, \" <= \", date, \" < \",  end_date)\n",
    "            \n",
    "            # Filter dfp based on the conditions for merging\n",
    "            dfp_filtered = dfp[\n",
    "                (dfp['Fecha'] == start_date) &\n",
    "                (dfp['Usuario'] == user) &\n",
    "                (dfp['Ilumina'] == illuminate)\n",
    "            ]\n",
    "\n",
    "            # Set the 'precio' value in df based on the filtered dfp value\n",
    "            if not dfp_filtered.empty:\n",
    "                df.at[getattr(df_row, 'Index'), 'precio'] = dfp_filtered.iloc[0]['Precio']\n",
    "            else:\n",
    "                print(\"no hay precio\", df_row, Index)"
   ]
  },
  {
   "cell_type": "code",
   "execution_count": 80,
   "id": "cde60b72-6511-4396-a7e4-430462d6a5f8",
   "metadata": {},
   "outputs": [
    {
     "data": {
      "text/html": [
       "<div>\n",
       "<style scoped>\n",
       "    .dataframe tbody tr th:only-of-type {\n",
       "        vertical-align: middle;\n",
       "    }\n",
       "\n",
       "    .dataframe tbody tr th {\n",
       "        vertical-align: top;\n",
       "    }\n",
       "\n",
       "    .dataframe thead th {\n",
       "        text-align: right;\n",
       "    }\n",
       "</style>\n",
       "<table border=\"1\" class=\"dataframe\">\n",
       "  <thead>\n",
       "    <tr style=\"text-align: right;\">\n",
       "      <th></th>\n",
       "      <th>reserva</th>\n",
       "      <th>fechayhora</th>\n",
       "      <th>ilumina</th>\n",
       "      <th>servicio</th>\n",
       "      <th>mza-lote</th>\n",
       "      <th>casa</th>\n",
       "      <th>usuario</th>\n",
       "      <th>precio</th>\n",
       "    </tr>\n",
       "  </thead>\n",
       "  <tbody>\n",
       "    <tr>\n",
       "      <th>353</th>\n",
       "      <td>1652644</td>\n",
       "      <td>2020-11-26 16:00:00</td>\n",
       "      <td>SOL</td>\n",
       "      <td>Cancha 1</td>\n",
       "      <td>APROBADA</td>\n",
       "      <td>N-09</td>\n",
       "      <td>Invitado</td>\n",
       "      <td>90.0</td>\n",
       "    </tr>\n",
       "    <tr>\n",
       "      <th>352</th>\n",
       "      <td>1687243</td>\n",
       "      <td>2020-12-02 18:00:00</td>\n",
       "      <td>LUZ</td>\n",
       "      <td>Cancha 1</td>\n",
       "      <td>APROBADA</td>\n",
       "      <td>M-03</td>\n",
       "      <td>Invitado</td>\n",
       "      <td>190.0</td>\n",
       "    </tr>\n",
       "    <tr>\n",
       "      <th>351</th>\n",
       "      <td>1687608</td>\n",
       "      <td>2020-12-02 19:00:00</td>\n",
       "      <td>LUZ</td>\n",
       "      <td>Cancha 2</td>\n",
       "      <td>APROBADA</td>\n",
       "      <td>H-07</td>\n",
       "      <td>Invitado</td>\n",
       "      <td>190.0</td>\n",
       "    </tr>\n",
       "    <tr>\n",
       "      <th>350</th>\n",
       "      <td>1712222</td>\n",
       "      <td>2020-12-04 17:00:00</td>\n",
       "      <td>SOL</td>\n",
       "      <td>Cancha 1</td>\n",
       "      <td>APROBADA</td>\n",
       "      <td>E-08</td>\n",
       "      <td>Invitado</td>\n",
       "      <td>90.0</td>\n",
       "    </tr>\n",
       "    <tr>\n",
       "      <th>349</th>\n",
       "      <td>1712511</td>\n",
       "      <td>2020-12-04 18:00:00</td>\n",
       "      <td>LUZ</td>\n",
       "      <td>Cancha 1</td>\n",
       "      <td>APROBADA</td>\n",
       "      <td>PRUEBA</td>\n",
       "      <td>Propietario</td>\n",
       "      <td>190.0</td>\n",
       "    </tr>\n",
       "    <tr>\n",
       "      <th>...</th>\n",
       "      <td>...</td>\n",
       "      <td>...</td>\n",
       "      <td>...</td>\n",
       "      <td>...</td>\n",
       "      <td>...</td>\n",
       "      <td>...</td>\n",
       "      <td>...</td>\n",
       "      <td>...</td>\n",
       "    </tr>\n",
       "    <tr>\n",
       "      <th>4</th>\n",
       "      <td>8196830</td>\n",
       "      <td>2023-07-04 16:00:00</td>\n",
       "      <td>SOL</td>\n",
       "      <td>Cancha 1</td>\n",
       "      <td>APROBADA</td>\n",
       "      <td>K-04</td>\n",
       "      <td>Invitado</td>\n",
       "      <td>300.0</td>\n",
       "    </tr>\n",
       "    <tr>\n",
       "      <th>3</th>\n",
       "      <td>8212103</td>\n",
       "      <td>2023-07-07 11:00:00</td>\n",
       "      <td>SOL</td>\n",
       "      <td>Cancha 1</td>\n",
       "      <td>APROBADA</td>\n",
       "      <td>A-52</td>\n",
       "      <td>Propietario</td>\n",
       "      <td>200.0</td>\n",
       "    </tr>\n",
       "    <tr>\n",
       "      <th>2</th>\n",
       "      <td>8217992</td>\n",
       "      <td>2023-07-08 13:00:00</td>\n",
       "      <td>SOL</td>\n",
       "      <td>Cancha 1</td>\n",
       "      <td>APROBADA</td>\n",
       "      <td>G-12</td>\n",
       "      <td>Propietario</td>\n",
       "      <td>200.0</td>\n",
       "    </tr>\n",
       "    <tr>\n",
       "      <th>1</th>\n",
       "      <td>8218607</td>\n",
       "      <td>2023-07-08 16:00:00</td>\n",
       "      <td>SOL</td>\n",
       "      <td>Cancha 1</td>\n",
       "      <td>APROBADA</td>\n",
       "      <td>F-04</td>\n",
       "      <td>Propietario</td>\n",
       "      <td>200.0</td>\n",
       "    </tr>\n",
       "    <tr>\n",
       "      <th>0</th>\n",
       "      <td>8219516</td>\n",
       "      <td>2023-07-08 16:00:00</td>\n",
       "      <td>SOL</td>\n",
       "      <td>Cancha 2</td>\n",
       "      <td>APROBADA</td>\n",
       "      <td>M-03</td>\n",
       "      <td>Invitado</td>\n",
       "      <td>300.0</td>\n",
       "    </tr>\n",
       "  </tbody>\n",
       "</table>\n",
       "<p>353 rows × 8 columns</p>\n",
       "</div>"
      ],
      "text/plain": [
       "     reserva           fechayhora ilumina  servicio  mza-lote    casa  \\\n",
       "353   1652644 2020-11-26 16:00:00     SOL  Cancha 1  APROBADA    N-09   \n",
       "352   1687243 2020-12-02 18:00:00     LUZ  Cancha 1  APROBADA    M-03   \n",
       "351   1687608 2020-12-02 19:00:00     LUZ  Cancha 2  APROBADA    H-07   \n",
       "350   1712222 2020-12-04 17:00:00     SOL  Cancha 1  APROBADA    E-08   \n",
       "349   1712511 2020-12-04 18:00:00     LUZ  Cancha 1  APROBADA  PRUEBA   \n",
       "..        ...                 ...     ...       ...       ...     ...   \n",
       "4     8196830 2023-07-04 16:00:00     SOL  Cancha 1  APROBADA    K-04   \n",
       "3     8212103 2023-07-07 11:00:00     SOL  Cancha 1  APROBADA    A-52   \n",
       "2     8217992 2023-07-08 13:00:00     SOL  Cancha 1  APROBADA    G-12   \n",
       "1     8218607 2023-07-08 16:00:00     SOL  Cancha 1  APROBADA    F-04   \n",
       "0     8219516 2023-07-08 16:00:00     SOL  Cancha 2  APROBADA    M-03   \n",
       "\n",
       "         usuario  precio  \n",
       "353     Invitado    90.0  \n",
       "352     Invitado   190.0  \n",
       "351     Invitado   190.0  \n",
       "350     Invitado    90.0  \n",
       "349  Propietario   190.0  \n",
       "..           ...     ...  \n",
       "4       Invitado   300.0  \n",
       "3    Propietario   200.0  \n",
       "2    Propietario   200.0  \n",
       "1    Propietario   200.0  \n",
       "0       Invitado   300.0  \n",
       "\n",
       "[353 rows x 8 columns]"
      ]
     },
     "execution_count": 80,
     "metadata": {},
     "output_type": "execute_result"
    }
   ],
   "source": [
    "df"
   ]
  },
  {
   "cell_type": "markdown",
   "id": "20bdca34-a237-42ec-babc-b5ff643557ce",
   "metadata": {},
   "source": [
    "## Save and Close File depurated"
   ]
  },
  {
   "cell_type": "code",
   "execution_count": 82,
   "id": "d674d5c1-5b1f-4904-929a-3413d259bd77",
   "metadata": {},
   "outputs": [],
   "source": [
    "fname_out = \"Canchas 0.2 Depurado\""
   ]
  },
  {
   "cell_type": "code",
   "execution_count": 83,
   "id": "ea7593b1-e00c-4dd4-91f7-8157c61919cc",
   "metadata": {},
   "outputs": [
    {
     "ename": "ValueError",
     "evalue": "No engine for filetype: '2 Depurado'",
     "output_type": "error",
     "traceback": [
      "\u001b[0;31m---------------------------------------------------------------------------\u001b[0m",
      "\u001b[0;31mOptionError\u001b[0m                               Traceback (most recent call last)",
      "File \u001b[0;32m/opt/conda/envs/anaconda-panel-2023.05-py310/lib/python3.11/site-packages/pandas/io/excel/_base.py:1144\u001b[0m, in \u001b[0;36mExcelWriter.__new__\u001b[0;34m(cls, path, engine, date_format, datetime_format, mode, storage_options, if_sheet_exists, engine_kwargs, **kwargs)\u001b[0m\n\u001b[1;32m   1143\u001b[0m \u001b[38;5;28;01mtry\u001b[39;00m:\n\u001b[0;32m-> 1144\u001b[0m     engine \u001b[38;5;241m=\u001b[39m config\u001b[38;5;241m.\u001b[39mget_option(\u001b[38;5;124mf\u001b[39m\u001b[38;5;124m\"\u001b[39m\u001b[38;5;124mio.excel.\u001b[39m\u001b[38;5;132;01m{\u001b[39;00mext\u001b[38;5;132;01m}\u001b[39;00m\u001b[38;5;124m.writer\u001b[39m\u001b[38;5;124m\"\u001b[39m, silent\u001b[38;5;241m=\u001b[39m\u001b[38;5;28;01mTrue\u001b[39;00m)\n\u001b[1;32m   1145\u001b[0m     \u001b[38;5;28;01mif\u001b[39;00m engine \u001b[38;5;241m==\u001b[39m \u001b[38;5;124m\"\u001b[39m\u001b[38;5;124mauto\u001b[39m\u001b[38;5;124m\"\u001b[39m:\n",
      "File \u001b[0;32m/opt/conda/envs/anaconda-panel-2023.05-py310/lib/python3.11/site-packages/pandas/_config/config.py:263\u001b[0m, in \u001b[0;36mCallableDynamicDoc.__call__\u001b[0;34m(self, *args, **kwds)\u001b[0m\n\u001b[1;32m    262\u001b[0m \u001b[38;5;28;01mdef\u001b[39;00m \u001b[38;5;21m__call__\u001b[39m(\u001b[38;5;28mself\u001b[39m, \u001b[38;5;241m*\u001b[39margs, \u001b[38;5;241m*\u001b[39m\u001b[38;5;241m*\u001b[39mkwds) \u001b[38;5;241m-\u001b[39m\u001b[38;5;241m>\u001b[39m T:\n\u001b[0;32m--> 263\u001b[0m     \u001b[38;5;28;01mreturn\u001b[39;00m \u001b[38;5;28mself\u001b[39m\u001b[38;5;241m.\u001b[39m\u001b[38;5;18m__func__\u001b[39m(\u001b[38;5;241m*\u001b[39margs, \u001b[38;5;241m*\u001b[39m\u001b[38;5;241m*\u001b[39mkwds)\n",
      "File \u001b[0;32m/opt/conda/envs/anaconda-panel-2023.05-py310/lib/python3.11/site-packages/pandas/_config/config.py:135\u001b[0m, in \u001b[0;36m_get_option\u001b[0;34m(pat, silent)\u001b[0m\n\u001b[1;32m    134\u001b[0m \u001b[38;5;28;01mdef\u001b[39;00m \u001b[38;5;21m_get_option\u001b[39m(pat: \u001b[38;5;28mstr\u001b[39m, silent: \u001b[38;5;28mbool\u001b[39m \u001b[38;5;241m=\u001b[39m \u001b[38;5;28;01mFalse\u001b[39;00m) \u001b[38;5;241m-\u001b[39m\u001b[38;5;241m>\u001b[39m Any:\n\u001b[0;32m--> 135\u001b[0m     key \u001b[38;5;241m=\u001b[39m _get_single_key(pat, silent)\n\u001b[1;32m    137\u001b[0m     \u001b[38;5;66;03m# walk the nested dict\u001b[39;00m\n",
      "File \u001b[0;32m/opt/conda/envs/anaconda-panel-2023.05-py310/lib/python3.11/site-packages/pandas/_config/config.py:121\u001b[0m, in \u001b[0;36m_get_single_key\u001b[0;34m(pat, silent)\u001b[0m\n\u001b[1;32m    120\u001b[0m         _warn_if_deprecated(pat)\n\u001b[0;32m--> 121\u001b[0m     \u001b[38;5;28;01mraise\u001b[39;00m OptionError(\u001b[38;5;124mf\u001b[39m\u001b[38;5;124m\"\u001b[39m\u001b[38;5;124mNo such keys(s): \u001b[39m\u001b[38;5;132;01m{\u001b[39;00m\u001b[38;5;28mrepr\u001b[39m(pat)\u001b[38;5;132;01m}\u001b[39;00m\u001b[38;5;124m\"\u001b[39m)\n\u001b[1;32m    122\u001b[0m \u001b[38;5;28;01mif\u001b[39;00m \u001b[38;5;28mlen\u001b[39m(keys) \u001b[38;5;241m>\u001b[39m \u001b[38;5;241m1\u001b[39m:\n",
      "\u001b[0;31mOptionError\u001b[0m: No such keys(s): 'io.excel.2 Depurado.writer'",
      "\nThe above exception was the direct cause of the following exception:\n",
      "\u001b[0;31mValueError\u001b[0m                                Traceback (most recent call last)",
      "Cell \u001b[0;32mIn[83], line 1\u001b[0m\n\u001b[0;32m----> 1\u001b[0m df\u001b[38;5;241m.\u001b[39mto_excel(fname_out, index_label\u001b[38;5;241m=\u001b[39m\u001b[38;5;124m\"\u001b[39m\u001b[38;5;124mlabel\u001b[39m\u001b[38;5;124m\"\u001b[39m, merge_cells\u001b[38;5;241m=\u001b[39m\u001b[38;5;28;01mFalse\u001b[39;00m)\n",
      "File \u001b[0;32m/opt/conda/envs/anaconda-panel-2023.05-py310/lib/python3.11/site-packages/pandas/util/_decorators.py:211\u001b[0m, in \u001b[0;36mdeprecate_kwarg.<locals>._deprecate_kwarg.<locals>.wrapper\u001b[0;34m(*args, **kwargs)\u001b[0m\n\u001b[1;32m    209\u001b[0m     \u001b[38;5;28;01melse\u001b[39;00m:\n\u001b[1;32m    210\u001b[0m         kwargs[new_arg_name] \u001b[38;5;241m=\u001b[39m new_arg_value\n\u001b[0;32m--> 211\u001b[0m \u001b[38;5;28;01mreturn\u001b[39;00m func(\u001b[38;5;241m*\u001b[39margs, \u001b[38;5;241m*\u001b[39m\u001b[38;5;241m*\u001b[39mkwargs)\n",
      "File \u001b[0;32m/opt/conda/envs/anaconda-panel-2023.05-py310/lib/python3.11/site-packages/pandas/util/_decorators.py:211\u001b[0m, in \u001b[0;36mdeprecate_kwarg.<locals>._deprecate_kwarg.<locals>.wrapper\u001b[0;34m(*args, **kwargs)\u001b[0m\n\u001b[1;32m    209\u001b[0m     \u001b[38;5;28;01melse\u001b[39;00m:\n\u001b[1;32m    210\u001b[0m         kwargs[new_arg_name] \u001b[38;5;241m=\u001b[39m new_arg_value\n\u001b[0;32m--> 211\u001b[0m \u001b[38;5;28;01mreturn\u001b[39;00m func(\u001b[38;5;241m*\u001b[39margs, \u001b[38;5;241m*\u001b[39m\u001b[38;5;241m*\u001b[39mkwargs)\n",
      "File \u001b[0;32m/opt/conda/envs/anaconda-panel-2023.05-py310/lib/python3.11/site-packages/pandas/core/generic.py:2374\u001b[0m, in \u001b[0;36mNDFrame.to_excel\u001b[0;34m(self, excel_writer, sheet_name, na_rep, float_format, columns, header, index, index_label, startrow, startcol, engine, merge_cells, encoding, inf_rep, verbose, freeze_panes, storage_options)\u001b[0m\n\u001b[1;32m   2361\u001b[0m \u001b[38;5;28;01mfrom\u001b[39;00m \u001b[38;5;21;01mpandas\u001b[39;00m\u001b[38;5;21;01m.\u001b[39;00m\u001b[38;5;21;01mio\u001b[39;00m\u001b[38;5;21;01m.\u001b[39;00m\u001b[38;5;21;01mformats\u001b[39;00m\u001b[38;5;21;01m.\u001b[39;00m\u001b[38;5;21;01mexcel\u001b[39;00m \u001b[38;5;28;01mimport\u001b[39;00m ExcelFormatter\n\u001b[1;32m   2363\u001b[0m formatter \u001b[38;5;241m=\u001b[39m ExcelFormatter(\n\u001b[1;32m   2364\u001b[0m     df,\n\u001b[1;32m   2365\u001b[0m     na_rep\u001b[38;5;241m=\u001b[39mna_rep,\n\u001b[0;32m   (...)\u001b[0m\n\u001b[1;32m   2372\u001b[0m     inf_rep\u001b[38;5;241m=\u001b[39minf_rep,\n\u001b[1;32m   2373\u001b[0m )\n\u001b[0;32m-> 2374\u001b[0m formatter\u001b[38;5;241m.\u001b[39mwrite(\n\u001b[1;32m   2375\u001b[0m     excel_writer,\n\u001b[1;32m   2376\u001b[0m     sheet_name\u001b[38;5;241m=\u001b[39msheet_name,\n\u001b[1;32m   2377\u001b[0m     startrow\u001b[38;5;241m=\u001b[39mstartrow,\n\u001b[1;32m   2378\u001b[0m     startcol\u001b[38;5;241m=\u001b[39mstartcol,\n\u001b[1;32m   2379\u001b[0m     freeze_panes\u001b[38;5;241m=\u001b[39mfreeze_panes,\n\u001b[1;32m   2380\u001b[0m     engine\u001b[38;5;241m=\u001b[39mengine,\n\u001b[1;32m   2381\u001b[0m     storage_options\u001b[38;5;241m=\u001b[39mstorage_options,\n\u001b[1;32m   2382\u001b[0m )\n",
      "File \u001b[0;32m/opt/conda/envs/anaconda-panel-2023.05-py310/lib/python3.11/site-packages/pandas/io/formats/excel.py:944\u001b[0m, in \u001b[0;36mExcelFormatter.write\u001b[0;34m(self, writer, sheet_name, startrow, startcol, freeze_panes, engine, storage_options)\u001b[0m\n\u001b[1;32m    940\u001b[0m     need_save \u001b[38;5;241m=\u001b[39m \u001b[38;5;28;01mFalse\u001b[39;00m\n\u001b[1;32m    941\u001b[0m \u001b[38;5;28;01melse\u001b[39;00m:\n\u001b[1;32m    942\u001b[0m     \u001b[38;5;66;03m# error: Cannot instantiate abstract class 'ExcelWriter' with abstract\u001b[39;00m\n\u001b[1;32m    943\u001b[0m     \u001b[38;5;66;03m# attributes 'engine', 'save', 'supported_extensions' and 'write_cells'\u001b[39;00m\n\u001b[0;32m--> 944\u001b[0m     writer \u001b[38;5;241m=\u001b[39m ExcelWriter(  \u001b[38;5;66;03m# type: ignore[abstract]\u001b[39;00m\n\u001b[1;32m    945\u001b[0m         writer, engine\u001b[38;5;241m=\u001b[39mengine, storage_options\u001b[38;5;241m=\u001b[39mstorage_options\n\u001b[1;32m    946\u001b[0m     )\n\u001b[1;32m    947\u001b[0m     need_save \u001b[38;5;241m=\u001b[39m \u001b[38;5;28;01mTrue\u001b[39;00m\n\u001b[1;32m    949\u001b[0m \u001b[38;5;28;01mtry\u001b[39;00m:\n",
      "File \u001b[0;32m/opt/conda/envs/anaconda-panel-2023.05-py310/lib/python3.11/site-packages/pandas/io/excel/_base.py:1148\u001b[0m, in \u001b[0;36mExcelWriter.__new__\u001b[0;34m(cls, path, engine, date_format, datetime_format, mode, storage_options, if_sheet_exists, engine_kwargs, **kwargs)\u001b[0m\n\u001b[1;32m   1146\u001b[0m             engine \u001b[38;5;241m=\u001b[39m get_default_engine(ext, mode\u001b[38;5;241m=\u001b[39m\u001b[38;5;124m\"\u001b[39m\u001b[38;5;124mwriter\u001b[39m\u001b[38;5;124m\"\u001b[39m)\n\u001b[1;32m   1147\u001b[0m     \u001b[38;5;28;01mexcept\u001b[39;00m \u001b[38;5;167;01mKeyError\u001b[39;00m \u001b[38;5;28;01mas\u001b[39;00m err:\n\u001b[0;32m-> 1148\u001b[0m         \u001b[38;5;28;01mraise\u001b[39;00m \u001b[38;5;167;01mValueError\u001b[39;00m(\u001b[38;5;124mf\u001b[39m\u001b[38;5;124m\"\u001b[39m\u001b[38;5;124mNo engine for filetype: \u001b[39m\u001b[38;5;124m'\u001b[39m\u001b[38;5;132;01m{\u001b[39;00mext\u001b[38;5;132;01m}\u001b[39;00m\u001b[38;5;124m'\u001b[39m\u001b[38;5;124m\"\u001b[39m) \u001b[38;5;28;01mfrom\u001b[39;00m \u001b[38;5;21;01merr\u001b[39;00m\n\u001b[1;32m   1150\u001b[0m \u001b[38;5;28;01mif\u001b[39;00m engine \u001b[38;5;241m==\u001b[39m \u001b[38;5;124m\"\u001b[39m\u001b[38;5;124mxlwt\u001b[39m\u001b[38;5;124m\"\u001b[39m:\n\u001b[1;32m   1151\u001b[0m     xls_config_engine \u001b[38;5;241m=\u001b[39m config\u001b[38;5;241m.\u001b[39mget_option(\n\u001b[1;32m   1152\u001b[0m         \u001b[38;5;124m\"\u001b[39m\u001b[38;5;124mio.excel.xls.writer\u001b[39m\u001b[38;5;124m\"\u001b[39m, silent\u001b[38;5;241m=\u001b[39m\u001b[38;5;28;01mTrue\u001b[39;00m\n\u001b[1;32m   1153\u001b[0m     )\n",
      "\u001b[0;31mValueError\u001b[0m: No engine for filetype: '2 Depurado'"
     ]
    }
   ],
   "source": [
    "df.to_excel(fname_out, index_label=\"label\", merge_cells=False)"
   ]
  },
  {
   "cell_type": "code",
   "execution_count": null,
   "id": "f0cf4fc2-5ca1-415b-b67b-92fda5deacb8",
   "metadata": {},
   "outputs": [],
   "source": []
  }
 ],
 "metadata": {
  "kernelspec": {
   "display_name": "anaconda-panel-2023.05-py310",
   "language": "python",
   "name": "conda-env-anaconda-panel-2023.05-py310-py"
  },
  "language_info": {
   "codemirror_mode": {
    "name": "ipython",
    "version": 3
   },
   "file_extension": ".py",
   "mimetype": "text/x-python",
   "name": "python",
   "nbconvert_exporter": "python",
   "pygments_lexer": "ipython3",
   "version": "3.11.4"
  }
 },
 "nbformat": 4,
 "nbformat_minor": 5
}
