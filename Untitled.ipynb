{
 "cells": [
  {
   "cell_type": "code",
   "execution_count": 1,
   "id": "a4994f15-d827-4dbf-a60b-63745a25eabe",
   "metadata": {},
   "outputs": [],
   "source": [
    "import pandas as pd\n",
    "import numpy as np"
   ]
  },
  {
   "cell_type": "code",
   "execution_count": 66,
   "id": "0a8a641a-4037-44ca-bb68-9ed24e9eb793",
   "metadata": {},
   "outputs": [
    {
     "data": {
      "text/plain": [
       "DatetimeIndex(['2012-01-01 00:00:00', '2012-01-01 01:00:00',\n",
       "               '2012-01-01 02:00:00', '2012-01-01 03:00:00',\n",
       "               '2012-01-01 04:00:00', '2012-01-01 05:00:00',\n",
       "               '2012-01-01 06:00:00', '2012-01-01 07:00:00',\n",
       "               '2012-01-01 08:00:00', '2012-01-01 09:00:00',\n",
       "               ...\n",
       "               '2012-01-06 14:00:00', '2012-01-06 15:00:00',\n",
       "               '2012-01-06 16:00:00', '2012-01-06 17:00:00',\n",
       "               '2012-01-06 18:00:00', '2012-01-06 19:00:00',\n",
       "               '2012-01-06 20:00:00', '2012-01-06 21:00:00',\n",
       "               '2012-01-06 22:00:00', '2012-01-06 23:00:00'],\n",
       "              dtype='datetime64[ns]', length=144, freq='H')"
      ]
     },
     "execution_count": 66,
     "metadata": {},
     "output_type": "execute_result"
    }
   ],
   "source": [
    "serie_datetime64 = pd.date_range(\"1/1/2012\", periods=144, freq=\"H\")\n",
    "serie_datetime64"
   ]
  },
  {
   "cell_type": "code",
   "execution_count": 70,
   "id": "92671f27-ea18-48f9-980c-b36a8a04e36c",
   "metadata": {},
   "outputs": [
    {
     "data": {
      "text/plain": [
       "2012-01-01 00:00:00    1\n",
       "2012-01-01 01:00:00    1\n",
       "2012-01-01 02:00:00    1\n",
       "2012-01-01 03:00:00    1\n",
       "2012-01-01 04:00:00    1\n",
       "                      ..\n",
       "2012-01-06 19:00:00    1\n",
       "2012-01-06 20:00:00    1\n",
       "2012-01-06 21:00:00    1\n",
       "2012-01-06 22:00:00    1\n",
       "2012-01-06 23:00:00    1\n",
       "Freq: H, Length: 144, dtype: int64"
      ]
     },
     "execution_count": 70,
     "metadata": {},
     "output_type": "execute_result"
    }
   ],
   "source": [
    "serie_int64 = pd.Series(1, index=serie_datetime64)\n",
    "serie_int64"
   ]
  },
  {
   "cell_type": "code",
   "execution_count": 68,
   "id": "470dd63e-eee2-4963-9084-e5c97fde9bb6",
   "metadata": {},
   "outputs": [
    {
     "data": {
      "text/plain": [
       "2012-01-01    24\n",
       "2012-01-02    24\n",
       "2012-01-03    24\n",
       "2012-01-04    24\n",
       "2012-01-05    24\n",
       "2012-01-06    24\n",
       "Freq: D, dtype: int64"
      ]
     },
     "execution_count": 68,
     "metadata": {},
     "output_type": "execute_result"
    }
   ],
   "source": [
    "serie_int64.resample('1D').sum()"
   ]
  },
  {
   "cell_type": "code",
   "execution_count": 71,
   "id": "2d981968-09f1-4f70-bac7-d0d682fee366",
   "metadata": {},
   "outputs": [
    {
     "data": {
      "text/plain": [
       "dtype('int64')"
      ]
     },
     "execution_count": 71,
     "metadata": {},
     "output_type": "execute_result"
    }
   ],
   "source": [
    "serie_int64.dtypes"
   ]
  },
  {
   "cell_type": "code",
   "execution_count": 84,
   "id": "1eaecc96-5524-4594-a289-47e8583aa0e8",
   "metadata": {},
   "outputs": [],
   "source": [
    "df = pd.DataFrame(\n",
    "    {\n",
    "        \"A\": serie_datetime64,\n",
    "        \"B\": 1.0,\n",
    "        \"C\": np.arange(144),\n",
    "    }\n",
    ")"
   ]
  },
  {
   "cell_type": "code",
   "execution_count": 85,
   "id": "fdd0357a-b373-49f2-820a-d812ea57e01f",
   "metadata": {},
   "outputs": [
    {
     "data": {
      "text/html": [
       "<div>\n",
       "<style scoped>\n",
       "    .dataframe tbody tr th:only-of-type {\n",
       "        vertical-align: middle;\n",
       "    }\n",
       "\n",
       "    .dataframe tbody tr th {\n",
       "        vertical-align: top;\n",
       "    }\n",
       "\n",
       "    .dataframe thead th {\n",
       "        text-align: right;\n",
       "    }\n",
       "</style>\n",
       "<table border=\"1\" class=\"dataframe\">\n",
       "  <thead>\n",
       "    <tr style=\"text-align: right;\">\n",
       "      <th></th>\n",
       "      <th>A</th>\n",
       "      <th>B</th>\n",
       "      <th>C</th>\n",
       "    </tr>\n",
       "  </thead>\n",
       "  <tbody>\n",
       "    <tr>\n",
       "      <th>0</th>\n",
       "      <td>2012-01-01 00:00:00</td>\n",
       "      <td>1.0</td>\n",
       "      <td>0</td>\n",
       "    </tr>\n",
       "    <tr>\n",
       "      <th>1</th>\n",
       "      <td>2012-01-01 01:00:00</td>\n",
       "      <td>1.0</td>\n",
       "      <td>1</td>\n",
       "    </tr>\n",
       "    <tr>\n",
       "      <th>2</th>\n",
       "      <td>2012-01-01 02:00:00</td>\n",
       "      <td>1.0</td>\n",
       "      <td>2</td>\n",
       "    </tr>\n",
       "    <tr>\n",
       "      <th>3</th>\n",
       "      <td>2012-01-01 03:00:00</td>\n",
       "      <td>1.0</td>\n",
       "      <td>3</td>\n",
       "    </tr>\n",
       "    <tr>\n",
       "      <th>4</th>\n",
       "      <td>2012-01-01 04:00:00</td>\n",
       "      <td>1.0</td>\n",
       "      <td>4</td>\n",
       "    </tr>\n",
       "    <tr>\n",
       "      <th>...</th>\n",
       "      <td>...</td>\n",
       "      <td>...</td>\n",
       "      <td>...</td>\n",
       "    </tr>\n",
       "    <tr>\n",
       "      <th>139</th>\n",
       "      <td>2012-01-06 19:00:00</td>\n",
       "      <td>1.0</td>\n",
       "      <td>139</td>\n",
       "    </tr>\n",
       "    <tr>\n",
       "      <th>140</th>\n",
       "      <td>2012-01-06 20:00:00</td>\n",
       "      <td>1.0</td>\n",
       "      <td>140</td>\n",
       "    </tr>\n",
       "    <tr>\n",
       "      <th>141</th>\n",
       "      <td>2012-01-06 21:00:00</td>\n",
       "      <td>1.0</td>\n",
       "      <td>141</td>\n",
       "    </tr>\n",
       "    <tr>\n",
       "      <th>142</th>\n",
       "      <td>2012-01-06 22:00:00</td>\n",
       "      <td>1.0</td>\n",
       "      <td>142</td>\n",
       "    </tr>\n",
       "    <tr>\n",
       "      <th>143</th>\n",
       "      <td>2012-01-06 23:00:00</td>\n",
       "      <td>1.0</td>\n",
       "      <td>143</td>\n",
       "    </tr>\n",
       "  </tbody>\n",
       "</table>\n",
       "<p>144 rows × 3 columns</p>\n",
       "</div>"
      ],
      "text/plain": [
       "                      A    B    C\n",
       "0   2012-01-01 00:00:00  1.0    0\n",
       "1   2012-01-01 01:00:00  1.0    1\n",
       "2   2012-01-01 02:00:00  1.0    2\n",
       "3   2012-01-01 03:00:00  1.0    3\n",
       "4   2012-01-01 04:00:00  1.0    4\n",
       "..                  ...  ...  ...\n",
       "139 2012-01-06 19:00:00  1.0  139\n",
       "140 2012-01-06 20:00:00  1.0  140\n",
       "141 2012-01-06 21:00:00  1.0  141\n",
       "142 2012-01-06 22:00:00  1.0  142\n",
       "143 2012-01-06 23:00:00  1.0  143\n",
       "\n",
       "[144 rows x 3 columns]"
      ]
     },
     "execution_count": 85,
     "metadata": {},
     "output_type": "execute_result"
    }
   ],
   "source": [
    "df"
   ]
  },
  {
   "cell_type": "code",
   "execution_count": 86,
   "id": "ab31e47c-e43f-436e-8a66-910e0e99e358",
   "metadata": {},
   "outputs": [
    {
     "data": {
      "text/html": [
       "<div>\n",
       "<style scoped>\n",
       "    .dataframe tbody tr th:only-of-type {\n",
       "        vertical-align: middle;\n",
       "    }\n",
       "\n",
       "    .dataframe tbody tr th {\n",
       "        vertical-align: top;\n",
       "    }\n",
       "\n",
       "    .dataframe thead th {\n",
       "        text-align: right;\n",
       "    }\n",
       "</style>\n",
       "<table border=\"1\" class=\"dataframe\">\n",
       "  <thead>\n",
       "    <tr style=\"text-align: right;\">\n",
       "      <th></th>\n",
       "      <th>B</th>\n",
       "      <th>C</th>\n",
       "    </tr>\n",
       "    <tr>\n",
       "      <th>A</th>\n",
       "      <th></th>\n",
       "      <th></th>\n",
       "    </tr>\n",
       "  </thead>\n",
       "  <tbody>\n",
       "    <tr>\n",
       "      <th>2012-01-01</th>\n",
       "      <td>24.0</td>\n",
       "      <td>276</td>\n",
       "    </tr>\n",
       "    <tr>\n",
       "      <th>2012-01-02</th>\n",
       "      <td>24.0</td>\n",
       "      <td>852</td>\n",
       "    </tr>\n",
       "    <tr>\n",
       "      <th>2012-01-03</th>\n",
       "      <td>24.0</td>\n",
       "      <td>1428</td>\n",
       "    </tr>\n",
       "    <tr>\n",
       "      <th>2012-01-04</th>\n",
       "      <td>24.0</td>\n",
       "      <td>2004</td>\n",
       "    </tr>\n",
       "    <tr>\n",
       "      <th>2012-01-05</th>\n",
       "      <td>24.0</td>\n",
       "      <td>2580</td>\n",
       "    </tr>\n",
       "    <tr>\n",
       "      <th>2012-01-06</th>\n",
       "      <td>24.0</td>\n",
       "      <td>3156</td>\n",
       "    </tr>\n",
       "  </tbody>\n",
       "</table>\n",
       "</div>"
      ],
      "text/plain": [
       "               B     C\n",
       "A                     \n",
       "2012-01-01  24.0   276\n",
       "2012-01-02  24.0   852\n",
       "2012-01-03  24.0  1428\n",
       "2012-01-04  24.0  2004\n",
       "2012-01-05  24.0  2580\n",
       "2012-01-06  24.0  3156"
      ]
     },
     "execution_count": 86,
     "metadata": {},
     "output_type": "execute_result"
    }
   ],
   "source": [
    "df.resample('1D',on='A').sum()"
   ]
  },
  {
   "cell_type": "code",
   "execution_count": null,
   "id": "4e099758-d71c-4028-a5f6-8182d7597625",
   "metadata": {},
   "outputs": [],
   "source": []
  }
 ],
 "metadata": {
  "kernelspec": {
   "display_name": "anaconda-panel-2023.05-py310",
   "language": "python",
   "name": "conda-env-anaconda-panel-2023.05-py310-py"
  },
  "language_info": {
   "codemirror_mode": {
    "name": "ipython",
    "version": 3
   },
   "file_extension": ".py",
   "mimetype": "text/x-python",
   "name": "python",
   "nbconvert_exporter": "python",
   "pygments_lexer": "ipython3",
   "version": "3.11.4"
  }
 },
 "nbformat": 4,
 "nbformat_minor": 5
}
