{
 "cells": [
  {
   "cell_type": "markdown",
   "id": "e95bdd6f-9cc8-45e4-a2c0-6405a8861b73",
   "metadata": {},
   "source": [
    "# Tenis Data Analysis"
   ]
  },
  {
   "cell_type": "markdown",
   "id": "cc2e3a99-4b43-456e-8ca3-b90625ae3bf5",
   "metadata": {},
   "source": [
    "###### We are going to work with data, so the **very first** thing to do is to understand how to **load** data.\n",
    "\n",
    "###### Data may come in many many formats - and for sure we are not going to cover all the possible scenarios - only the **most common** ones.\n",
    "\n",
    "###### To do so, we are going to introduce one of the most important library in the Python Scientific ecosystem: `pandas`."
   ]
  },
  {
   "cell_type": "code",
   "execution_count": 1,
   "id": "79c2db18-9283-48cb-8355-800cdc5d1629",
   "metadata": {},
   "outputs": [],
   "source": [
    "import pandas as pd\n",
    "import numpy as np"
   ]
  },
  {
   "cell_type": "markdown",
   "id": "f451aa5e-1975-4179-9d55-93ab1b49be9b",
   "metadata": {},
   "source": [
    "### Reading data in CSV\n",
    "\n",
    "###### The CSV (Comma Separated Values) is one of the most popular format of data:\n",
    "###### - each column of data is separated by a comma (or other equivalent and specified separator);\n",
    "###### - the first row of the file may correspond to column headers;\n",
    "###### - the first column of each row may correspond to values of the `row index`.\n",
    "###### To read a file in CSV format, `pandas` provide a built-in `read_csv` function\n",
    "```\n",
    "##### In this case this should be a good way to cast the columns:\n",
    "###### Data columns (total 9 columns):\n",
    "###### #   Column      Non-Null Count  Dtype         \n",
    "##### ---  ------      --------------  -----         \n",
    "###### 0   label       353 non-null    int64         \n",
    "###### 1   reserva     353 non-null    int64         \n",
    "###### 2   fechayhora  353 non-null    datetime64[ns]\n",
    "###### 3   ilumina     353 non-null    category      \n",
    "###### 4   servicio    353 non-null    category      \n",
    "###### 5   mza-lote    353 non-null    category      \n",
    "###### 6   casa        353 non-null    string        \n",
    "###### 7   usuario     353 non-null    category      \n",
    "###### 8   precio      353 non-null    float64   "
   ]
  },
  {
   "cell_type": "code",
   "execution_count": 2,
   "id": "09928cbe-85f7-41f7-b7c5-c71fbea31791",
   "metadata": {},
   "outputs": [],
   "source": [
    "df = pd.read_csv('CanchasDepurado.csv',parse_dates=['fechayhora'], \n",
    "        dtype={'ilumina':'category',  'servicio':'category', 'mza-lote':'category', 'casa':'string', 'usuario':'category'})"
   ]
  },
  {
   "cell_type": "markdown",
   "id": "166b0c19-3e30-4a92-81bc-7fefa10c8936",
   "metadata": {
    "tags": []
   },
   "source": [
    "### Data Set Exploration\n",
    "###### **First general rule of data analysis**: look at the data!"
   ]
  },
  {
   "cell_type": "code",
   "execution_count": 32,
   "id": "d8f8de74-4384-4525-8495-f5e6f77ba9c8",
   "metadata": {
    "tags": []
   },
   "outputs": [
    {
     "data": {
      "text/html": [
       "<div>\n",
       "<style scoped>\n",
       "    .dataframe tbody tr th:only-of-type {\n",
       "        vertical-align: middle;\n",
       "    }\n",
       "\n",
       "    .dataframe tbody tr th {\n",
       "        vertical-align: top;\n",
       "    }\n",
       "\n",
       "    .dataframe thead th {\n",
       "        text-align: right;\n",
       "    }\n",
       "</style>\n",
       "<table border=\"1\" class=\"dataframe\">\n",
       "  <thead>\n",
       "    <tr style=\"text-align: right;\">\n",
       "      <th></th>\n",
       "      <th>reserva</th>\n",
       "      <th>fechayhora</th>\n",
       "      <th>ilumina</th>\n",
       "      <th>servicio</th>\n",
       "      <th>mza-lote</th>\n",
       "      <th>casa</th>\n",
       "      <th>usuario</th>\n",
       "      <th>precio</th>\n",
       "      <th>dayofw</th>\n",
       "      <th>rentime</th>\n",
       "    </tr>\n",
       "  </thead>\n",
       "  <tbody>\n",
       "    <tr>\n",
       "      <th>0</th>\n",
       "      <td>1652644</td>\n",
       "      <td>2020-11-26 16:00:00</td>\n",
       "      <td>SOL</td>\n",
       "      <td>Cancha 1</td>\n",
       "      <td>APROBADA</td>\n",
       "      <td>N-09</td>\n",
       "      <td>Propietario</td>\n",
       "      <td>90.0</td>\n",
       "      <td>3</td>\n",
       "      <td>16:00:00</td>\n",
       "    </tr>\n",
       "    <tr>\n",
       "      <th>1</th>\n",
       "      <td>1687243</td>\n",
       "      <td>2020-12-02 18:00:00</td>\n",
       "      <td>LUZ</td>\n",
       "      <td>Cancha 1</td>\n",
       "      <td>APROBADA</td>\n",
       "      <td>M-03</td>\n",
       "      <td>Invitado</td>\n",
       "      <td>190.0</td>\n",
       "      <td>2</td>\n",
       "      <td>18:00:00</td>\n",
       "    </tr>\n",
       "    <tr>\n",
       "      <th>2</th>\n",
       "      <td>1687608</td>\n",
       "      <td>2020-12-02 19:00:00</td>\n",
       "      <td>LUZ</td>\n",
       "      <td>Cancha 2</td>\n",
       "      <td>APROBADA</td>\n",
       "      <td>H-07</td>\n",
       "      <td>Invitado</td>\n",
       "      <td>190.0</td>\n",
       "      <td>2</td>\n",
       "      <td>19:00:00</td>\n",
       "    </tr>\n",
       "    <tr>\n",
       "      <th>3</th>\n",
       "      <td>1712222</td>\n",
       "      <td>2020-12-04 17:00:00</td>\n",
       "      <td>SOL</td>\n",
       "      <td>Cancha 1</td>\n",
       "      <td>APROBADA</td>\n",
       "      <td>E-08</td>\n",
       "      <td>Invitado</td>\n",
       "      <td>90.0</td>\n",
       "      <td>4</td>\n",
       "      <td>17:00:00</td>\n",
       "    </tr>\n",
       "    <tr>\n",
       "      <th>4</th>\n",
       "      <td>1712511</td>\n",
       "      <td>2020-12-04 18:00:00</td>\n",
       "      <td>LUZ</td>\n",
       "      <td>Cancha 1</td>\n",
       "      <td>APROBADA</td>\n",
       "      <td>PRUEBA</td>\n",
       "      <td>Propietario</td>\n",
       "      <td>190.0</td>\n",
       "      <td>4</td>\n",
       "      <td>18:00:00</td>\n",
       "    </tr>\n",
       "  </tbody>\n",
       "</table>\n",
       "</div>"
      ],
      "text/plain": [
       "   reserva           fechayhora ilumina  servicio  mza-lote    casa  \\\n",
       "0   1652644 2020-11-26 16:00:00     SOL  Cancha 1  APROBADA    N-09   \n",
       "1   1687243 2020-12-02 18:00:00     LUZ  Cancha 1  APROBADA    M-03   \n",
       "2   1687608 2020-12-02 19:00:00     LUZ  Cancha 2  APROBADA    H-07   \n",
       "3   1712222 2020-12-04 17:00:00     SOL  Cancha 1  APROBADA    E-08   \n",
       "4   1712511 2020-12-04 18:00:00     LUZ  Cancha 1  APROBADA  PRUEBA   \n",
       "\n",
       "       usuario  precio  dayofw   rentime  \n",
       "0  Propietario    90.0       3  16:00:00  \n",
       "1     Invitado   190.0       2  18:00:00  \n",
       "2     Invitado   190.0       2  19:00:00  \n",
       "3     Invitado    90.0       4  17:00:00  \n",
       "4  Propietario   190.0       4  18:00:00  "
      ]
     },
     "execution_count": 32,
     "metadata": {},
     "output_type": "execute_result"
    }
   ],
   "source": [
    "pd.set_option('display.max_rows', 10000)  # change presets for data preview\n",
    "# df.head(10000)\n",
    "df.head()"
   ]
  },
  {
   "cell_type": "markdown",
   "id": "c609ab1e-1372-469c-9181-c002ed833744",
   "metadata": {
    "tags": []
   },
   "source": [
    "###### The file looks ok. The prices are well set in the `Tenis Data Wrangling` step. (Look at the .ipynb)\n",
    "###### Let's do a review\n",
    "```"
   ]
  },
  {
   "cell_type": "markdown",
   "id": "43a135cb-fc1d-45bb-adf4-4aa990188d3c",
   "metadata": {},
   "source": [
    "#### Data Set Profile Review"
   ]
  },
  {
   "cell_type": "code",
   "execution_count": 4,
   "id": "8571ac90-4ccf-4c21-97f0-f67e27a5d5b2",
   "metadata": {},
   "outputs": [
    {
     "data": {
      "text/plain": [
       "pandas.core.frame.DataFrame"
      ]
     },
     "execution_count": 4,
     "metadata": {},
     "output_type": "execute_result"
    }
   ],
   "source": [
    "# see with numpy\n",
    "type(df)"
   ]
  },
  {
   "cell_type": "code",
   "execution_count": 5,
   "id": "e6839db4-176d-4255-8735-e0651d33836f",
   "metadata": {},
   "outputs": [
    {
     "name": "stdout",
     "output_type": "stream",
     "text": [
      "<class 'pandas.core.frame.DataFrame'>\n",
      "RangeIndex: 353 entries, 0 to 352\n",
      "Data columns (total 9 columns):\n",
      " #   Column      Non-Null Count  Dtype         \n",
      "---  ------      --------------  -----         \n",
      " 0   label       353 non-null    int64         \n",
      " 1   reserva     353 non-null    int64         \n",
      " 2   fechayhora  353 non-null    datetime64[ns]\n",
      " 3   ilumina     353 non-null    category      \n",
      " 4   servicio    353 non-null    category      \n",
      " 5   mza-lote    353 non-null    category      \n",
      " 6   casa        353 non-null    string        \n",
      " 7   usuario     353 non-null    category      \n",
      " 8   precio      353 non-null    float64       \n",
      "dtypes: category(4), datetime64[ns](1), float64(1), int64(2), string(1)\n",
      "memory usage: 15.6 KB\n"
     ]
    }
   ],
   "source": [
    "# see with pandas method\n",
    "df.info()"
   ]
  },
  {
   "cell_type": "code",
   "execution_count": 6,
   "id": "34f3dff3-a081-4c22-8d03-2c70d3ddc088",
   "metadata": {},
   "outputs": [],
   "source": [
    "# Remove label column that it's not necesary\n",
    "df.drop(['label'], axis=1, inplace =True)"
   ]
  },
  {
   "cell_type": "code",
   "execution_count": 7,
   "id": "9360f43d-d625-4e92-a466-fccb78dc3440",
   "metadata": {},
   "outputs": [
    {
     "data": {
      "text/plain": [
       "<Axes: xlabel='dia', ylabel='cantidad de clases'>"
      ]
     },
     "execution_count": 7,
     "metadata": {},
     "output_type": "execute_result"
    },
    {
     "data": {
      "image/png": "[encoded data removed]",
      "text/plain": [
       "<Figure size 640x480 with 1 Axes>"
      ]
     },
     "metadata": {},
     "output_type": "display_data"
    }
   ],
   "source": [
    "# Classes per day - resample option\n",
    "df_cl = df.resample(\"D\", on='fechayhora').count()\n",
    "df_cl.plot(y='servicio', xlabel='dia', ylabel='cantidad de clases')"
   ]
  },
  {
   "cell_type": "code",
   "execution_count": 8,
   "id": "173a9fdc-4f90-47c0-9700-6892067f1889",
   "metadata": {},
   "outputs": [
    {
     "data": {
      "text/html": [
       "<div>\n",
       "<style scoped>\n",
       "    .dataframe tbody tr th:only-of-type {\n",
       "        vertical-align: middle;\n",
       "    }\n",
       "\n",
       "    .dataframe tbody tr th {\n",
       "        vertical-align: top;\n",
       "    }\n",
       "\n",
       "    .dataframe thead th {\n",
       "        text-align: right;\n",
       "    }\n",
       "</style>\n",
       "<table border=\"1\" class=\"dataframe\">\n",
       "  <thead>\n",
       "    <tr style=\"text-align: right;\">\n",
       "      <th></th>\n",
       "      <th>reserva</th>\n",
       "      <th>ilumina</th>\n",
       "      <th>servicio</th>\n",
       "      <th>mza-lote</th>\n",
       "      <th>casa</th>\n",
       "      <th>usuario</th>\n",
       "      <th>precio</th>\n",
       "    </tr>\n",
       "    <tr>\n",
       "      <th>fechayhora</th>\n",
       "      <th></th>\n",
       "      <th></th>\n",
       "      <th></th>\n",
       "      <th></th>\n",
       "      <th></th>\n",
       "      <th></th>\n",
       "      <th></th>\n",
       "    </tr>\n",
       "  </thead>\n",
       "  <tbody>\n",
       "    <tr>\n",
       "      <th>2021-05-08</th>\n",
       "      <td>3</td>\n",
       "      <td>3</td>\n",
       "      <td>3</td>\n",
       "      <td>3</td>\n",
       "      <td>3</td>\n",
       "      <td>3</td>\n",
       "      <td>3</td>\n",
       "    </tr>\n",
       "    <tr>\n",
       "      <th>2021-07-17</th>\n",
       "      <td>3</td>\n",
       "      <td>3</td>\n",
       "      <td>3</td>\n",
       "      <td>3</td>\n",
       "      <td>3</td>\n",
       "      <td>3</td>\n",
       "      <td>3</td>\n",
       "    </tr>\n",
       "    <tr>\n",
       "      <th>2021-08-29</th>\n",
       "      <td>3</td>\n",
       "      <td>3</td>\n",
       "      <td>3</td>\n",
       "      <td>3</td>\n",
       "      <td>3</td>\n",
       "      <td>3</td>\n",
       "      <td>3</td>\n",
       "    </tr>\n",
       "    <tr>\n",
       "      <th>2021-09-17</th>\n",
       "      <td>4</td>\n",
       "      <td>4</td>\n",
       "      <td>4</td>\n",
       "      <td>4</td>\n",
       "      <td>4</td>\n",
       "      <td>4</td>\n",
       "      <td>4</td>\n",
       "    </tr>\n",
       "    <tr>\n",
       "      <th>2022-01-22</th>\n",
       "      <td>3</td>\n",
       "      <td>3</td>\n",
       "      <td>3</td>\n",
       "      <td>3</td>\n",
       "      <td>3</td>\n",
       "      <td>3</td>\n",
       "      <td>3</td>\n",
       "    </tr>\n",
       "    <tr>\n",
       "      <th>2023-03-02</th>\n",
       "      <td>3</td>\n",
       "      <td>3</td>\n",
       "      <td>3</td>\n",
       "      <td>3</td>\n",
       "      <td>3</td>\n",
       "      <td>3</td>\n",
       "      <td>3</td>\n",
       "    </tr>\n",
       "    <tr>\n",
       "      <th>2023-03-14</th>\n",
       "      <td>14</td>\n",
       "      <td>14</td>\n",
       "      <td>14</td>\n",
       "      <td>14</td>\n",
       "      <td>14</td>\n",
       "      <td>14</td>\n",
       "      <td>14</td>\n",
       "    </tr>\n",
       "    <tr>\n",
       "      <th>2023-06-03</th>\n",
       "      <td>3</td>\n",
       "      <td>3</td>\n",
       "      <td>3</td>\n",
       "      <td>3</td>\n",
       "      <td>3</td>\n",
       "      <td>3</td>\n",
       "      <td>3</td>\n",
       "    </tr>\n",
       "    <tr>\n",
       "      <th>2023-06-17</th>\n",
       "      <td>4</td>\n",
       "      <td>4</td>\n",
       "      <td>4</td>\n",
       "      <td>4</td>\n",
       "      <td>4</td>\n",
       "      <td>4</td>\n",
       "      <td>4</td>\n",
       "    </tr>\n",
       "    <tr>\n",
       "      <th>2023-06-26</th>\n",
       "      <td>3</td>\n",
       "      <td>3</td>\n",
       "      <td>3</td>\n",
       "      <td>3</td>\n",
       "      <td>3</td>\n",
       "      <td>3</td>\n",
       "      <td>3</td>\n",
       "    </tr>\n",
       "    <tr>\n",
       "      <th>2023-06-30</th>\n",
       "      <td>3</td>\n",
       "      <td>3</td>\n",
       "      <td>3</td>\n",
       "      <td>3</td>\n",
       "      <td>3</td>\n",
       "      <td>3</td>\n",
       "      <td>3</td>\n",
       "    </tr>\n",
       "    <tr>\n",
       "      <th>2023-07-08</th>\n",
       "      <td>3</td>\n",
       "      <td>3</td>\n",
       "      <td>3</td>\n",
       "      <td>3</td>\n",
       "      <td>3</td>\n",
       "      <td>3</td>\n",
       "      <td>3</td>\n",
       "    </tr>\n",
       "  </tbody>\n",
       "</table>\n",
       "</div>"
      ],
      "text/plain": [
       "            reserva   ilumina  servicio  mza-lote  casa  usuario  precio\n",
       "fechayhora                                                              \n",
       "2021-05-08         3        3         3         3     3        3       3\n",
       "2021-07-17         3        3         3         3     3        3       3\n",
       "2021-08-29         3        3         3         3     3        3       3\n",
       "2021-09-17         4        4         4         4     4        4       4\n",
       "2022-01-22         3        3         3         3     3        3       3\n",
       "2023-03-02         3        3         3         3     3        3       3\n",
       "2023-03-14        14       14        14        14    14       14      14\n",
       "2023-06-03         3        3         3         3     3        3       3\n",
       "2023-06-17         4        4         4         4     4        4       4\n",
       "2023-06-26         3        3         3         3     3        3       3\n",
       "2023-06-30         3        3         3         3     3        3       3\n",
       "2023-07-08         3        3         3         3     3        3       3"
      ]
     },
     "execution_count": 8,
     "metadata": {},
     "output_type": "execute_result"
    }
   ],
   "source": [
    "df_cl[df_cl['servicio']>2]"
   ]
  },
  {
   "cell_type": "code",
   "execution_count": 9,
   "id": "a38bceab-a5d7-4e07-b0f3-39db0a1b0f8c",
   "metadata": {},
   "outputs": [
    {
     "data": {
      "text/html": [
       "<div>\n",
       "<style scoped>\n",
       "    .dataframe tbody tr th:only-of-type {\n",
       "        vertical-align: middle;\n",
       "    }\n",
       "\n",
       "    .dataframe tbody tr th {\n",
       "        vertical-align: top;\n",
       "    }\n",
       "\n",
       "    .dataframe thead th {\n",
       "        text-align: right;\n",
       "    }\n",
       "</style>\n",
       "<table border=\"1\" class=\"dataframe\">\n",
       "  <thead>\n",
       "    <tr style=\"text-align: right;\">\n",
       "      <th></th>\n",
       "      <th>reserva</th>\n",
       "      <th>fechayhora</th>\n",
       "      <th>ilumina</th>\n",
       "      <th>servicio</th>\n",
       "      <th>mza-lote</th>\n",
       "      <th>casa</th>\n",
       "      <th>usuario</th>\n",
       "      <th>precio</th>\n",
       "    </tr>\n",
       "  </thead>\n",
       "  <tbody>\n",
       "    <tr>\n",
       "      <th>246</th>\n",
       "      <td>7376202</td>\n",
       "      <td>2023-02-06 19:00:00</td>\n",
       "      <td>LUZ</td>\n",
       "      <td>Cancha 1</td>\n",
       "      <td>APROBADA</td>\n",
       "      <td>RV-INT</td>\n",
       "      <td>Propietario</td>\n",
       "      <td>250.0</td>\n",
       "    </tr>\n",
       "    <tr>\n",
       "      <th>264</th>\n",
       "      <td>7600464</td>\n",
       "      <td>2023-03-14 11:00:00</td>\n",
       "      <td>SOL</td>\n",
       "      <td>Cancha 2</td>\n",
       "      <td>APROBADA</td>\n",
       "      <td>RV-INT</td>\n",
       "      <td>Invitado</td>\n",
       "      <td>250.0</td>\n",
       "    </tr>\n",
       "    <tr>\n",
       "      <th>265</th>\n",
       "      <td>7600463</td>\n",
       "      <td>2023-03-14 11:00:00</td>\n",
       "      <td>SOL</td>\n",
       "      <td>Cancha 1</td>\n",
       "      <td>APROBADA</td>\n",
       "      <td>RV-INT</td>\n",
       "      <td>Invitado</td>\n",
       "      <td>250.0</td>\n",
       "    </tr>\n",
       "    <tr>\n",
       "      <th>266</th>\n",
       "      <td>7600466</td>\n",
       "      <td>2023-03-14 12:00:00</td>\n",
       "      <td>SOL</td>\n",
       "      <td>Cancha 2</td>\n",
       "      <td>APROBADA</td>\n",
       "      <td>RV-INT</td>\n",
       "      <td>Invitado</td>\n",
       "      <td>250.0</td>\n",
       "    </tr>\n",
       "    <tr>\n",
       "      <th>267</th>\n",
       "      <td>7600465</td>\n",
       "      <td>2023-03-14 12:00:00</td>\n",
       "      <td>SOL</td>\n",
       "      <td>Cancha 1</td>\n",
       "      <td>APROBADA</td>\n",
       "      <td>RV-INT</td>\n",
       "      <td>Invitado</td>\n",
       "      <td>250.0</td>\n",
       "    </tr>\n",
       "    <tr>\n",
       "      <th>268</th>\n",
       "      <td>7587657</td>\n",
       "      <td>2023-03-14 13:00:00</td>\n",
       "      <td>SOL</td>\n",
       "      <td>Cancha 2</td>\n",
       "      <td>APROBADA</td>\n",
       "      <td>RV-INT</td>\n",
       "      <td>Invitado</td>\n",
       "      <td>250.0</td>\n",
       "    </tr>\n",
       "    <tr>\n",
       "      <th>269</th>\n",
       "      <td>7587656</td>\n",
       "      <td>2023-03-14 13:00:00</td>\n",
       "      <td>SOL</td>\n",
       "      <td>Cancha 1</td>\n",
       "      <td>APROBADA</td>\n",
       "      <td>RV-INT</td>\n",
       "      <td>Propietario</td>\n",
       "      <td>150.0</td>\n",
       "    </tr>\n",
       "    <tr>\n",
       "      <th>270</th>\n",
       "      <td>7587658</td>\n",
       "      <td>2023-03-14 14:00:00</td>\n",
       "      <td>SOL</td>\n",
       "      <td>Cancha 1</td>\n",
       "      <td>APROBADA</td>\n",
       "      <td>RV-INT</td>\n",
       "      <td>Propietario</td>\n",
       "      <td>150.0</td>\n",
       "    </tr>\n",
       "    <tr>\n",
       "      <th>271</th>\n",
       "      <td>7587659</td>\n",
       "      <td>2023-03-14 14:00:00</td>\n",
       "      <td>SOL</td>\n",
       "      <td>Cancha 2</td>\n",
       "      <td>APROBADA</td>\n",
       "      <td>RV-INT</td>\n",
       "      <td>Invitado</td>\n",
       "      <td>250.0</td>\n",
       "    </tr>\n",
       "    <tr>\n",
       "      <th>272</th>\n",
       "      <td>7587661</td>\n",
       "      <td>2023-03-14 15:00:00</td>\n",
       "      <td>SOL</td>\n",
       "      <td>Cancha 2</td>\n",
       "      <td>APROBADA</td>\n",
       "      <td>RV-INT</td>\n",
       "      <td>Invitado</td>\n",
       "      <td>250.0</td>\n",
       "    </tr>\n",
       "    <tr>\n",
       "      <th>273</th>\n",
       "      <td>7587660</td>\n",
       "      <td>2023-03-14 15:00:00</td>\n",
       "      <td>SOL</td>\n",
       "      <td>Cancha 1</td>\n",
       "      <td>APROBADA</td>\n",
       "      <td>RV-INT</td>\n",
       "      <td>Propietario</td>\n",
       "      <td>150.0</td>\n",
       "    </tr>\n",
       "    <tr>\n",
       "      <th>274</th>\n",
       "      <td>7587662</td>\n",
       "      <td>2023-03-14 16:00:00</td>\n",
       "      <td>SOL</td>\n",
       "      <td>Cancha 1</td>\n",
       "      <td>APROBADA</td>\n",
       "      <td>RV-INT</td>\n",
       "      <td>Invitado</td>\n",
       "      <td>250.0</td>\n",
       "    </tr>\n",
       "    <tr>\n",
       "      <th>275</th>\n",
       "      <td>7587663</td>\n",
       "      <td>2023-03-14 16:00:00</td>\n",
       "      <td>SOL</td>\n",
       "      <td>Cancha 2</td>\n",
       "      <td>APROBADA</td>\n",
       "      <td>RV-INT</td>\n",
       "      <td>Propietario</td>\n",
       "      <td>150.0</td>\n",
       "    </tr>\n",
       "    <tr>\n",
       "      <th>276</th>\n",
       "      <td>7587665</td>\n",
       "      <td>2023-03-14 17:00:00</td>\n",
       "      <td>SOL</td>\n",
       "      <td>Cancha 2</td>\n",
       "      <td>APROBADA</td>\n",
       "      <td>RV-INT</td>\n",
       "      <td>Invitado</td>\n",
       "      <td>250.0</td>\n",
       "    </tr>\n",
       "    <tr>\n",
       "      <th>277</th>\n",
       "      <td>7587664</td>\n",
       "      <td>2023-03-14 17:00:00</td>\n",
       "      <td>SOL</td>\n",
       "      <td>Cancha 1</td>\n",
       "      <td>APROBADA</td>\n",
       "      <td>RV-INT</td>\n",
       "      <td>Propietario</td>\n",
       "      <td>150.0</td>\n",
       "    </tr>\n",
       "  </tbody>\n",
       "</table>\n",
       "</div>"
      ],
      "text/plain": [
       "     reserva           fechayhora ilumina  servicio  mza-lote    casa  \\\n",
       "246   7376202 2023-02-06 19:00:00     LUZ  Cancha 1  APROBADA  RV-INT   \n",
       "264   7600464 2023-03-14 11:00:00     SOL  Cancha 2  APROBADA  RV-INT   \n",
       "265   7600463 2023-03-14 11:00:00     SOL  Cancha 1  APROBADA  RV-INT   \n",
       "266   7600466 2023-03-14 12:00:00     SOL  Cancha 2  APROBADA  RV-INT   \n",
       "267   7600465 2023-03-14 12:00:00     SOL  Cancha 1  APROBADA  RV-INT   \n",
       "268   7587657 2023-03-14 13:00:00     SOL  Cancha 2  APROBADA  RV-INT   \n",
       "269   7587656 2023-03-14 13:00:00     SOL  Cancha 1  APROBADA  RV-INT   \n",
       "270   7587658 2023-03-14 14:00:00     SOL  Cancha 1  APROBADA  RV-INT   \n",
       "271   7587659 2023-03-14 14:00:00     SOL  Cancha 2  APROBADA  RV-INT   \n",
       "272   7587661 2023-03-14 15:00:00     SOL  Cancha 2  APROBADA  RV-INT   \n",
       "273   7587660 2023-03-14 15:00:00     SOL  Cancha 1  APROBADA  RV-INT   \n",
       "274   7587662 2023-03-14 16:00:00     SOL  Cancha 1  APROBADA  RV-INT   \n",
       "275   7587663 2023-03-14 16:00:00     SOL  Cancha 2  APROBADA  RV-INT   \n",
       "276   7587665 2023-03-14 17:00:00     SOL  Cancha 2  APROBADA  RV-INT   \n",
       "277   7587664 2023-03-14 17:00:00     SOL  Cancha 1  APROBADA  RV-INT   \n",
       "\n",
       "         usuario  precio  \n",
       "246  Propietario   250.0  \n",
       "264     Invitado   250.0  \n",
       "265     Invitado   250.0  \n",
       "266     Invitado   250.0  \n",
       "267     Invitado   250.0  \n",
       "268     Invitado   250.0  \n",
       "269  Propietario   150.0  \n",
       "270  Propietario   150.0  \n",
       "271     Invitado   250.0  \n",
       "272     Invitado   250.0  \n",
       "273  Propietario   150.0  \n",
       "274     Invitado   250.0  \n",
       "275  Propietario   150.0  \n",
       "276     Invitado   250.0  \n",
       "277  Propietario   150.0  "
      ]
     },
     "execution_count": 9,
     "metadata": {},
     "output_type": "execute_result"
    }
   ],
   "source": [
    "df_RV_INT = df[df['casa'] == \"RV-INT\"]\n",
    "df_RV_INT"
   ]
  },
  {
   "cell_type": "code",
   "execution_count": 10,
   "id": "16fff4ca-86ee-43db-9440-ece6ef3b484c",
   "metadata": {},
   "outputs": [
    {
     "data": {
      "text/html": [
       "<div>\n",
       "<style scoped>\n",
       "    .dataframe tbody tr th:only-of-type {\n",
       "        vertical-align: middle;\n",
       "    }\n",
       "\n",
       "    .dataframe tbody tr th {\n",
       "        vertical-align: top;\n",
       "    }\n",
       "\n",
       "    .dataframe thead th {\n",
       "        text-align: right;\n",
       "    }\n",
       "</style>\n",
       "<table border=\"1\" class=\"dataframe\">\n",
       "  <thead>\n",
       "    <tr style=\"text-align: right;\">\n",
       "      <th></th>\n",
       "      <th>count</th>\n",
       "      <th>sum</th>\n",
       "    </tr>\n",
       "    <tr>\n",
       "      <th>fechayhora</th>\n",
       "      <th></th>\n",
       "      <th></th>\n",
       "    </tr>\n",
       "  </thead>\n",
       "  <tbody>\n",
       "    <tr>\n",
       "      <th>2020</th>\n",
       "      <td>16</td>\n",
       "      <td>2540.0</td>\n",
       "    </tr>\n",
       "    <tr>\n",
       "      <th>2021</th>\n",
       "      <td>154</td>\n",
       "      <td>21200.0</td>\n",
       "    </tr>\n",
       "    <tr>\n",
       "      <th>2022</th>\n",
       "      <td>65</td>\n",
       "      <td>8900.0</td>\n",
       "    </tr>\n",
       "    <tr>\n",
       "      <th>2023</th>\n",
       "      <td>118</td>\n",
       "      <td>26100.0</td>\n",
       "    </tr>\n",
       "  </tbody>\n",
       "</table>\n",
       "</div>"
      ],
      "text/plain": [
       "            count      sum\n",
       "fechayhora                \n",
       "2020           16   2540.0\n",
       "2021          154  21200.0\n",
       "2022           65   8900.0\n",
       "2023          118  26100.0"
      ]
     },
     "execution_count": 10,
     "metadata": {},
     "output_type": "execute_result"
    }
   ],
   "source": [
    "# Classes and Income per day - option groupby\n",
    "# df_cin = df.groupby(['fechayhora']).sum('precio')\n",
    "df_cin = df.groupby(df['fechayhora'].dt.year)['precio'].agg(['count','sum'])\n",
    "df_cin"
   ]
  },
  {
   "cell_type": "code",
   "execution_count": 11,
   "id": "06f7694c-ad0e-4294-afc8-4c710db2cf19",
   "metadata": {},
   "outputs": [
    {
     "data": {
      "text/plain": [
       "fechayhora\n",
       "2020     2540.0\n",
       "2021    21200.0\n",
       "2022     8900.0\n",
       "2023    26100.0\n",
       "Name: sum, dtype: float64"
      ]
     },
     "execution_count": 11,
     "metadata": {},
     "output_type": "execute_result"
    },
    {
     "data": {
      "image/png": "[encoded data removed]",
      "text/plain": [
       "<Figure size 640x480 with 1 Axes>"
      ]
     },
     "metadata": {},
     "output_type": "display_data"
    }
   ],
   "source": [
    "df_cin['sum'].plot.bar(xlabel='year', ylabel='income')\n",
    "df_cin['sum']"
   ]
  },
  {
   "cell_type": "code",
   "execution_count": 12,
   "id": "2f6a49d0-5250-437e-b7b5-7cc51b726c3a",
   "metadata": {},
   "outputs": [
    {
     "data": {
      "text/html": [
       "<div>\n",
       "<style scoped>\n",
       "    .dataframe tbody tr th:only-of-type {\n",
       "        vertical-align: middle;\n",
       "    }\n",
       "\n",
       "    .dataframe tbody tr th {\n",
       "        vertical-align: top;\n",
       "    }\n",
       "\n",
       "    .dataframe thead th {\n",
       "        text-align: right;\n",
       "    }\n",
       "</style>\n",
       "<table border=\"1\" class=\"dataframe\">\n",
       "  <thead>\n",
       "    <tr style=\"text-align: right;\">\n",
       "      <th></th>\n",
       "      <th>count</th>\n",
       "      <th>sum</th>\n",
       "    </tr>\n",
       "    <tr>\n",
       "      <th>fechayhora</th>\n",
       "      <th></th>\n",
       "      <th></th>\n",
       "    </tr>\n",
       "  </thead>\n",
       "  <tbody>\n",
       "    <tr>\n",
       "      <th>2020</th>\n",
       "      <td>16</td>\n",
       "      <td>2540.0</td>\n",
       "    </tr>\n",
       "    <tr>\n",
       "      <th>2021</th>\n",
       "      <td>170</td>\n",
       "      <td>23740.0</td>\n",
       "    </tr>\n",
       "    <tr>\n",
       "      <th>2022</th>\n",
       "      <td>235</td>\n",
       "      <td>32640.0</td>\n",
       "    </tr>\n",
       "    <tr>\n",
       "      <th>2023</th>\n",
       "      <td>353</td>\n",
       "      <td>58740.0</td>\n",
       "    </tr>\n",
       "  </tbody>\n",
       "</table>\n",
       "</div>"
      ],
      "text/plain": [
       "            count      sum\n",
       "fechayhora                \n",
       "2020           16   2540.0\n",
       "2021          170  23740.0\n",
       "2022          235  32640.0\n",
       "2023          353  58740.0"
      ]
     },
     "execution_count": 12,
     "metadata": {},
     "output_type": "execute_result"
    }
   ],
   "source": [
    "df_cin2 = df_cin.cumsum()\n",
    "df_cin2"
   ]
  },
  {
   "cell_type": "code",
   "execution_count": 13,
   "id": "df69f213-1cf4-4f4d-85bf-384aa4355827",
   "metadata": {},
   "outputs": [
    {
     "data": {
      "text/plain": [
       "<Axes: xlabel='year', ylabel='acumulated income'>"
      ]
     },
     "execution_count": 13,
     "metadata": {},
     "output_type": "execute_result"
    },
    {
     "data": {
      "image/png": "[encoded data removed]",
      "text/plain": [
       "<Figure size 640x480 with 1 Axes>"
      ]
     },
     "metadata": {},
     "output_type": "display_data"
    }
   ],
   "source": [
    "df_cin2['sum'].plot.bar(xlabel='year', ylabel='acumulated income')"
   ]
  },
  {
   "cell_type": "code",
   "execution_count": 14,
   "id": "f3e50a03-d74b-4f41-a2e6-4fcd0ac764ac",
   "metadata": {},
   "outputs": [
    {
     "data": {
      "text/plain": [
       "fechayhora\n",
       "2020     16\n",
       "2021    154\n",
       "2022     65\n",
       "2023    118\n",
       "Name: count, dtype: int64"
      ]
     },
     "execution_count": 14,
     "metadata": {},
     "output_type": "execute_result"
    },
    {
     "data": {
      "image/png": "[encoded data removed]",
      "text/plain": [
       "<Figure size 640x480 with 1 Axes>"
      ]
     },
     "metadata": {},
     "output_type": "display_data"
    }
   ],
   "source": [
    "df_cin['count'].plot.bar(xlabel='year', ylabel='count')\n",
    "df_cin['count']"
   ]
  },
  {
   "cell_type": "code",
   "execution_count": 15,
   "id": "fcfc81dd-f570-4b05-b571-313053e95fd1",
   "metadata": {},
   "outputs": [
    {
     "data": {
      "text/html": [
       "<div>\n",
       "<style scoped>\n",
       "    .dataframe tbody tr th:only-of-type {\n",
       "        vertical-align: middle;\n",
       "    }\n",
       "\n",
       "    .dataframe tbody tr th {\n",
       "        vertical-align: top;\n",
       "    }\n",
       "\n",
       "    .dataframe thead th {\n",
       "        text-align: right;\n",
       "    }\n",
       "</style>\n",
       "<table border=\"1\" class=\"dataframe\">\n",
       "  <thead>\n",
       "    <tr style=\"text-align: right;\">\n",
       "      <th></th>\n",
       "      <th>reserva</th>\n",
       "      <th>fechayhora</th>\n",
       "      <th>ilumina</th>\n",
       "      <th>servicio</th>\n",
       "      <th>mza-lote</th>\n",
       "      <th>casa</th>\n",
       "      <th>usuario</th>\n",
       "      <th>precio</th>\n",
       "    </tr>\n",
       "  </thead>\n",
       "  <tbody>\n",
       "    <tr>\n",
       "      <th>0</th>\n",
       "      <td>1652644</td>\n",
       "      <td>2020-11-26 16:00:00</td>\n",
       "      <td>SOL</td>\n",
       "      <td>Cancha 1</td>\n",
       "      <td>APROBADA</td>\n",
       "      <td>N-09</td>\n",
       "      <td>Propietario</td>\n",
       "      <td>90.0</td>\n",
       "    </tr>\n",
       "    <tr>\n",
       "      <th>1</th>\n",
       "      <td>1687243</td>\n",
       "      <td>2020-12-02 18:00:00</td>\n",
       "      <td>LUZ</td>\n",
       "      <td>Cancha 1</td>\n",
       "      <td>APROBADA</td>\n",
       "      <td>M-03</td>\n",
       "      <td>Invitado</td>\n",
       "      <td>190.0</td>\n",
       "    </tr>\n",
       "    <tr>\n",
       "      <th>2</th>\n",
       "      <td>1687608</td>\n",
       "      <td>2020-12-02 19:00:00</td>\n",
       "      <td>LUZ</td>\n",
       "      <td>Cancha 2</td>\n",
       "      <td>APROBADA</td>\n",
       "      <td>H-07</td>\n",
       "      <td>Invitado</td>\n",
       "      <td>190.0</td>\n",
       "    </tr>\n",
       "    <tr>\n",
       "      <th>3</th>\n",
       "      <td>1712222</td>\n",
       "      <td>2020-12-04 17:00:00</td>\n",
       "      <td>SOL</td>\n",
       "      <td>Cancha 1</td>\n",
       "      <td>APROBADA</td>\n",
       "      <td>E-08</td>\n",
       "      <td>Invitado</td>\n",
       "      <td>90.0</td>\n",
       "    </tr>\n",
       "    <tr>\n",
       "      <th>4</th>\n",
       "      <td>1712511</td>\n",
       "      <td>2020-12-04 18:00:00</td>\n",
       "      <td>LUZ</td>\n",
       "      <td>Cancha 1</td>\n",
       "      <td>APROBADA</td>\n",
       "      <td>PRUEBA</td>\n",
       "      <td>Propietario</td>\n",
       "      <td>190.0</td>\n",
       "    </tr>\n",
       "  </tbody>\n",
       "</table>\n",
       "</div>"
      ],
      "text/plain": [
       "   reserva           fechayhora ilumina  servicio  mza-lote    casa  \\\n",
       "0   1652644 2020-11-26 16:00:00     SOL  Cancha 1  APROBADA    N-09   \n",
       "1   1687243 2020-12-02 18:00:00     LUZ  Cancha 1  APROBADA    M-03   \n",
       "2   1687608 2020-12-02 19:00:00     LUZ  Cancha 2  APROBADA    H-07   \n",
       "3   1712222 2020-12-04 17:00:00     SOL  Cancha 1  APROBADA    E-08   \n",
       "4   1712511 2020-12-04 18:00:00     LUZ  Cancha 1  APROBADA  PRUEBA   \n",
       "\n",
       "       usuario  precio  \n",
       "0  Propietario    90.0  \n",
       "1     Invitado   190.0  \n",
       "2     Invitado   190.0  \n",
       "3     Invitado    90.0  \n",
       "4  Propietario   190.0  "
      ]
     },
     "execution_count": 15,
     "metadata": {},
     "output_type": "execute_result"
    }
   ],
   "source": [
    "df.head()"
   ]
  },
  {
   "cell_type": "code",
   "execution_count": 16,
   "id": "020a0186-d6a8-491a-9d4a-213c9067b001",
   "metadata": {},
   "outputs": [],
   "source": [
    "df['dayofw']=df['fechayhora'].dt.dayofweek\n",
    "df_dow = df['dayofw']"
   ]
  },
  {
   "cell_type": "code",
   "execution_count": 17,
   "id": "38d93ee9-9bc1-446b-a43b-620dbb8b6c9a",
   "metadata": {},
   "outputs": [
    {
     "data": {
      "text/plain": [
       "Index(['reserva ', 'fechayhora', 'ilumina', 'servicio', 'mza-lote', 'casa',\n",
       "       'usuario', 'precio'],\n",
       "      dtype='object')"
      ]
     },
     "execution_count": 17,
     "metadata": {},
     "output_type": "execute_result"
    }
   ],
   "source": [
    "df_do_w = df.groupby('dayofw').count()\n",
    "df_do_w.columns"
   ]
  },
  {
   "cell_type": "code",
   "execution_count": 18,
   "id": "f62c86e7-dffc-4d7f-8d3b-2d277b00baab",
   "metadata": {},
   "outputs": [],
   "source": [
    "df_do_w.drop(['reserva ', 'fechayhora', 'ilumina', 'servicio', 'casa',\n",
    "       'usuario', 'precio'], axis=1, inplace=True)"
   ]
  },
  {
   "cell_type": "code",
   "execution_count": 19,
   "id": "7c58a6d4-849c-4120-9183-1858e352ceec",
   "metadata": {},
   "outputs": [],
   "source": [
    "df_do_w.rename(columns={'mza-lote': 'rents'}, inplace=True)\n",
    "df_do_w['dayname'] = ['mon', 'tues', 'wed', 'thu', 'fry', 'sat', 'sun']"
   ]
  },
  {
   "cell_type": "code",
   "execution_count": 20,
   "id": "d5c9fc84-0855-42d2-b1ac-673cfbaadcd0",
   "metadata": {},
   "outputs": [
    {
     "data": {
      "text/html": [
       "<div>\n",
       "<style scoped>\n",
       "    .dataframe tbody tr th:only-of-type {\n",
       "        vertical-align: middle;\n",
       "    }\n",
       "\n",
       "    .dataframe tbody tr th {\n",
       "        vertical-align: top;\n",
       "    }\n",
       "\n",
       "    .dataframe thead th {\n",
       "        text-align: right;\n",
       "    }\n",
       "</style>\n",
       "<table border=\"1\" class=\"dataframe\">\n",
       "  <thead>\n",
       "    <tr style=\"text-align: right;\">\n",
       "      <th></th>\n",
       "      <th>rents</th>\n",
       "      <th>dayname</th>\n",
       "    </tr>\n",
       "    <tr>\n",
       "      <th>dayofw</th>\n",
       "      <th></th>\n",
       "      <th></th>\n",
       "    </tr>\n",
       "  </thead>\n",
       "  <tbody>\n",
       "    <tr>\n",
       "      <th>0</th>\n",
       "      <td>51</td>\n",
       "      <td>mon</td>\n",
       "    </tr>\n",
       "    <tr>\n",
       "      <th>1</th>\n",
       "      <td>48</td>\n",
       "      <td>tues</td>\n",
       "    </tr>\n",
       "    <tr>\n",
       "      <th>2</th>\n",
       "      <td>45</td>\n",
       "      <td>wed</td>\n",
       "    </tr>\n",
       "    <tr>\n",
       "      <th>3</th>\n",
       "      <td>27</td>\n",
       "      <td>thu</td>\n",
       "    </tr>\n",
       "    <tr>\n",
       "      <th>4</th>\n",
       "      <td>62</td>\n",
       "      <td>fry</td>\n",
       "    </tr>\n",
       "    <tr>\n",
       "      <th>5</th>\n",
       "      <td>81</td>\n",
       "      <td>sat</td>\n",
       "    </tr>\n",
       "    <tr>\n",
       "      <th>6</th>\n",
       "      <td>39</td>\n",
       "      <td>sun</td>\n",
       "    </tr>\n",
       "  </tbody>\n",
       "</table>\n",
       "</div>"
      ],
      "text/plain": [
       "        rents dayname\n",
       "dayofw               \n",
       "0          51     mon\n",
       "1          48    tues\n",
       "2          45     wed\n",
       "3          27     thu\n",
       "4          62     fry\n",
       "5          81     sat\n",
       "6          39     sun"
      ]
     },
     "execution_count": 20,
     "metadata": {},
     "output_type": "execute_result"
    }
   ],
   "source": [
    "df_do_w"
   ]
  },
  {
   "cell_type": "code",
   "execution_count": 21,
   "id": "1faf6e3c-872c-4751-bba6-4c28cb984ef8",
   "metadata": {},
   "outputs": [
    {
     "data": {
      "text/plain": [
       "<Axes: xlabel='día', ylabel='N° alquileres'>"
      ]
     },
     "execution_count": 21,
     "metadata": {},
     "output_type": "execute_result"
    },
    {
     "data": {
      "image/png": "[encoded data removed]",
      "text/plain": [
       "<Figure size 640x480 with 1 Axes>"
      ]
     },
     "metadata": {},
     "output_type": "display_data"
    }
   ],
   "source": [
    "df_do_w.plot(x='dayname', xlabel='día', ylabel='N° alquileres')"
   ]
  },
  {
   "cell_type": "code",
   "execution_count": 22,
   "id": "6ce96338-c4f6-4772-a271-8508be9d9727",
   "metadata": {},
   "outputs": [],
   "source": [
    "# Count how many classes per hour\n",
    "# df.groupby(df['fechayhora'].dt.dayofweek).all()\n",
    "# df2= df.groupby(df['fechayhora'].dt.dayofweek)['fechayhora']\n",
    "# df2"
   ]
  },
  {
   "cell_type": "code",
   "execution_count": 23,
   "id": "4839b78c-509d-4400-8675-aec1a06ec25c",
   "metadata": {},
   "outputs": [],
   "source": [
    "df.merge(df_do_w, how='left', on='dayofw')\n",
    "df['rentime'] = df['fechayhora'].dt.time\n",
    "# df.head()"
   ]
  },
  {
   "cell_type": "code",
   "execution_count": 24,
   "id": "ab75ac58-21d3-43f9-99eb-2f66bd5a3d15",
   "metadata": {},
   "outputs": [
    {
     "data": {
      "text/plain": [
       "dayofw  rentime \n",
       "0       09:00:00     1\n",
       "        10:00:00     3\n",
       "        11:00:00     2\n",
       "        12:00:00     2\n",
       "        14:00:00     1\n",
       "        15:00:00    12\n",
       "        16:00:00     1\n",
       "        17:00:00     5\n",
       "        18:00:00    14\n",
       "        19:00:00     8\n",
       "        20:00:00     2\n",
       "1       08:00:00     2\n",
       "        10:00:00     1\n",
       "        11:00:00     3\n",
       "        12:00:00     3\n",
       "        13:00:00     2\n",
       "        14:00:00     2\n",
       "        15:00:00     9\n",
       "        16:00:00     3\n",
       "        17:00:00     4\n",
       "        18:00:00     5\n",
       "        19:00:00     9\n",
       "Name: casa, dtype: int64"
      ]
     },
     "execution_count": 24,
     "metadata": {},
     "output_type": "execute_result"
    }
   ],
   "source": [
    "df_freq_days = df.groupby([df['dayofw'], df['rentime']])['casa'].count()\n",
    "df_freq_days.head(22)"
   ]
  },
  {
   "cell_type": "code",
   "execution_count": 30,
   "id": "1c5f3f7b-1dd4-48ba-b80a-37158daf1751",
   "metadata": {},
   "outputs": [
    {
     "data": {
      "text/plain": [
       "<Axes: xlabel='dayofw,rentime'>"
      ]
     },
     "execution_count": 30,
     "metadata": {},
     "output_type": "execute_result"
    },
    {
     "data": {
      "image/png": "[encoded data removed]",
      "text/plain": [
       "<Figure size 640x480 with 1 Axes>"
      ]
     },
     "metadata": {},
     "output_type": "display_data"
    }
   ],
   "source": [
    "df_freq_days.plot.bar()"
   ]
  },
  {
   "cell_type": "code",
   "execution_count": 26,
   "id": "14e8d636-3611-470c-9b98-9e3059ec25c0",
   "metadata": {},
   "outputs": [
    {
     "data": {
      "text/plain": [
       "rentime\n",
       "08:00:00     3\n",
       "09:00:00    14\n",
       "10:00:00    15\n",
       "11:00:00    26\n",
       "12:00:00    28\n",
       "13:00:00     9\n",
       "14:00:00     6\n",
       "15:00:00    46\n",
       "16:00:00    29\n",
       "17:00:00    52\n",
       "18:00:00    63\n",
       "19:00:00    41\n",
       "20:00:00    21\n",
       "Name: casa, dtype: int64"
      ]
     },
     "execution_count": 26,
     "metadata": {},
     "output_type": "execute_result"
    }
   ],
   "source": [
    "df_freq_hours = df.groupby([df['rentime']])['casa'].count()\n",
    "df_freq_hours.head(22)"
   ]
  },
  {
   "cell_type": "code",
   "execution_count": 28,
   "id": "725c452f-8fc6-40db-8df3-3856acbcd7f5",
   "metadata": {},
   "outputs": [
    {
     "data": {
      "text/plain": [
       "<Axes: xlabel='rentime'>"
      ]
     },
     "execution_count": 28,
     "metadata": {},
     "output_type": "execute_result"
    },
    {
     "data": {
      "image/png": "[encoded data removed]",
      "text/plain": [
       "<Figure size 640x480 with 1 Axes>"
      ]
     },
     "metadata": {},
     "output_type": "display_data"
    }
   ],
   "source": [
    "df_freq_hours.plot.bar()"
   ]
  },
  {
   "cell_type": "code",
   "execution_count": 81,
   "id": "cc5b6dae-ef77-4549-938a-035598bb60bd",
   "metadata": {},
   "outputs": [],
   "source": [
    "df_freq_mon = df.groupby(['dayofw', 'rentime'])['casa'].count()"
   ]
  },
  {
   "cell_type": "code",
   "execution_count": 80,
   "id": "5015a1e3-cbcf-4634-a938-b1d5cf3537d3",
   "metadata": {},
   "outputs": [
    {
     "data": {
      "text/html": [
       "<div>\n",
       "<style scoped>\n",
       "    .dataframe tbody tr th:only-of-type {\n",
       "        vertical-align: middle;\n",
       "    }\n",
       "\n",
       "    .dataframe tbody tr th {\n",
       "        vertical-align: top;\n",
       "    }\n",
       "\n",
       "    .dataframe thead th {\n",
       "        text-align: right;\n",
       "    }\n",
       "</style>\n",
       "<table border=\"1\" class=\"dataframe\">\n",
       "  <thead>\n",
       "    <tr style=\"text-align: right;\">\n",
       "      <th></th>\n",
       "      <th>reserva</th>\n",
       "      <th>fechayhora</th>\n",
       "      <th>ilumina</th>\n",
       "      <th>servicio</th>\n",
       "      <th>mza-lote</th>\n",
       "      <th>casa</th>\n",
       "      <th>usuario</th>\n",
       "      <th>precio</th>\n",
       "      <th>dayofw</th>\n",
       "      <th>rentime</th>\n",
       "    </tr>\n",
       "  </thead>\n",
       "  <tbody>\n",
       "    <tr>\n",
       "      <th>0</th>\n",
       "      <td>1652644</td>\n",
       "      <td>2020-11-26 16:00:00</td>\n",
       "      <td>SOL</td>\n",
       "      <td>Cancha 1</td>\n",
       "      <td>APROBADA</td>\n",
       "      <td>N-09</td>\n",
       "      <td>Propietario</td>\n",
       "      <td>90.0</td>\n",
       "      <td>3</td>\n",
       "      <td>16:00:00</td>\n",
       "    </tr>\n",
       "    <tr>\n",
       "      <th>1</th>\n",
       "      <td>1687243</td>\n",
       "      <td>2020-12-02 18:00:00</td>\n",
       "      <td>LUZ</td>\n",
       "      <td>Cancha 1</td>\n",
       "      <td>APROBADA</td>\n",
       "      <td>M-03</td>\n",
       "      <td>Invitado</td>\n",
       "      <td>190.0</td>\n",
       "      <td>2</td>\n",
       "      <td>18:00:00</td>\n",
       "    </tr>\n",
       "    <tr>\n",
       "      <th>2</th>\n",
       "      <td>1687608</td>\n",
       "      <td>2020-12-02 19:00:00</td>\n",
       "      <td>LUZ</td>\n",
       "      <td>Cancha 2</td>\n",
       "      <td>APROBADA</td>\n",
       "      <td>H-07</td>\n",
       "      <td>Invitado</td>\n",
       "      <td>190.0</td>\n",
       "      <td>2</td>\n",
       "      <td>19:00:00</td>\n",
       "    </tr>\n",
       "    <tr>\n",
       "      <th>3</th>\n",
       "      <td>1712222</td>\n",
       "      <td>2020-12-04 17:00:00</td>\n",
       "      <td>SOL</td>\n",
       "      <td>Cancha 1</td>\n",
       "      <td>APROBADA</td>\n",
       "      <td>E-08</td>\n",
       "      <td>Invitado</td>\n",
       "      <td>90.0</td>\n",
       "      <td>4</td>\n",
       "      <td>17:00:00</td>\n",
       "    </tr>\n",
       "    <tr>\n",
       "      <th>4</th>\n",
       "      <td>1712511</td>\n",
       "      <td>2020-12-04 18:00:00</td>\n",
       "      <td>LUZ</td>\n",
       "      <td>Cancha 1</td>\n",
       "      <td>APROBADA</td>\n",
       "      <td>PRUEBA</td>\n",
       "      <td>Propietario</td>\n",
       "      <td>190.0</td>\n",
       "      <td>4</td>\n",
       "      <td>18:00:00</td>\n",
       "    </tr>\n",
       "  </tbody>\n",
       "</table>\n",
       "</div>"
      ],
      "text/plain": [
       "   reserva           fechayhora ilumina  servicio  mza-lote    casa  \\\n",
       "0   1652644 2020-11-26 16:00:00     SOL  Cancha 1  APROBADA    N-09   \n",
       "1   1687243 2020-12-02 18:00:00     LUZ  Cancha 1  APROBADA    M-03   \n",
       "2   1687608 2020-12-02 19:00:00     LUZ  Cancha 2  APROBADA    H-07   \n",
       "3   1712222 2020-12-04 17:00:00     SOL  Cancha 1  APROBADA    E-08   \n",
       "4   1712511 2020-12-04 18:00:00     LUZ  Cancha 1  APROBADA  PRUEBA   \n",
       "\n",
       "       usuario  precio  dayofw   rentime  \n",
       "0  Propietario    90.0       3  16:00:00  \n",
       "1     Invitado   190.0       2  18:00:00  \n",
       "2     Invitado   190.0       2  19:00:00  \n",
       "3     Invitado    90.0       4  17:00:00  \n",
       "4  Propietario   190.0       4  18:00:00  "
      ]
     },
     "execution_count": 80,
     "metadata": {},
     "output_type": "execute_result"
    }
   ],
   "source": [
    "df.head()"
   ]
  },
  {
   "cell_type": "code",
   "execution_count": 89,
   "id": "76b7d5bc-a89c-42a4-843a-95c71178db90",
   "metadata": {},
   "outputs": [
    {
     "data": {
      "text/plain": [
       "fechayhora           servicio\n",
       "2020-11-26 16:00:00  Cancha 1    1\n",
       "                     Cancha 2    0\n",
       "Name: servicio, dtype: int64"
      ]
     },
     "execution_count": 89,
     "metadata": {},
     "output_type": "execute_result"
    }
   ],
   "source": [
    "df_s=df.groupby(['fechayhora','servicio'])['servicio'].count()\n",
    "df_s.head(2)"
   ]
  },
  {
   "cell_type": "code",
   "execution_count": 122,
   "id": "549c865e-2d45-4718-aff1-b81792382538",
   "metadata": {},
   "outputs": [
    {
     "data": {
      "text/plain": [
       "fechayhora\n",
       "2021-02-01 18:00:00    2\n",
       "2021-06-27 16:00:00    2\n",
       "2021-09-22 18:00:00    2\n",
       "2022-01-22 19:00:00    2\n",
       "2022-04-15 11:00:00    2\n",
       "2023-03-02 18:00:00    2\n",
       "2023-03-14 11:00:00    2\n",
       "2023-03-14 12:00:00    2\n",
       "2023-03-14 13:00:00    2\n",
       "2023-03-14 14:00:00    2\n",
       "2023-03-14 15:00:00    2\n",
       "2023-03-14 16:00:00    2\n",
       "2023-03-14 17:00:00    2\n",
       "2023-06-03 17:00:00    2\n",
       "2023-06-17 15:00:00    2\n",
       "2023-06-17 16:00:00    2\n",
       "2023-06-26 18:00:00    2\n",
       "2023-07-08 16:00:00    2\n",
       "Name: servicio, dtype: int64"
      ]
     },
     "execution_count": 122,
     "metadata": {},
     "output_type": "execute_result"
    }
   ],
   "source": [
    "df_s2=df_s.groupby(level='fechayhora').sum()\n",
    "df_s2=df_s2[df_s2 > 1]\n",
    "df_s2"
   ]
  },
  {
   "cell_type": "code",
   "execution_count": 120,
   "id": "f7ecc498-363d-417a-b6a3-7a0f1a23668b",
   "metadata": {},
   "outputs": [
    {
     "data": {
      "text/plain": [
       "18"
      ]
     },
     "execution_count": 120,
     "metadata": {},
     "output_type": "execute_result"
    }
   ],
   "source": [
    "len(df_s2)"
   ]
  },
  {
   "cell_type": "code",
   "execution_count": 121,
   "id": "607ceef3-0429-4576-b395-73a9110e542e",
   "metadata": {},
   "outputs": [
    {
     "data": {
      "text/plain": [
       "0.05099150141643059"
      ]
     },
     "execution_count": 121,
     "metadata": {},
     "output_type": "execute_result"
    }
   ],
   "source": [
    "len(df_s2)/len(df)"
   ]
  },
  {
   "cell_type": "markdown",
   "id": "302b84ea-f6db-49f3-acbd-ea0ffc170333",
   "metadata": {},
   "source": [
    "a) Cantidad de días/horas desde el inicio de las actividades:\n",
    "b) Cantidad de días/horas que se han usado las canchas:\n",
    "c) % días/horas de uso de las canchas\n",
    "d) Costos de mantenimiento\n",
    "    d.1 (materiales y mo terceros)\n",
    "    d.2 (materiales y mo propia)"
   ]
  },
  {
   "cell_type": "code",
   "execution_count": null,
   "id": "efe654fe-8b17-475b-953e-d28cad2e7dab",
   "metadata": {},
   "outputs": [],
   "source": []
  }
 ],
 "metadata": {
  "kernelspec": {
   "display_name": "anaconda-panel-2023.05-py310",
   "language": "python",
   "name": "conda-env-anaconda-panel-2023.05-py310-py"
  },
  "language_info": {
   "codemirror_mode": {
    "name": "ipython",
    "version": 3
   },
   "file_extension": ".py",
   "mimetype": "text/x-python",
   "name": "python",
   "nbconvert_exporter": "python",
   "pygments_lexer": "ipython3",
   "version": "3.11.4"
  }
 },
 "nbformat": 4,
 "nbformat_minor": 5
}
